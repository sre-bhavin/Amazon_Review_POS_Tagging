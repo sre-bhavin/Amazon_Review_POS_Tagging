{
  "cells": [
    {
      "cell_type": "markdown",
      "metadata": {
        "id": "view-in-github",
        "colab_type": "text"
      },
      "source": [
        "<a href=\"https://colab.research.google.com/github/sre-bhavin/Amazon_Review_POS_Tagging/blob/main/New_Assignment1_ProblemStatement20_Group215_AmazonReview.ipynb\" target=\"_parent\"><img src=\"https://colab.research.google.com/assets/colab-badge.svg\" alt=\"Open In Colab\"/></a>"
      ]
    },
    {
      "cell_type": "markdown",
      "metadata": {
        "id": "uR0oAITvK3_E"
      },
      "source": [
        "# NLP (AIMLCZG530) - Assignment 1 - Problem Statement 20 - Group 215\n",
        "---\n",
        "## Team Members & Contribution\n",
        "\n",
        "| Student ID | Student Name | Contribution % |\n",
        "|---|---|---|\n",
        "| 2024aa05899 | Bhavin Arvindkumar Shah | 20% |\n",
        "| xx | xx | 20% |\n",
        "| xx | xx | 20% |\n",
        "| xx | xx | 20% |\n",
        "| xx | xx | 20% |\n",
        "\n",
        "---\n",
        "\n",
        "## Dataset Choosen - Amazon Product Review\n",
        "**Justification:**\n",
        "We have chosen the Amazon Product Review dataset for its rich linguistic diversity and relevance to real-world natural language processing tasks. This dataset contains a wide range of product reviews written by various users, reflecting different writing styles, sentiments, and domain-specific vocabulary. This diversity makes it an excellent testbed for developing robust Part-of-Speech (POS) tagging models.\n",
        "\n",
        "**Dataset source:**\n",
        "https://www.kaggle.com/datasets/kritanjalijain/amazon-reviews\n",
        "\n",
        "\n",
        "---\n",
        "\n",
        "\n"
      ]
    },
    {
      "cell_type": "markdown",
      "metadata": {
        "id": "_q8JHYmxQ531"
      },
      "source": [
        "#### Download & import necessary Libraries & NLTK data"
      ]
    },
    {
      "cell_type": "code",
      "execution_count": 1,
      "metadata": {
        "colab": {
          "base_uri": "https://localhost:8080/"
        },
        "id": "-yYMEGL-QoyU",
        "outputId": "032a067f-a47e-47c0-c9fc-d0b36a1d48cf"
      },
      "outputs": [
        {
          "output_type": "stream",
          "name": "stdout",
          "text": [
            "Requirement already satisfied: nltk in /usr/local/lib/python3.11/dist-packages (3.9.1)\n",
            "Requirement already satisfied: scikit-learn in /usr/local/lib/python3.11/dist-packages (1.6.1)\n",
            "Requirement already satisfied: pandas in /usr/local/lib/python3.11/dist-packages (2.2.2)\n",
            "Requirement already satisfied: tensorflow in /usr/local/lib/python3.11/dist-packages (2.18.0)\n",
            "Requirement already satisfied: click in /usr/local/lib/python3.11/dist-packages (from nltk) (8.2.1)\n",
            "Requirement already satisfied: joblib in /usr/local/lib/python3.11/dist-packages (from nltk) (1.5.1)\n",
            "Requirement already satisfied: regex>=2021.8.3 in /usr/local/lib/python3.11/dist-packages (from nltk) (2024.11.6)\n",
            "Requirement already satisfied: tqdm in /usr/local/lib/python3.11/dist-packages (from nltk) (4.67.1)\n",
            "Requirement already satisfied: numpy>=1.19.5 in /usr/local/lib/python3.11/dist-packages (from scikit-learn) (2.0.2)\n",
            "Requirement already satisfied: scipy>=1.6.0 in /usr/local/lib/python3.11/dist-packages (from scikit-learn) (1.15.3)\n",
            "Requirement already satisfied: threadpoolctl>=3.1.0 in /usr/local/lib/python3.11/dist-packages (from scikit-learn) (3.6.0)\n",
            "Requirement already satisfied: python-dateutil>=2.8.2 in /usr/local/lib/python3.11/dist-packages (from pandas) (2.9.0.post0)\n",
            "Requirement already satisfied: pytz>=2020.1 in /usr/local/lib/python3.11/dist-packages (from pandas) (2025.2)\n",
            "Requirement already satisfied: tzdata>=2022.7 in /usr/local/lib/python3.11/dist-packages (from pandas) (2025.2)\n",
            "Requirement already satisfied: absl-py>=1.0.0 in /usr/local/lib/python3.11/dist-packages (from tensorflow) (1.4.0)\n",
            "Requirement already satisfied: astunparse>=1.6.0 in /usr/local/lib/python3.11/dist-packages (from tensorflow) (1.6.3)\n",
            "Requirement already satisfied: flatbuffers>=24.3.25 in /usr/local/lib/python3.11/dist-packages (from tensorflow) (25.2.10)\n",
            "Requirement already satisfied: gast!=0.5.0,!=0.5.1,!=0.5.2,>=0.2.1 in /usr/local/lib/python3.11/dist-packages (from tensorflow) (0.6.0)\n",
            "Requirement already satisfied: google-pasta>=0.1.1 in /usr/local/lib/python3.11/dist-packages (from tensorflow) (0.2.0)\n",
            "Requirement already satisfied: libclang>=13.0.0 in /usr/local/lib/python3.11/dist-packages (from tensorflow) (18.1.1)\n",
            "Requirement already satisfied: opt-einsum>=2.3.2 in /usr/local/lib/python3.11/dist-packages (from tensorflow) (3.4.0)\n",
            "Requirement already satisfied: packaging in /usr/local/lib/python3.11/dist-packages (from tensorflow) (24.2)\n",
            "Requirement already satisfied: protobuf!=4.21.0,!=4.21.1,!=4.21.2,!=4.21.3,!=4.21.4,!=4.21.5,<6.0.0dev,>=3.20.3 in /usr/local/lib/python3.11/dist-packages (from tensorflow) (5.29.5)\n",
            "Requirement already satisfied: requests<3,>=2.21.0 in /usr/local/lib/python3.11/dist-packages (from tensorflow) (2.32.3)\n",
            "Requirement already satisfied: setuptools in /usr/local/lib/python3.11/dist-packages (from tensorflow) (75.2.0)\n",
            "Requirement already satisfied: six>=1.12.0 in /usr/local/lib/python3.11/dist-packages (from tensorflow) (1.17.0)\n",
            "Requirement already satisfied: termcolor>=1.1.0 in /usr/local/lib/python3.11/dist-packages (from tensorflow) (3.1.0)\n",
            "Requirement already satisfied: typing-extensions>=3.6.6 in /usr/local/lib/python3.11/dist-packages (from tensorflow) (4.14.0)\n",
            "Requirement already satisfied: wrapt>=1.11.0 in /usr/local/lib/python3.11/dist-packages (from tensorflow) (1.17.2)\n",
            "Requirement already satisfied: grpcio<2.0,>=1.24.3 in /usr/local/lib/python3.11/dist-packages (from tensorflow) (1.73.0)\n",
            "Requirement already satisfied: tensorboard<2.19,>=2.18 in /usr/local/lib/python3.11/dist-packages (from tensorflow) (2.18.0)\n",
            "Requirement already satisfied: keras>=3.5.0 in /usr/local/lib/python3.11/dist-packages (from tensorflow) (3.8.0)\n",
            "Requirement already satisfied: h5py>=3.11.0 in /usr/local/lib/python3.11/dist-packages (from tensorflow) (3.14.0)\n",
            "Requirement already satisfied: ml-dtypes<0.5.0,>=0.4.0 in /usr/local/lib/python3.11/dist-packages (from tensorflow) (0.4.1)\n",
            "Requirement already satisfied: tensorflow-io-gcs-filesystem>=0.23.1 in /usr/local/lib/python3.11/dist-packages (from tensorflow) (0.37.1)\n",
            "Requirement already satisfied: wheel<1.0,>=0.23.0 in /usr/local/lib/python3.11/dist-packages (from astunparse>=1.6.0->tensorflow) (0.45.1)\n",
            "Requirement already satisfied: rich in /usr/local/lib/python3.11/dist-packages (from keras>=3.5.0->tensorflow) (13.9.4)\n",
            "Requirement already satisfied: namex in /usr/local/lib/python3.11/dist-packages (from keras>=3.5.0->tensorflow) (0.1.0)\n",
            "Requirement already satisfied: optree in /usr/local/lib/python3.11/dist-packages (from keras>=3.5.0->tensorflow) (0.16.0)\n",
            "Requirement already satisfied: charset-normalizer<4,>=2 in /usr/local/lib/python3.11/dist-packages (from requests<3,>=2.21.0->tensorflow) (3.4.2)\n",
            "Requirement already satisfied: idna<4,>=2.5 in /usr/local/lib/python3.11/dist-packages (from requests<3,>=2.21.0->tensorflow) (3.10)\n",
            "Requirement already satisfied: urllib3<3,>=1.21.1 in /usr/local/lib/python3.11/dist-packages (from requests<3,>=2.21.0->tensorflow) (2.4.0)\n",
            "Requirement already satisfied: certifi>=2017.4.17 in /usr/local/lib/python3.11/dist-packages (from requests<3,>=2.21.0->tensorflow) (2025.6.15)\n",
            "Requirement already satisfied: markdown>=2.6.8 in /usr/local/lib/python3.11/dist-packages (from tensorboard<2.19,>=2.18->tensorflow) (3.8)\n",
            "Requirement already satisfied: tensorboard-data-server<0.8.0,>=0.7.0 in /usr/local/lib/python3.11/dist-packages (from tensorboard<2.19,>=2.18->tensorflow) (0.7.2)\n",
            "Requirement already satisfied: werkzeug>=1.0.1 in /usr/local/lib/python3.11/dist-packages (from tensorboard<2.19,>=2.18->tensorflow) (3.1.3)\n",
            "Requirement already satisfied: MarkupSafe>=2.1.1 in /usr/local/lib/python3.11/dist-packages (from werkzeug>=1.0.1->tensorboard<2.19,>=2.18->tensorflow) (3.0.2)\n",
            "Requirement already satisfied: markdown-it-py>=2.2.0 in /usr/local/lib/python3.11/dist-packages (from rich->keras>=3.5.0->tensorflow) (3.0.0)\n",
            "Requirement already satisfied: pygments<3.0.0,>=2.13.0 in /usr/local/lib/python3.11/dist-packages (from rich->keras>=3.5.0->tensorflow) (2.19.1)\n",
            "Requirement already satisfied: mdurl~=0.1 in /usr/local/lib/python3.11/dist-packages (from markdown-it-py>=2.2.0->rich->keras>=3.5.0->tensorflow) (0.1.2)\n"
          ]
        }
      ],
      "source": [
        "!pip install nltk scikit-learn pandas tensorflow"
      ]
    },
    {
      "cell_type": "code",
      "execution_count": 2,
      "metadata": {
        "id": "266jccQTQpcb"
      },
      "outputs": [],
      "source": [
        "import pandas as pd\n",
        "import nltk\n",
        "import re\n",
        "from collections import Counter\n",
        "from sklearn.model_selection import train_test_split\n",
        "import numpy as np\n",
        "import matplotlib.pyplot as plt\n",
        "from sklearn.feature_extraction import DictVectorizer\n",
        "from sklearn.linear_model import LogisticRegression\n",
        "from sklearn.pipeline import Pipeline\n",
        "from sklearn.preprocessing import LabelEncoder\n",
        "from sklearn.metrics import accuracy_score\n",
        "import tensorflow as tf\n",
        "from tensorflow.keras.models import Sequential\n",
        "from tensorflow.keras.layers import Embedding, LSTM, Dense, Dropout, Bidirectional\n",
        "from tensorflow.keras.preprocessing.sequence import pad_sequences\n",
        "from tensorflow.keras.utils import to_categorical"
      ]
    },
    {
      "cell_type": "code",
      "execution_count": 3,
      "metadata": {
        "colab": {
          "base_uri": "https://localhost:8080/"
        },
        "id": "bMLpD00NQu_y",
        "outputId": "c9ead8c3-1699-4237-fb45-12e9fc7a0354"
      },
      "outputs": [
        {
          "output_type": "stream",
          "name": "stderr",
          "text": [
            "[nltk_data] Downloading package punkt to /root/nltk_data...\n",
            "[nltk_data]   Unzipping tokenizers/punkt.zip.\n",
            "[nltk_data] Downloading package averaged_perceptron_tagger to\n",
            "[nltk_data]     /root/nltk_data...\n",
            "[nltk_data]   Unzipping taggers/averaged_perceptron_tagger.zip.\n",
            "[nltk_data] Downloading package punkt_tab to /root/nltk_data...\n",
            "[nltk_data]   Unzipping tokenizers/punkt_tab.zip.\n",
            "[nltk_data] Downloading package averaged_perceptron_tagger_eng to\n",
            "[nltk_data]     /root/nltk_data...\n",
            "[nltk_data]   Unzipping taggers/averaged_perceptron_tagger_eng.zip.\n"
          ]
        },
        {
          "output_type": "execute_result",
          "data": {
            "text/plain": [
              "True"
            ]
          },
          "metadata": {},
          "execution_count": 3
        }
      ],
      "source": [
        "nltk.download('punkt')\n",
        "nltk.download('averaged_perceptron_tagger')\n",
        "nltk.download('punkt_tab')\n",
        "nltk.download('averaged_perceptron_tagger_eng')"
      ]
    },
    {
      "cell_type": "markdown",
      "metadata": {
        "id": "R48vbyzqVFRL"
      },
      "source": [
        "# Part 1: Data Preparation and Feature Engineering"
      ]
    },
    {
      "cell_type": "markdown",
      "metadata": {
        "id": "vJ_7HPX-Regz"
      },
      "source": [
        "## a. Data Loading and Preprocessing"
      ]
    },
    {
      "cell_type": "markdown",
      "metadata": {
        "id": "GR6GCr4hVFRM"
      },
      "source": [
        "### Read the text data, perform lowercasing and exploratory data analysis"
      ]
    },
    {
      "cell_type": "markdown",
      "metadata": {
        "id": "rQWYZgQsTZm-"
      },
      "source": [
        "Read amazon review file"
      ]
    },
    {
      "cell_type": "code",
      "execution_count": 4,
      "metadata": {
        "colab": {
          "base_uri": "https://localhost:8080/",
          "height": 276
        },
        "id": "YQ1yoq2bTdqO",
        "outputId": "34bb0b68-d9b4-4fcc-9fff-323497d050a6"
      },
      "outputs": [
        {
          "output_type": "stream",
          "name": "stdout",
          "text": [
            "Number of reviews : 1000\n"
          ]
        },
        {
          "output_type": "execute_result",
          "data": {
            "text/plain": [
              "   polarity                                              title  \\\n",
              "0         2                                           Great CD   \n",
              "1         2  One of the best game music soundtracks - for a...   \n",
              "2         1                   Batteries died within a year ...   \n",
              "3         2              works fine, but Maha Energy is better   \n",
              "4         2                       Great for the non-audiophile   \n",
              "\n",
              "                                              review  \n",
              "0  My lovely Pat has one of the GREAT voices of h...  \n",
              "1  Despite the fact that I have only played a sma...  \n",
              "2  I bought this charger in Jul 2003 and it worke...  \n",
              "3  Check out Maha Energy's website. Their Powerex...  \n",
              "4  Reviewed quite a bit of the combo players and ...  "
            ],
            "text/html": [
              "\n",
              "  <div id=\"df-7e5f3e6b-5d84-40d8-baf7-fc54045f9dd9\" class=\"colab-df-container\">\n",
              "    <div>\n",
              "<style scoped>\n",
              "    .dataframe tbody tr th:only-of-type {\n",
              "        vertical-align: middle;\n",
              "    }\n",
              "\n",
              "    .dataframe tbody tr th {\n",
              "        vertical-align: top;\n",
              "    }\n",
              "\n",
              "    .dataframe thead th {\n",
              "        text-align: right;\n",
              "    }\n",
              "</style>\n",
              "<table border=\"1\" class=\"dataframe\">\n",
              "  <thead>\n",
              "    <tr style=\"text-align: right;\">\n",
              "      <th></th>\n",
              "      <th>polarity</th>\n",
              "      <th>title</th>\n",
              "      <th>review</th>\n",
              "    </tr>\n",
              "  </thead>\n",
              "  <tbody>\n",
              "    <tr>\n",
              "      <th>0</th>\n",
              "      <td>2</td>\n",
              "      <td>Great CD</td>\n",
              "      <td>My lovely Pat has one of the GREAT voices of h...</td>\n",
              "    </tr>\n",
              "    <tr>\n",
              "      <th>1</th>\n",
              "      <td>2</td>\n",
              "      <td>One of the best game music soundtracks - for a...</td>\n",
              "      <td>Despite the fact that I have only played a sma...</td>\n",
              "    </tr>\n",
              "    <tr>\n",
              "      <th>2</th>\n",
              "      <td>1</td>\n",
              "      <td>Batteries died within a year ...</td>\n",
              "      <td>I bought this charger in Jul 2003 and it worke...</td>\n",
              "    </tr>\n",
              "    <tr>\n",
              "      <th>3</th>\n",
              "      <td>2</td>\n",
              "      <td>works fine, but Maha Energy is better</td>\n",
              "      <td>Check out Maha Energy's website. Their Powerex...</td>\n",
              "    </tr>\n",
              "    <tr>\n",
              "      <th>4</th>\n",
              "      <td>2</td>\n",
              "      <td>Great for the non-audiophile</td>\n",
              "      <td>Reviewed quite a bit of the combo players and ...</td>\n",
              "    </tr>\n",
              "  </tbody>\n",
              "</table>\n",
              "</div>\n",
              "    <div class=\"colab-df-buttons\">\n",
              "\n",
              "  <div class=\"colab-df-container\">\n",
              "    <button class=\"colab-df-convert\" onclick=\"convertToInteractive('df-7e5f3e6b-5d84-40d8-baf7-fc54045f9dd9')\"\n",
              "            title=\"Convert this dataframe to an interactive table.\"\n",
              "            style=\"display:none;\">\n",
              "\n",
              "  <svg xmlns=\"http://www.w3.org/2000/svg\" height=\"24px\" viewBox=\"0 -960 960 960\">\n",
              "    <path d=\"M120-120v-720h720v720H120Zm60-500h600v-160H180v160Zm220 220h160v-160H400v160Zm0 220h160v-160H400v160ZM180-400h160v-160H180v160Zm440 0h160v-160H620v160ZM180-180h160v-160H180v160Zm440 0h160v-160H620v160Z\"/>\n",
              "  </svg>\n",
              "    </button>\n",
              "\n",
              "  <style>\n",
              "    .colab-df-container {\n",
              "      display:flex;\n",
              "      gap: 12px;\n",
              "    }\n",
              "\n",
              "    .colab-df-convert {\n",
              "      background-color: #E8F0FE;\n",
              "      border: none;\n",
              "      border-radius: 50%;\n",
              "      cursor: pointer;\n",
              "      display: none;\n",
              "      fill: #1967D2;\n",
              "      height: 32px;\n",
              "      padding: 0 0 0 0;\n",
              "      width: 32px;\n",
              "    }\n",
              "\n",
              "    .colab-df-convert:hover {\n",
              "      background-color: #E2EBFA;\n",
              "      box-shadow: 0px 1px 2px rgba(60, 64, 67, 0.3), 0px 1px 3px 1px rgba(60, 64, 67, 0.15);\n",
              "      fill: #174EA6;\n",
              "    }\n",
              "\n",
              "    .colab-df-buttons div {\n",
              "      margin-bottom: 4px;\n",
              "    }\n",
              "\n",
              "    [theme=dark] .colab-df-convert {\n",
              "      background-color: #3B4455;\n",
              "      fill: #D2E3FC;\n",
              "    }\n",
              "\n",
              "    [theme=dark] .colab-df-convert:hover {\n",
              "      background-color: #434B5C;\n",
              "      box-shadow: 0px 1px 3px 1px rgba(0, 0, 0, 0.15);\n",
              "      filter: drop-shadow(0px 1px 2px rgba(0, 0, 0, 0.3));\n",
              "      fill: #FFFFFF;\n",
              "    }\n",
              "  </style>\n",
              "\n",
              "    <script>\n",
              "      const buttonEl =\n",
              "        document.querySelector('#df-7e5f3e6b-5d84-40d8-baf7-fc54045f9dd9 button.colab-df-convert');\n",
              "      buttonEl.style.display =\n",
              "        google.colab.kernel.accessAllowed ? 'block' : 'none';\n",
              "\n",
              "      async function convertToInteractive(key) {\n",
              "        const element = document.querySelector('#df-7e5f3e6b-5d84-40d8-baf7-fc54045f9dd9');\n",
              "        const dataTable =\n",
              "          await google.colab.kernel.invokeFunction('convertToInteractive',\n",
              "                                                    [key], {});\n",
              "        if (!dataTable) return;\n",
              "\n",
              "        const docLinkHtml = 'Like what you see? Visit the ' +\n",
              "          '<a target=\"_blank\" href=https://colab.research.google.com/notebooks/data_table.ipynb>data table notebook</a>'\n",
              "          + ' to learn more about interactive tables.';\n",
              "        element.innerHTML = '';\n",
              "        dataTable['output_type'] = 'display_data';\n",
              "        await google.colab.output.renderOutput(dataTable, element);\n",
              "        const docLink = document.createElement('div');\n",
              "        docLink.innerHTML = docLinkHtml;\n",
              "        element.appendChild(docLink);\n",
              "      }\n",
              "    </script>\n",
              "  </div>\n",
              "\n",
              "\n",
              "    <div id=\"df-37c985f5-6d67-4881-9ca6-7a9f8de3d917\">\n",
              "      <button class=\"colab-df-quickchart\" onclick=\"quickchart('df-37c985f5-6d67-4881-9ca6-7a9f8de3d917')\"\n",
              "                title=\"Suggest charts\"\n",
              "                style=\"display:none;\">\n",
              "\n",
              "<svg xmlns=\"http://www.w3.org/2000/svg\" height=\"24px\"viewBox=\"0 0 24 24\"\n",
              "     width=\"24px\">\n",
              "    <g>\n",
              "        <path d=\"M19 3H5c-1.1 0-2 .9-2 2v14c0 1.1.9 2 2 2h14c1.1 0 2-.9 2-2V5c0-1.1-.9-2-2-2zM9 17H7v-7h2v7zm4 0h-2V7h2v10zm4 0h-2v-4h2v4z\"/>\n",
              "    </g>\n",
              "</svg>\n",
              "      </button>\n",
              "\n",
              "<style>\n",
              "  .colab-df-quickchart {\n",
              "      --bg-color: #E8F0FE;\n",
              "      --fill-color: #1967D2;\n",
              "      --hover-bg-color: #E2EBFA;\n",
              "      --hover-fill-color: #174EA6;\n",
              "      --disabled-fill-color: #AAA;\n",
              "      --disabled-bg-color: #DDD;\n",
              "  }\n",
              "\n",
              "  [theme=dark] .colab-df-quickchart {\n",
              "      --bg-color: #3B4455;\n",
              "      --fill-color: #D2E3FC;\n",
              "      --hover-bg-color: #434B5C;\n",
              "      --hover-fill-color: #FFFFFF;\n",
              "      --disabled-bg-color: #3B4455;\n",
              "      --disabled-fill-color: #666;\n",
              "  }\n",
              "\n",
              "  .colab-df-quickchart {\n",
              "    background-color: var(--bg-color);\n",
              "    border: none;\n",
              "    border-radius: 50%;\n",
              "    cursor: pointer;\n",
              "    display: none;\n",
              "    fill: var(--fill-color);\n",
              "    height: 32px;\n",
              "    padding: 0;\n",
              "    width: 32px;\n",
              "  }\n",
              "\n",
              "  .colab-df-quickchart:hover {\n",
              "    background-color: var(--hover-bg-color);\n",
              "    box-shadow: 0 1px 2px rgba(60, 64, 67, 0.3), 0 1px 3px 1px rgba(60, 64, 67, 0.15);\n",
              "    fill: var(--button-hover-fill-color);\n",
              "  }\n",
              "\n",
              "  .colab-df-quickchart-complete:disabled,\n",
              "  .colab-df-quickchart-complete:disabled:hover {\n",
              "    background-color: var(--disabled-bg-color);\n",
              "    fill: var(--disabled-fill-color);\n",
              "    box-shadow: none;\n",
              "  }\n",
              "\n",
              "  .colab-df-spinner {\n",
              "    border: 2px solid var(--fill-color);\n",
              "    border-color: transparent;\n",
              "    border-bottom-color: var(--fill-color);\n",
              "    animation:\n",
              "      spin 1s steps(1) infinite;\n",
              "  }\n",
              "\n",
              "  @keyframes spin {\n",
              "    0% {\n",
              "      border-color: transparent;\n",
              "      border-bottom-color: var(--fill-color);\n",
              "      border-left-color: var(--fill-color);\n",
              "    }\n",
              "    20% {\n",
              "      border-color: transparent;\n",
              "      border-left-color: var(--fill-color);\n",
              "      border-top-color: var(--fill-color);\n",
              "    }\n",
              "    30% {\n",
              "      border-color: transparent;\n",
              "      border-left-color: var(--fill-color);\n",
              "      border-top-color: var(--fill-color);\n",
              "      border-right-color: var(--fill-color);\n",
              "    }\n",
              "    40% {\n",
              "      border-color: transparent;\n",
              "      border-right-color: var(--fill-color);\n",
              "      border-top-color: var(--fill-color);\n",
              "    }\n",
              "    60% {\n",
              "      border-color: transparent;\n",
              "      border-right-color: var(--fill-color);\n",
              "    }\n",
              "    80% {\n",
              "      border-color: transparent;\n",
              "      border-right-color: var(--fill-color);\n",
              "      border-bottom-color: var(--fill-color);\n",
              "    }\n",
              "    90% {\n",
              "      border-color: transparent;\n",
              "      border-bottom-color: var(--fill-color);\n",
              "    }\n",
              "  }\n",
              "</style>\n",
              "\n",
              "      <script>\n",
              "        async function quickchart(key) {\n",
              "          const quickchartButtonEl =\n",
              "            document.querySelector('#' + key + ' button');\n",
              "          quickchartButtonEl.disabled = true;  // To prevent multiple clicks.\n",
              "          quickchartButtonEl.classList.add('colab-df-spinner');\n",
              "          try {\n",
              "            const charts = await google.colab.kernel.invokeFunction(\n",
              "                'suggestCharts', [key], {});\n",
              "          } catch (error) {\n",
              "            console.error('Error during call to suggestCharts:', error);\n",
              "          }\n",
              "          quickchartButtonEl.classList.remove('colab-df-spinner');\n",
              "          quickchartButtonEl.classList.add('colab-df-quickchart-complete');\n",
              "        }\n",
              "        (() => {\n",
              "          let quickchartButtonEl =\n",
              "            document.querySelector('#df-37c985f5-6d67-4881-9ca6-7a9f8de3d917 button');\n",
              "          quickchartButtonEl.style.display =\n",
              "            google.colab.kernel.accessAllowed ? 'block' : 'none';\n",
              "        })();\n",
              "      </script>\n",
              "    </div>\n",
              "\n",
              "    </div>\n",
              "  </div>\n"
            ],
            "application/vnd.google.colaboratory.intrinsic+json": {
              "type": "dataframe",
              "variable_name": "df",
              "summary": "{\n  \"name\": \"df\",\n  \"rows\": 1000,\n  \"fields\": [\n    {\n      \"column\": \"polarity\",\n      \"properties\": {\n        \"dtype\": \"number\",\n        \"std\": 0,\n        \"min\": 1,\n        \"max\": 2,\n        \"num_unique_values\": 2,\n        \"samples\": [\n          1,\n          2\n        ],\n        \"semantic_type\": \"\",\n        \"description\": \"\"\n      }\n    },\n    {\n      \"column\": \"title\",\n      \"properties\": {\n        \"dtype\": \"string\",\n        \"num_unique_values\": 983,\n        \"samples\": [\n          \"Intriguing beginning and then schmaltz\",\n          \"motorola phone car charger\"\n        ],\n        \"semantic_type\": \"\",\n        \"description\": \"\"\n      }\n    },\n    {\n      \"column\": \"review\",\n      \"properties\": {\n        \"dtype\": \"string\",\n        \"num_unique_values\": 1000,\n        \"samples\": [\n          \"DO you really think that this stuff is going to work? especially the trapping? so many people love trapping but when then try it in sparring it doesnt work.the lin lop sau,the bong lop sau,the same hand tan to lop sau-cmon now none of that works against anyone who doesnt leave their hand out there after they throw a punch! this may have been how people fought hundreds if not a thousand years ago but it certainly isnt practical now! if you want to spend lots of your precious time learning an art that most of it you cant use in sparring or in the street then so be it.but like bruce said \\\"man {or for that matter any person man or woman} is MORE IMPORTANT than any art or system\\\" even applies to jkd and wing chun-not the other way around!!!!!!!!!!!!!!!!!!!!!!!!!!!!!!!!!!!!!!!!!!!!!\",\n          \"Sorry... I gave this album a few spins but I still can't think of a one good thing to say about it. Except maybe that it will probably be the weirdest thing you'll ever hear... can't say it's not original, but in this case that's not necessairly a good thing. If you're not familiar with this band, this probably wouldn't be the best album to start with.\"\n        ],\n        \"semantic_type\": \"\",\n        \"description\": \"\"\n      }\n    }\n  ]\n}"
            }
          },
          "metadata": {},
          "execution_count": 4
        }
      ],
      "source": [
        "df = pd.read_csv('amazon_review.csv')\n",
        "print(\"Number of reviews :\", len(df))\n",
        "df.head()"
      ]
    },
    {
      "cell_type": "markdown",
      "metadata": {
        "id": "nzMYDgifT6fz"
      },
      "source": [
        "Exploratory Data Analysis"
      ]
    },
    {
      "cell_type": "code",
      "execution_count": 5,
      "metadata": {
        "colab": {
          "base_uri": "https://localhost:8080/"
        },
        "id": "E4tLNTztT-Oi",
        "outputId": "c9bd8b5a-daf0-4e31-e678-403fa656bac1"
      },
      "outputs": [
        {
          "output_type": "stream",
          "name": "stdout",
          "text": [
            "<class 'pandas.core.frame.DataFrame'>\n",
            "RangeIndex: 1000 entries, 0 to 999\n",
            "Data columns (total 3 columns):\n",
            " #   Column    Non-Null Count  Dtype \n",
            "---  ------    --------------  ----- \n",
            " 0   polarity  1000 non-null   int64 \n",
            " 1   title     999 non-null    object\n",
            " 2   review    1000 non-null   object\n",
            "dtypes: int64(1), object(2)\n",
            "memory usage: 23.6+ KB\n"
          ]
        }
      ],
      "source": [
        "df.info()"
      ]
    },
    {
      "cell_type": "markdown",
      "metadata": {
        "id": "Bl7NnrHhUZTg"
      },
      "source": [
        "Dropping unnecessary columns"
      ]
    },
    {
      "cell_type": "code",
      "execution_count": 6,
      "metadata": {
        "colab": {
          "base_uri": "https://localhost:8080/",
          "height": 206
        },
        "id": "3rcU5EtMUch4",
        "outputId": "7acd0aa8-8131-4211-daae-10ff4ed26563"
      },
      "outputs": [
        {
          "output_type": "execute_result",
          "data": {
            "text/plain": [
              "                                              review\n",
              "0  My lovely Pat has one of the GREAT voices of h...\n",
              "1  Despite the fact that I have only played a sma...\n",
              "2  I bought this charger in Jul 2003 and it worke...\n",
              "3  Check out Maha Energy's website. Their Powerex...\n",
              "4  Reviewed quite a bit of the combo players and ..."
            ],
            "text/html": [
              "\n",
              "  <div id=\"df-bc0c4d59-500a-464b-800e-2deea2d6dcd1\" class=\"colab-df-container\">\n",
              "    <div>\n",
              "<style scoped>\n",
              "    .dataframe tbody tr th:only-of-type {\n",
              "        vertical-align: middle;\n",
              "    }\n",
              "\n",
              "    .dataframe tbody tr th {\n",
              "        vertical-align: top;\n",
              "    }\n",
              "\n",
              "    .dataframe thead th {\n",
              "        text-align: right;\n",
              "    }\n",
              "</style>\n",
              "<table border=\"1\" class=\"dataframe\">\n",
              "  <thead>\n",
              "    <tr style=\"text-align: right;\">\n",
              "      <th></th>\n",
              "      <th>review</th>\n",
              "    </tr>\n",
              "  </thead>\n",
              "  <tbody>\n",
              "    <tr>\n",
              "      <th>0</th>\n",
              "      <td>My lovely Pat has one of the GREAT voices of h...</td>\n",
              "    </tr>\n",
              "    <tr>\n",
              "      <th>1</th>\n",
              "      <td>Despite the fact that I have only played a sma...</td>\n",
              "    </tr>\n",
              "    <tr>\n",
              "      <th>2</th>\n",
              "      <td>I bought this charger in Jul 2003 and it worke...</td>\n",
              "    </tr>\n",
              "    <tr>\n",
              "      <th>3</th>\n",
              "      <td>Check out Maha Energy's website. Their Powerex...</td>\n",
              "    </tr>\n",
              "    <tr>\n",
              "      <th>4</th>\n",
              "      <td>Reviewed quite a bit of the combo players and ...</td>\n",
              "    </tr>\n",
              "  </tbody>\n",
              "</table>\n",
              "</div>\n",
              "    <div class=\"colab-df-buttons\">\n",
              "\n",
              "  <div class=\"colab-df-container\">\n",
              "    <button class=\"colab-df-convert\" onclick=\"convertToInteractive('df-bc0c4d59-500a-464b-800e-2deea2d6dcd1')\"\n",
              "            title=\"Convert this dataframe to an interactive table.\"\n",
              "            style=\"display:none;\">\n",
              "\n",
              "  <svg xmlns=\"http://www.w3.org/2000/svg\" height=\"24px\" viewBox=\"0 -960 960 960\">\n",
              "    <path d=\"M120-120v-720h720v720H120Zm60-500h600v-160H180v160Zm220 220h160v-160H400v160Zm0 220h160v-160H400v160ZM180-400h160v-160H180v160Zm440 0h160v-160H620v160ZM180-180h160v-160H180v160Zm440 0h160v-160H620v160Z\"/>\n",
              "  </svg>\n",
              "    </button>\n",
              "\n",
              "  <style>\n",
              "    .colab-df-container {\n",
              "      display:flex;\n",
              "      gap: 12px;\n",
              "    }\n",
              "\n",
              "    .colab-df-convert {\n",
              "      background-color: #E8F0FE;\n",
              "      border: none;\n",
              "      border-radius: 50%;\n",
              "      cursor: pointer;\n",
              "      display: none;\n",
              "      fill: #1967D2;\n",
              "      height: 32px;\n",
              "      padding: 0 0 0 0;\n",
              "      width: 32px;\n",
              "    }\n",
              "\n",
              "    .colab-df-convert:hover {\n",
              "      background-color: #E2EBFA;\n",
              "      box-shadow: 0px 1px 2px rgba(60, 64, 67, 0.3), 0px 1px 3px 1px rgba(60, 64, 67, 0.15);\n",
              "      fill: #174EA6;\n",
              "    }\n",
              "\n",
              "    .colab-df-buttons div {\n",
              "      margin-bottom: 4px;\n",
              "    }\n",
              "\n",
              "    [theme=dark] .colab-df-convert {\n",
              "      background-color: #3B4455;\n",
              "      fill: #D2E3FC;\n",
              "    }\n",
              "\n",
              "    [theme=dark] .colab-df-convert:hover {\n",
              "      background-color: #434B5C;\n",
              "      box-shadow: 0px 1px 3px 1px rgba(0, 0, 0, 0.15);\n",
              "      filter: drop-shadow(0px 1px 2px rgba(0, 0, 0, 0.3));\n",
              "      fill: #FFFFFF;\n",
              "    }\n",
              "  </style>\n",
              "\n",
              "    <script>\n",
              "      const buttonEl =\n",
              "        document.querySelector('#df-bc0c4d59-500a-464b-800e-2deea2d6dcd1 button.colab-df-convert');\n",
              "      buttonEl.style.display =\n",
              "        google.colab.kernel.accessAllowed ? 'block' : 'none';\n",
              "\n",
              "      async function convertToInteractive(key) {\n",
              "        const element = document.querySelector('#df-bc0c4d59-500a-464b-800e-2deea2d6dcd1');\n",
              "        const dataTable =\n",
              "          await google.colab.kernel.invokeFunction('convertToInteractive',\n",
              "                                                    [key], {});\n",
              "        if (!dataTable) return;\n",
              "\n",
              "        const docLinkHtml = 'Like what you see? Visit the ' +\n",
              "          '<a target=\"_blank\" href=https://colab.research.google.com/notebooks/data_table.ipynb>data table notebook</a>'\n",
              "          + ' to learn more about interactive tables.';\n",
              "        element.innerHTML = '';\n",
              "        dataTable['output_type'] = 'display_data';\n",
              "        await google.colab.output.renderOutput(dataTable, element);\n",
              "        const docLink = document.createElement('div');\n",
              "        docLink.innerHTML = docLinkHtml;\n",
              "        element.appendChild(docLink);\n",
              "      }\n",
              "    </script>\n",
              "  </div>\n",
              "\n",
              "\n",
              "    <div id=\"df-774d7862-6449-4826-87af-87c93dfee097\">\n",
              "      <button class=\"colab-df-quickchart\" onclick=\"quickchart('df-774d7862-6449-4826-87af-87c93dfee097')\"\n",
              "                title=\"Suggest charts\"\n",
              "                style=\"display:none;\">\n",
              "\n",
              "<svg xmlns=\"http://www.w3.org/2000/svg\" height=\"24px\"viewBox=\"0 0 24 24\"\n",
              "     width=\"24px\">\n",
              "    <g>\n",
              "        <path d=\"M19 3H5c-1.1 0-2 .9-2 2v14c0 1.1.9 2 2 2h14c1.1 0 2-.9 2-2V5c0-1.1-.9-2-2-2zM9 17H7v-7h2v7zm4 0h-2V7h2v10zm4 0h-2v-4h2v4z\"/>\n",
              "    </g>\n",
              "</svg>\n",
              "      </button>\n",
              "\n",
              "<style>\n",
              "  .colab-df-quickchart {\n",
              "      --bg-color: #E8F0FE;\n",
              "      --fill-color: #1967D2;\n",
              "      --hover-bg-color: #E2EBFA;\n",
              "      --hover-fill-color: #174EA6;\n",
              "      --disabled-fill-color: #AAA;\n",
              "      --disabled-bg-color: #DDD;\n",
              "  }\n",
              "\n",
              "  [theme=dark] .colab-df-quickchart {\n",
              "      --bg-color: #3B4455;\n",
              "      --fill-color: #D2E3FC;\n",
              "      --hover-bg-color: #434B5C;\n",
              "      --hover-fill-color: #FFFFFF;\n",
              "      --disabled-bg-color: #3B4455;\n",
              "      --disabled-fill-color: #666;\n",
              "  }\n",
              "\n",
              "  .colab-df-quickchart {\n",
              "    background-color: var(--bg-color);\n",
              "    border: none;\n",
              "    border-radius: 50%;\n",
              "    cursor: pointer;\n",
              "    display: none;\n",
              "    fill: var(--fill-color);\n",
              "    height: 32px;\n",
              "    padding: 0;\n",
              "    width: 32px;\n",
              "  }\n",
              "\n",
              "  .colab-df-quickchart:hover {\n",
              "    background-color: var(--hover-bg-color);\n",
              "    box-shadow: 0 1px 2px rgba(60, 64, 67, 0.3), 0 1px 3px 1px rgba(60, 64, 67, 0.15);\n",
              "    fill: var(--button-hover-fill-color);\n",
              "  }\n",
              "\n",
              "  .colab-df-quickchart-complete:disabled,\n",
              "  .colab-df-quickchart-complete:disabled:hover {\n",
              "    background-color: var(--disabled-bg-color);\n",
              "    fill: var(--disabled-fill-color);\n",
              "    box-shadow: none;\n",
              "  }\n",
              "\n",
              "  .colab-df-spinner {\n",
              "    border: 2px solid var(--fill-color);\n",
              "    border-color: transparent;\n",
              "    border-bottom-color: var(--fill-color);\n",
              "    animation:\n",
              "      spin 1s steps(1) infinite;\n",
              "  }\n",
              "\n",
              "  @keyframes spin {\n",
              "    0% {\n",
              "      border-color: transparent;\n",
              "      border-bottom-color: var(--fill-color);\n",
              "      border-left-color: var(--fill-color);\n",
              "    }\n",
              "    20% {\n",
              "      border-color: transparent;\n",
              "      border-left-color: var(--fill-color);\n",
              "      border-top-color: var(--fill-color);\n",
              "    }\n",
              "    30% {\n",
              "      border-color: transparent;\n",
              "      border-left-color: var(--fill-color);\n",
              "      border-top-color: var(--fill-color);\n",
              "      border-right-color: var(--fill-color);\n",
              "    }\n",
              "    40% {\n",
              "      border-color: transparent;\n",
              "      border-right-color: var(--fill-color);\n",
              "      border-top-color: var(--fill-color);\n",
              "    }\n",
              "    60% {\n",
              "      border-color: transparent;\n",
              "      border-right-color: var(--fill-color);\n",
              "    }\n",
              "    80% {\n",
              "      border-color: transparent;\n",
              "      border-right-color: var(--fill-color);\n",
              "      border-bottom-color: var(--fill-color);\n",
              "    }\n",
              "    90% {\n",
              "      border-color: transparent;\n",
              "      border-bottom-color: var(--fill-color);\n",
              "    }\n",
              "  }\n",
              "</style>\n",
              "\n",
              "      <script>\n",
              "        async function quickchart(key) {\n",
              "          const quickchartButtonEl =\n",
              "            document.querySelector('#' + key + ' button');\n",
              "          quickchartButtonEl.disabled = true;  // To prevent multiple clicks.\n",
              "          quickchartButtonEl.classList.add('colab-df-spinner');\n",
              "          try {\n",
              "            const charts = await google.colab.kernel.invokeFunction(\n",
              "                'suggestCharts', [key], {});\n",
              "          } catch (error) {\n",
              "            console.error('Error during call to suggestCharts:', error);\n",
              "          }\n",
              "          quickchartButtonEl.classList.remove('colab-df-spinner');\n",
              "          quickchartButtonEl.classList.add('colab-df-quickchart-complete');\n",
              "        }\n",
              "        (() => {\n",
              "          let quickchartButtonEl =\n",
              "            document.querySelector('#df-774d7862-6449-4826-87af-87c93dfee097 button');\n",
              "          quickchartButtonEl.style.display =\n",
              "            google.colab.kernel.accessAllowed ? 'block' : 'none';\n",
              "        })();\n",
              "      </script>\n",
              "    </div>\n",
              "\n",
              "    </div>\n",
              "  </div>\n"
            ],
            "application/vnd.google.colaboratory.intrinsic+json": {
              "type": "dataframe",
              "variable_name": "df",
              "summary": "{\n  \"name\": \"df\",\n  \"rows\": 1000,\n  \"fields\": [\n    {\n      \"column\": \"review\",\n      \"properties\": {\n        \"dtype\": \"string\",\n        \"num_unique_values\": 1000,\n        \"samples\": [\n          \"DO you really think that this stuff is going to work? especially the trapping? so many people love trapping but when then try it in sparring it doesnt work.the lin lop sau,the bong lop sau,the same hand tan to lop sau-cmon now none of that works against anyone who doesnt leave their hand out there after they throw a punch! this may have been how people fought hundreds if not a thousand years ago but it certainly isnt practical now! if you want to spend lots of your precious time learning an art that most of it you cant use in sparring or in the street then so be it.but like bruce said \\\"man {or for that matter any person man or woman} is MORE IMPORTANT than any art or system\\\" even applies to jkd and wing chun-not the other way around!!!!!!!!!!!!!!!!!!!!!!!!!!!!!!!!!!!!!!!!!!!!!\",\n          \"Sorry... I gave this album a few spins but I still can't think of a one good thing to say about it. Except maybe that it will probably be the weirdest thing you'll ever hear... can't say it's not original, but in this case that's not necessairly a good thing. If you're not familiar with this band, this probably wouldn't be the best album to start with.\",\n          \"Unable to use on my television. Advertisement didn't advise me that it needed a special television to play this game.\"\n        ],\n        \"semantic_type\": \"\",\n        \"description\": \"\"\n      }\n    }\n  ]\n}"
            }
          },
          "metadata": {},
          "execution_count": 6
        }
      ],
      "source": [
        "df = df.drop(columns=['polarity', 'title'])\n",
        "df.head()"
      ]
    },
    {
      "cell_type": "markdown",
      "metadata": {
        "id": "yPKnaqTqUqEF"
      },
      "source": [
        "Lowercasing review text"
      ]
    },
    {
      "cell_type": "code",
      "execution_count": 7,
      "metadata": {
        "colab": {
          "base_uri": "https://localhost:8080/",
          "height": 206
        },
        "id": "SsHB7M8_Usry",
        "outputId": "83b60eae-6ebd-4205-cb8b-013556bfde98"
      },
      "outputs": [
        {
          "output_type": "execute_result",
          "data": {
            "text/plain": [
              "                                              review\n",
              "0  my lovely pat has one of the great voices of h...\n",
              "1  despite the fact that i have only played a sma...\n",
              "2  i bought this charger in jul 2003 and it worke...\n",
              "3  check out maha energy's website. their powerex...\n",
              "4  reviewed quite a bit of the combo players and ..."
            ],
            "text/html": [
              "\n",
              "  <div id=\"df-e2e32de4-c32b-4fd7-bab3-57dc781ca2a9\" class=\"colab-df-container\">\n",
              "    <div>\n",
              "<style scoped>\n",
              "    .dataframe tbody tr th:only-of-type {\n",
              "        vertical-align: middle;\n",
              "    }\n",
              "\n",
              "    .dataframe tbody tr th {\n",
              "        vertical-align: top;\n",
              "    }\n",
              "\n",
              "    .dataframe thead th {\n",
              "        text-align: right;\n",
              "    }\n",
              "</style>\n",
              "<table border=\"1\" class=\"dataframe\">\n",
              "  <thead>\n",
              "    <tr style=\"text-align: right;\">\n",
              "      <th></th>\n",
              "      <th>review</th>\n",
              "    </tr>\n",
              "  </thead>\n",
              "  <tbody>\n",
              "    <tr>\n",
              "      <th>0</th>\n",
              "      <td>my lovely pat has one of the great voices of h...</td>\n",
              "    </tr>\n",
              "    <tr>\n",
              "      <th>1</th>\n",
              "      <td>despite the fact that i have only played a sma...</td>\n",
              "    </tr>\n",
              "    <tr>\n",
              "      <th>2</th>\n",
              "      <td>i bought this charger in jul 2003 and it worke...</td>\n",
              "    </tr>\n",
              "    <tr>\n",
              "      <th>3</th>\n",
              "      <td>check out maha energy's website. their powerex...</td>\n",
              "    </tr>\n",
              "    <tr>\n",
              "      <th>4</th>\n",
              "      <td>reviewed quite a bit of the combo players and ...</td>\n",
              "    </tr>\n",
              "  </tbody>\n",
              "</table>\n",
              "</div>\n",
              "    <div class=\"colab-df-buttons\">\n",
              "\n",
              "  <div class=\"colab-df-container\">\n",
              "    <button class=\"colab-df-convert\" onclick=\"convertToInteractive('df-e2e32de4-c32b-4fd7-bab3-57dc781ca2a9')\"\n",
              "            title=\"Convert this dataframe to an interactive table.\"\n",
              "            style=\"display:none;\">\n",
              "\n",
              "  <svg xmlns=\"http://www.w3.org/2000/svg\" height=\"24px\" viewBox=\"0 -960 960 960\">\n",
              "    <path d=\"M120-120v-720h720v720H120Zm60-500h600v-160H180v160Zm220 220h160v-160H400v160Zm0 220h160v-160H400v160ZM180-400h160v-160H180v160Zm440 0h160v-160H620v160ZM180-180h160v-160H180v160Zm440 0h160v-160H620v160Z\"/>\n",
              "  </svg>\n",
              "    </button>\n",
              "\n",
              "  <style>\n",
              "    .colab-df-container {\n",
              "      display:flex;\n",
              "      gap: 12px;\n",
              "    }\n",
              "\n",
              "    .colab-df-convert {\n",
              "      background-color: #E8F0FE;\n",
              "      border: none;\n",
              "      border-radius: 50%;\n",
              "      cursor: pointer;\n",
              "      display: none;\n",
              "      fill: #1967D2;\n",
              "      height: 32px;\n",
              "      padding: 0 0 0 0;\n",
              "      width: 32px;\n",
              "    }\n",
              "\n",
              "    .colab-df-convert:hover {\n",
              "      background-color: #E2EBFA;\n",
              "      box-shadow: 0px 1px 2px rgba(60, 64, 67, 0.3), 0px 1px 3px 1px rgba(60, 64, 67, 0.15);\n",
              "      fill: #174EA6;\n",
              "    }\n",
              "\n",
              "    .colab-df-buttons div {\n",
              "      margin-bottom: 4px;\n",
              "    }\n",
              "\n",
              "    [theme=dark] .colab-df-convert {\n",
              "      background-color: #3B4455;\n",
              "      fill: #D2E3FC;\n",
              "    }\n",
              "\n",
              "    [theme=dark] .colab-df-convert:hover {\n",
              "      background-color: #434B5C;\n",
              "      box-shadow: 0px 1px 3px 1px rgba(0, 0, 0, 0.15);\n",
              "      filter: drop-shadow(0px 1px 2px rgba(0, 0, 0, 0.3));\n",
              "      fill: #FFFFFF;\n",
              "    }\n",
              "  </style>\n",
              "\n",
              "    <script>\n",
              "      const buttonEl =\n",
              "        document.querySelector('#df-e2e32de4-c32b-4fd7-bab3-57dc781ca2a9 button.colab-df-convert');\n",
              "      buttonEl.style.display =\n",
              "        google.colab.kernel.accessAllowed ? 'block' : 'none';\n",
              "\n",
              "      async function convertToInteractive(key) {\n",
              "        const element = document.querySelector('#df-e2e32de4-c32b-4fd7-bab3-57dc781ca2a9');\n",
              "        const dataTable =\n",
              "          await google.colab.kernel.invokeFunction('convertToInteractive',\n",
              "                                                    [key], {});\n",
              "        if (!dataTable) return;\n",
              "\n",
              "        const docLinkHtml = 'Like what you see? Visit the ' +\n",
              "          '<a target=\"_blank\" href=https://colab.research.google.com/notebooks/data_table.ipynb>data table notebook</a>'\n",
              "          + ' to learn more about interactive tables.';\n",
              "        element.innerHTML = '';\n",
              "        dataTable['output_type'] = 'display_data';\n",
              "        await google.colab.output.renderOutput(dataTable, element);\n",
              "        const docLink = document.createElement('div');\n",
              "        docLink.innerHTML = docLinkHtml;\n",
              "        element.appendChild(docLink);\n",
              "      }\n",
              "    </script>\n",
              "  </div>\n",
              "\n",
              "\n",
              "    <div id=\"df-2d622e4a-fe29-465b-b0ca-9582b712a2fa\">\n",
              "      <button class=\"colab-df-quickchart\" onclick=\"quickchart('df-2d622e4a-fe29-465b-b0ca-9582b712a2fa')\"\n",
              "                title=\"Suggest charts\"\n",
              "                style=\"display:none;\">\n",
              "\n",
              "<svg xmlns=\"http://www.w3.org/2000/svg\" height=\"24px\"viewBox=\"0 0 24 24\"\n",
              "     width=\"24px\">\n",
              "    <g>\n",
              "        <path d=\"M19 3H5c-1.1 0-2 .9-2 2v14c0 1.1.9 2 2 2h14c1.1 0 2-.9 2-2V5c0-1.1-.9-2-2-2zM9 17H7v-7h2v7zm4 0h-2V7h2v10zm4 0h-2v-4h2v4z\"/>\n",
              "    </g>\n",
              "</svg>\n",
              "      </button>\n",
              "\n",
              "<style>\n",
              "  .colab-df-quickchart {\n",
              "      --bg-color: #E8F0FE;\n",
              "      --fill-color: #1967D2;\n",
              "      --hover-bg-color: #E2EBFA;\n",
              "      --hover-fill-color: #174EA6;\n",
              "      --disabled-fill-color: #AAA;\n",
              "      --disabled-bg-color: #DDD;\n",
              "  }\n",
              "\n",
              "  [theme=dark] .colab-df-quickchart {\n",
              "      --bg-color: #3B4455;\n",
              "      --fill-color: #D2E3FC;\n",
              "      --hover-bg-color: #434B5C;\n",
              "      --hover-fill-color: #FFFFFF;\n",
              "      --disabled-bg-color: #3B4455;\n",
              "      --disabled-fill-color: #666;\n",
              "  }\n",
              "\n",
              "  .colab-df-quickchart {\n",
              "    background-color: var(--bg-color);\n",
              "    border: none;\n",
              "    border-radius: 50%;\n",
              "    cursor: pointer;\n",
              "    display: none;\n",
              "    fill: var(--fill-color);\n",
              "    height: 32px;\n",
              "    padding: 0;\n",
              "    width: 32px;\n",
              "  }\n",
              "\n",
              "  .colab-df-quickchart:hover {\n",
              "    background-color: var(--hover-bg-color);\n",
              "    box-shadow: 0 1px 2px rgba(60, 64, 67, 0.3), 0 1px 3px 1px rgba(60, 64, 67, 0.15);\n",
              "    fill: var(--button-hover-fill-color);\n",
              "  }\n",
              "\n",
              "  .colab-df-quickchart-complete:disabled,\n",
              "  .colab-df-quickchart-complete:disabled:hover {\n",
              "    background-color: var(--disabled-bg-color);\n",
              "    fill: var(--disabled-fill-color);\n",
              "    box-shadow: none;\n",
              "  }\n",
              "\n",
              "  .colab-df-spinner {\n",
              "    border: 2px solid var(--fill-color);\n",
              "    border-color: transparent;\n",
              "    border-bottom-color: var(--fill-color);\n",
              "    animation:\n",
              "      spin 1s steps(1) infinite;\n",
              "  }\n",
              "\n",
              "  @keyframes spin {\n",
              "    0% {\n",
              "      border-color: transparent;\n",
              "      border-bottom-color: var(--fill-color);\n",
              "      border-left-color: var(--fill-color);\n",
              "    }\n",
              "    20% {\n",
              "      border-color: transparent;\n",
              "      border-left-color: var(--fill-color);\n",
              "      border-top-color: var(--fill-color);\n",
              "    }\n",
              "    30% {\n",
              "      border-color: transparent;\n",
              "      border-left-color: var(--fill-color);\n",
              "      border-top-color: var(--fill-color);\n",
              "      border-right-color: var(--fill-color);\n",
              "    }\n",
              "    40% {\n",
              "      border-color: transparent;\n",
              "      border-right-color: var(--fill-color);\n",
              "      border-top-color: var(--fill-color);\n",
              "    }\n",
              "    60% {\n",
              "      border-color: transparent;\n",
              "      border-right-color: var(--fill-color);\n",
              "    }\n",
              "    80% {\n",
              "      border-color: transparent;\n",
              "      border-right-color: var(--fill-color);\n",
              "      border-bottom-color: var(--fill-color);\n",
              "    }\n",
              "    90% {\n",
              "      border-color: transparent;\n",
              "      border-bottom-color: var(--fill-color);\n",
              "    }\n",
              "  }\n",
              "</style>\n",
              "\n",
              "      <script>\n",
              "        async function quickchart(key) {\n",
              "          const quickchartButtonEl =\n",
              "            document.querySelector('#' + key + ' button');\n",
              "          quickchartButtonEl.disabled = true;  // To prevent multiple clicks.\n",
              "          quickchartButtonEl.classList.add('colab-df-spinner');\n",
              "          try {\n",
              "            const charts = await google.colab.kernel.invokeFunction(\n",
              "                'suggestCharts', [key], {});\n",
              "          } catch (error) {\n",
              "            console.error('Error during call to suggestCharts:', error);\n",
              "          }\n",
              "          quickchartButtonEl.classList.remove('colab-df-spinner');\n",
              "          quickchartButtonEl.classList.add('colab-df-quickchart-complete');\n",
              "        }\n",
              "        (() => {\n",
              "          let quickchartButtonEl =\n",
              "            document.querySelector('#df-2d622e4a-fe29-465b-b0ca-9582b712a2fa button');\n",
              "          quickchartButtonEl.style.display =\n",
              "            google.colab.kernel.accessAllowed ? 'block' : 'none';\n",
              "        })();\n",
              "      </script>\n",
              "    </div>\n",
              "\n",
              "    </div>\n",
              "  </div>\n"
            ],
            "application/vnd.google.colaboratory.intrinsic+json": {
              "type": "dataframe",
              "variable_name": "df",
              "summary": "{\n  \"name\": \"df\",\n  \"rows\": 1000,\n  \"fields\": [\n    {\n      \"column\": \"review\",\n      \"properties\": {\n        \"dtype\": \"string\",\n        \"num_unique_values\": 1000,\n        \"samples\": [\n          \"do you really think that this stuff is going to work? especially the trapping? so many people love trapping but when then try it in sparring it doesnt work.the lin lop sau,the bong lop sau,the same hand tan to lop sau-cmon now none of that works against anyone who doesnt leave their hand out there after they throw a punch! this may have been how people fought hundreds if not a thousand years ago but it certainly isnt practical now! if you want to spend lots of your precious time learning an art that most of it you cant use in sparring or in the street then so be it.but like bruce said \\\"man {or for that matter any person man or woman} is more important than any art or system\\\" even applies to jkd and wing chun-not the other way around!!!!!!!!!!!!!!!!!!!!!!!!!!!!!!!!!!!!!!!!!!!!!\",\n          \"sorry... i gave this album a few spins but i still can't think of a one good thing to say about it. except maybe that it will probably be the weirdest thing you'll ever hear... can't say it's not original, but in this case that's not necessairly a good thing. if you're not familiar with this band, this probably wouldn't be the best album to start with.\",\n          \"unable to use on my television. advertisement didn't advise me that it needed a special television to play this game.\"\n        ],\n        \"semantic_type\": \"\",\n        \"description\": \"\"\n      }\n    }\n  ]\n}"
            }
          },
          "metadata": {},
          "execution_count": 7
        }
      ],
      "source": [
        "df['review'] = df['review'].str.lower()\n",
        "df.head()"
      ]
    },
    {
      "cell_type": "markdown",
      "metadata": {
        "id": "YmKHUs7sVFRR"
      },
      "source": [
        "### Show dataset statistics: number of sentences, vocabulary size, POS tag distribution"
      ]
    },
    {
      "cell_type": "markdown",
      "metadata": {
        "id": "vJKwnLk0VGi3"
      },
      "source": [
        "Flattening sentences in review comments for better analysis"
      ]
    },
    {
      "cell_type": "code",
      "execution_count": 8,
      "metadata": {
        "id": "IREko0oYWMf8"
      },
      "outputs": [],
      "source": [
        "sentences = [nltk.sent_tokenize(text) for text in df['review'].tolist()]\n",
        "flat_sentences = [sent for sublist in sentences for sent in sublist]\n",
        "num_sentences = len(flat_sentences)"
      ]
    },
    {
      "cell_type": "code",
      "execution_count": 9,
      "metadata": {
        "colab": {
          "base_uri": "https://localhost:8080/"
        },
        "id": "sow79abUWn5V",
        "outputId": "85b9daea-7f32-4fa8-e6dc-79c48f0e472a"
      },
      "outputs": [
        {
          "output_type": "stream",
          "name": "stdout",
          "text": [
            "sentences: 1000 <class 'list'> ['my lovely pat has one of the great voices of her generation.', 'i have listened to this cd for years and i still love it.', \"when i'm in a good mood it makes me feel better.\", 'a bad mood just evaporates like sugar in the rain.', 'this cd just oozes life.', 'vocals are jusat stuunning and lyrics just kill.', \"one of life's hidden gems.\", 'this is a desert isle cd in my book.', 'why she never made it big is just beyond me.', 'everytime i play this, no matter black, white, young, old, male, female everybody says one thing \"who was that singing ?\"']\n",
            "flat_sentences: 4675 <class 'list'> my lovely pat has one of the great voices of her generation.\n"
          ]
        }
      ],
      "source": [
        "print(\"sentences:\",len(sentences), type(sentences), sentences[0])\n",
        "print(\"flat_sentences:\",len(flat_sentences), type(flat_sentences), flat_sentences[0])"
      ]
    },
    {
      "cell_type": "markdown",
      "metadata": {
        "id": "YH-KAE6wVFRR"
      },
      "source": [
        "### Handle special characters and normalize text appropriately"
      ]
    },
    {
      "cell_type": "code",
      "execution_count": 10,
      "metadata": {
        "id": "bwCgVFz3VGw3"
      },
      "outputs": [],
      "source": [
        "cleaned_sentences = [re.sub(r'[^A-Za-z0-9\\s]', '', sent).strip() for sent in flat_sentences]"
      ]
    },
    {
      "cell_type": "code",
      "execution_count": 11,
      "metadata": {
        "id": "BvXLVGsFWjqR",
        "colab": {
          "base_uri": "https://localhost:8080/"
        },
        "outputId": "831ec44e-a03d-41d2-a64d-9a5b38bc1d8d"
      },
      "outputs": [
        {
          "output_type": "stream",
          "name": "stdout",
          "text": [
            "cleaned_sentences: 4675 <class 'list'> my lovely pat has one of the great voices of her generation\n"
          ]
        }
      ],
      "source": [
        "print(\"cleaned_sentences:\",len(cleaned_sentences), type(cleaned_sentences), cleaned_sentences[0])"
      ]
    },
    {
      "cell_type": "markdown",
      "metadata": {
        "id": "W4yghARlVFRS"
      },
      "source": [
        "Tokenization for words to get vocabulary size"
      ]
    },
    {
      "cell_type": "code",
      "execution_count": 12,
      "metadata": {
        "colab": {
          "base_uri": "https://localhost:8080/"
        },
        "id": "e4qjO7agVFRT",
        "outputId": "6efb26a1-7b7a-4230-ccac-4d72c55bf510"
      },
      "outputs": [
        {
          "output_type": "stream",
          "name": "stdout",
          "text": [
            "vocabulary: 9930 <class 'set'>\n"
          ]
        }
      ],
      "source": [
        "words = [nltk.word_tokenize(sentence) for sentence in cleaned_sentences]\n",
        "flat_words = [word for sublist in words for word in sublist]\n",
        "vocabulary = set(flat_words)\n",
        "vocabulary_size = len(vocabulary)\n",
        "print(\"vocabulary:\",len(vocabulary), type(vocabulary))"
      ]
    },
    {
      "cell_type": "markdown",
      "metadata": {
        "id": "R4W7Y9TZVFRT"
      },
      "source": [
        "POS tag distribution"
      ]
    },
    {
      "cell_type": "code",
      "execution_count": 13,
      "metadata": {
        "colab": {
          "base_uri": "https://localhost:8080/"
        },
        "id": "9Yz2LLXbVFRT",
        "outputId": "3c6d2fb8-d8da-40e9-9175-578e4b4e8158"
      },
      "outputs": [
        {
          "output_type": "stream",
          "name": "stdout",
          "text": [
            "flat_pos_tags: 75384 <class 'list'>\n"
          ]
        }
      ],
      "source": [
        "pos_tags = [nltk.pos_tag(sentence_words) for sentence_words in words]\n",
        "flat_pos_tags = [tag for sublist in pos_tags for word, tag in sublist]\n",
        "pos_tag_counts = Counter(flat_pos_tags)\n",
        "print(\"flat_pos_tags:\",len(flat_pos_tags), type(flat_pos_tags))"
      ]
    },
    {
      "cell_type": "markdown",
      "metadata": {
        "id": "Psh7XYAIVFRT"
      },
      "source": [
        "### Print Summary of Dataset"
      ]
    },
    {
      "cell_type": "code",
      "execution_count": 14,
      "metadata": {
        "colab": {
          "base_uri": "https://localhost:8080/"
        },
        "id": "_T-zOY7eVFRU",
        "outputId": "15b3be40-9507-4411-e3aa-b36def664ab3"
      },
      "outputs": [
        {
          "output_type": "stream",
          "name": "stdout",
          "text": [
            "Dataset Statistics:\n",
            "Number of reviews : 1000\n",
            "Number of sentences: 4675\n",
            "Vocabulary size: 9930\n",
            "all POS tags: 75384\n",
            "POS tag distribution: [('NN', 14907), ('DT', 8692), ('IN', 8224), ('JJ', 6767), ('RB', 4893), ('NNS', 3805), ('VB', 3406), ('PRP', 3334), ('CC', 2873), ('VBD', 2705)]\n"
          ]
        }
      ],
      "source": [
        "print(\"Dataset Statistics:\")\n",
        "print(\"Number of reviews :\", len(df))\n",
        "print(f\"Number of sentences: {num_sentences}\")\n",
        "print(f\"Vocabulary size: {vocabulary_size}\")\n",
        "print(f\"all POS tags: {len(flat_pos_tags)}\")\n",
        "print(f\"POS tag distribution: {pos_tag_counts.most_common(10)}\") # Show top 10"
      ]
    },
    {
      "cell_type": "markdown",
      "metadata": {
        "id": "I1tc7r2SVFRU"
      },
      "source": [
        "Plotting POS Tag Counters"
      ]
    },
    {
      "cell_type": "code",
      "execution_count": 15,
      "metadata": {
        "colab": {
          "base_uri": "https://localhost:8080/",
          "height": 399
        },
        "id": "SbqafSibVFRU",
        "outputId": "6ac636c5-5f4a-4d10-bdfb-9b6430427867"
      },
      "outputs": [
        {
          "output_type": "display_data",
          "data": {
            "text/plain": [
              "<Figure size 1000x500 with 1 Axes>"
            ],
            "image/png": "[encoded data removed]"
          },
          "metadata": {}
        }
      ],
      "source": [
        "# Unpack the tags and their counts\n",
        "tags, counts = zip(*pos_tag_counts.items())\n",
        "\n",
        "# Create the bar plot\n",
        "plt.figure(figsize=(10, 5))\n",
        "plt.bar(tags, counts, color='skyblue', edgecolor='black')\n",
        "plt.xlabel('POS Tags')\n",
        "plt.ylabel('Frequency')\n",
        "plt.title('Part-of-Speech Tag Distribution')\n",
        "plt.xticks(rotation=45)\n",
        "plt.grid(axis='y', linestyle='--', alpha=0.7)\n",
        "\n",
        "plt.tight_layout()\n",
        "plt.show()"
      ]
    },
    {
      "cell_type": "markdown",
      "metadata": {
        "id": "oqlpZxLcVFRU"
      },
      "source": [
        "## b. Tokenization, Encoding and Sequence Processing"
      ]
    },
    {
      "cell_type": "markdown",
      "metadata": {
        "id": "b3IUmw-sVFRV"
      },
      "source": [
        "### Implement tokenization for words and sentences"
      ]
    },
    {
      "cell_type": "markdown",
      "metadata": {
        "id": "BW9Kx5yCVFRV"
      },
      "source": [
        "Create word and tag lists"
      ]
    },
    {
      "cell_type": "code",
      "execution_count": 16,
      "metadata": {
        "id": "2wPdWK_iVFRV"
      },
      "outputs": [],
      "source": [
        "all_words_with_tags = [(word, tag) for sent in pos_tags for word, tag in sent]"
      ]
    },
    {
      "cell_type": "markdown",
      "metadata": {
        "id": "GhSh8U7PVFRV"
      },
      "source": [
        "### Generate word-to-index and tag-to-index mappings"
      ]
    },
    {
      "cell_type": "markdown",
      "metadata": {
        "id": "UxiY4GVtVFRV"
      },
      "source": [
        "Generate word to index"
      ]
    },
    {
      "cell_type": "code",
      "execution_count": 17,
      "metadata": {
        "id": "1HZtXxi7VFRW"
      },
      "outputs": [],
      "source": [
        "word_to_index = {word: i + 1 for i, word in enumerate(sorted(list(vocabulary)))} # Add 1 for padding\n",
        "word_to_index['<PAD>'] = 0 # Padding token\n",
        "index_to_word = {i: word for word, i in word_to_index.items()}"
      ]
    },
    {
      "cell_type": "markdown",
      "metadata": {
        "id": "nfXRWjtgVFRW"
      },
      "source": [
        "Generate Tag to Index"
      ]
    },
    {
      "cell_type": "code",
      "execution_count": 18,
      "metadata": {
        "id": "8TqzivjtVFRW"
      },
      "outputs": [],
      "source": [
        "all_tags = sorted(list(set(flat_pos_tags)))\n",
        "tag_to_index = {tag: i + 1 for i, tag in enumerate(all_tags)} # Add 1 for padding\n",
        "tag_to_index['<PAD>'] = 0 # Padding tag\n",
        "index_to_tag = {i: tag for tag, i in tag_to_index.items()}"
      ]
    },
    {
      "cell_type": "markdown",
      "metadata": {
        "id": "Fz6BfxryVFRW"
      },
      "source": [
        "### Create vocabulary mappings and POS tag encodings"
      ]
    },
    {
      "cell_type": "code",
      "execution_count": 19,
      "metadata": {
        "id": "jp0pPISwVFRW"
      },
      "outputs": [],
      "source": [
        "encoded_sequences = []\n",
        "for sent in pos_tags:\n",
        "    word_indices = [word_to_index.get(word, word_to_index['<PAD>']) for word, tag in sent]\n",
        "    tag_indices = [tag_to_index.get(tag, tag_to_index['<PAD>']) for word, tag in sent]\n",
        "    encoded_sequences.append((word_indices, tag_indices))"
      ]
    },
    {
      "cell_type": "markdown",
      "metadata": {
        "id": "U3sUS62dVFRW"
      },
      "source": [
        "### Split data into training (70%), validation (15%), and test (15%) sets"
      ]
    },
    {
      "cell_type": "code",
      "execution_count": 20,
      "metadata": {
        "id": "coMssNVPVFRW"
      },
      "outputs": [],
      "source": [
        "train_sequences, temp_sequences = train_test_split(encoded_sequences, test_size=0.30, random_state=42)\n",
        "val_sequences, test_sequences = train_test_split(temp_sequences, test_size=0.5, random_state=42)"
      ]
    },
    {
      "cell_type": "markdown",
      "metadata": {
        "id": "q3bohannVFRX"
      },
      "source": [
        "### Print Summary"
      ]
    },
    {
      "cell_type": "code",
      "execution_count": 21,
      "metadata": {
        "colab": {
          "base_uri": "https://localhost:8080/"
        },
        "id": "epOqIFa4VFRX",
        "outputId": "a6bbac27-ecc9-4c86-cac0-2c95776567b2"
      },
      "outputs": [
        {
          "output_type": "stream",
          "name": "stdout",
          "text": [
            "\n",
            "Mapping Sizes:\n",
            "Word to index mapping size: 9931\n",
            "Tag to index mapping size: 34\n"
          ]
        }
      ],
      "source": [
        "print(\"\\nMapping Sizes:\")\n",
        "print(f\"Word to index mapping size: {len(word_to_index)}\")\n",
        "print(f\"Tag to index mapping size: {len(tag_to_index)}\")"
      ]
    },
    {
      "cell_type": "code",
      "execution_count": 22,
      "metadata": {
        "colab": {
          "base_uri": "https://localhost:8080/"
        },
        "id": "yfr40lNSVFRX",
        "outputId": "80b2da80-75bc-4dd7-ba68-b4340c5d6f04"
      },
      "outputs": [
        {
          "output_type": "stream",
          "name": "stdout",
          "text": [
            "\n",
            "Data Split:\n",
            "Number of training sequences: 3272\n",
            "Number of validation sequences: 701\n",
            "Number of test sequences: 702\n"
          ]
        }
      ],
      "source": [
        "print(\"\\nData Split:\")\n",
        "print(f\"Number of training sequences: {len(train_sequences)}\")\n",
        "print(f\"Number of validation sequences: {len(val_sequences)}\")\n",
        "print(f\"Number of test sequences: {len(test_sequences)}\")"
      ]
    },
    {
      "cell_type": "code",
      "execution_count": 23,
      "metadata": {
        "colab": {
          "base_uri": "https://localhost:8080/"
        },
        "id": "ZXcbMv2PVFRX",
        "outputId": "6330853a-7f52-48ef-cfd7-e327b41aa2e3"
      },
      "outputs": [
        {
          "output_type": "stream",
          "name": "stdout",
          "text": [
            "\n",
            "Example Encoded Sentence:\n",
            "Word Indices: [5752, 5165, 6318, 3972, 6055, 6012, 8755, 3839, 9491, 6012] ...\n",
            "Tag Indices: [17, 8, 12, 29, 3, 7, 4, 8, 14, 7] ...\n",
            "Original Words: ['my', 'lovely', 'pat', 'has', 'one', 'of', 'the', 'great', 'voices', 'of'] ...\n",
            "Original Tags: ['PRP$', 'JJ', 'NN', 'VBZ', 'CD', 'IN', 'DT', 'JJ', 'NNS', 'IN'] ...\n"
          ]
        }
      ],
      "source": [
        "if encoded_sequences:\n",
        "    sample_word_indices, sample_tag_indices = encoded_sequences[0]\n",
        "    print(\"\\nExample Encoded Sentence:\")\n",
        "    print(\"Word Indices:\", sample_word_indices[:10], \"...\")\n",
        "    print(\"Tag Indices:\", sample_tag_indices[:10], \"...\")\n",
        "    print(\"Original Words:\", [index_to_word.get(idx, '<UNK>') for idx in sample_word_indices[:10]], \"...\")\n",
        "    print(\"Original Tags:\", [index_to_tag.get(idx, '<UNK>') for idx in sample_tag_indices[:10]], \"...\")"
      ]
    },
    {
      "cell_type": "markdown",
      "metadata": {
        "id": "fNb9JKl4VFRY"
      },
      "source": [
        "## c. Feature Extraction for MEMM"
      ]
    },
    {
      "cell_type": "markdown",
      "metadata": {
        "id": "aTgS5hM9VFRY"
      },
      "source": [
        "Extracts features for each word in a sentence for MEMM."
      ]
    },
    {
      "cell_type": "code",
      "execution_count": 24,
      "metadata": {
        "id": "Rlk4UerPVFRY"
      },
      "outputs": [],
      "source": [
        "def extract_features(sentence, word_index, tag_index, prev_tags=None):\n",
        "    \"\"\"\n",
        "    Extracts features for each word in a sentence for MEMM.\n",
        "\n",
        "    Args:\n",
        "        sentence (list): A list of (word, tag) tuples for a sentence.\n",
        "        word_index (dict): Mapping from word to index.\n",
        "        tag_index (dict): Mapping from tag to index.\n",
        "        prev_tags (list, optional): A list of previous tags (indices)\n",
        "                                     for the sequence. Defaults to None.\n",
        "\n",
        "    Returns:\n",
        "        list: A list of feature dictionaries, one for each word in the sentence.\n",
        "    \"\"\"\n",
        "    features = []\n",
        "    sentence_length = len(sentence)\n",
        "\n",
        "    # Ensure prev_tags is initialized as a list of padding indices if not provided\n",
        "    if prev_tags is None:\n",
        "        prev_tags = [tag_index.get('<PAD>', 0)] * sentence_length # Placeholder, will be updated dynamically\n",
        "\n",
        "    for i in range(sentence_length):\n",
        "        word, current_tag = sentence[i]\n",
        "        word_idx = word_to_index.get(word, word_to_index.get('<PAD>', 0))\n",
        "        tag_idx = tag_to_index.get(current_tag, tag_to_index.get('<PAD>', 0))\n",
        "\n",
        "        # Handle previous tags dynamically or using the provided sequence\n",
        "        prev_tag_idx = prev_tags[i-1] if i > 0 else tag_index.get('<PAD>', 0)\n",
        "        prev_prev_tag_idx = prev_tags[i-2] if i > 1 else tag_index.get('<PAD>', 0)\n",
        "\n",
        "        feature_dict = {\n",
        "            # Current word and its properties\n",
        "            'word': word,\n",
        "            'word_idx': word_idx,\n",
        "            'word.lower()': word.lower(),\n",
        "            'word.isupper()': word.isupper(),\n",
        "            'word.istitle()': word.istitle(),\n",
        "            'word.isdigit()': word.isdigit(),\n",
        "            'word_length': len(word),\n",
        "\n",
        "            # Context features\n",
        "            'prev_word': sentence[i-1][0] if i > 0 else '<START>',\n",
        "            'prev_word_idx': word_to_index.get(sentence[i-1][0], word_to_index.get('<PAD>', 0)) if i > 0 else word_to_index.get('<PAD>', 0),\n",
        "            'next_word': sentence[i+1][0] if i < sentence_length - 1 else '<END>',\n",
        "            'next_word_idx': word_to_index.get(sentence[i+1][0], word_to_index.get('<PAD>', 0)) if i < sentence_length - 1 else word_to_index.get('<PAD>', 0),\n",
        "            'prev_tag_idx': prev_tag_idx, # This should ideally be the predicted tag\n",
        "            'prev_prev_tag_idx': prev_prev_tag_idx, # This should ideally be the predicted tag\n",
        "\n",
        "            # Morphological features\n",
        "            'prefix-1': word[0] if len(word) > 0 else '',\n",
        "            'prefix-2': word[:2] if len(word) > 1 else '',\n",
        "            'prefix-3': word[:3] if len(word) > 2 else '',\n",
        "            'suffix-1': word[-1] if len(word) > 0 else '',\n",
        "            'suffix-2': word[-2:] if len(word) > 1 else '',\n",
        "            'suffix-3': word[-3:] if len(word) > 2 else '',\n",
        "            'word_shape': re.sub(r'[A-Z]', 'X', re.sub(r'[a-z]', 'x', re.sub(r'[0-9]', 'd', word))),\n",
        "\n",
        "            # Position features\n",
        "            'is_first': i == 0,\n",
        "            'is_last': i == sentence_length - 1,\n",
        "\n",
        "            # The target variable (current tag) is NOT a feature for MEMM,\n",
        "            # but we might store it for convenience during training.\n",
        "            # 'current_tag_idx': tag_idx\n",
        "        }\n",
        "        features.append(feature_dict)\n",
        "    return features"
      ]
    },
    {
      "cell_type": "markdown",
      "metadata": {
        "id": "RNHwYMi6VFRZ"
      },
      "source": [
        "Example usage on a sample sentence from the training data"
      ]
    },
    {
      "cell_type": "code",
      "execution_count": 25,
      "metadata": {
        "colab": {
          "base_uri": "https://localhost:8080/"
        },
        "id": "-emSpB5oVFRa",
        "outputId": "8634aff3-a640-4351-ecde-e92fc02aeb75"
      },
      "outputs": [
        {
          "output_type": "stream",
          "name": "stdout",
          "text": [
            "sample_sentence_with_tags 15 <class 'list'> [('we', 'PRP'), ('bought', 'VBD'), ('this', 'DT'), ('emer', 'NN'), ('galilieo', 'NN'), ('vacuum', 'NN'), ('cleaner', 'JJR'), ('for', 'IN'), ('about', 'RB'), ('400', 'CD'), ('more', 'JJR'), ('than', 'IN'), ('one', 'CD'), ('year', 'NN'), ('ago', 'RB')]\n"
          ]
        }
      ],
      "source": [
        "# Example usage on a sample sentence from the training data\n",
        "# We need the original (word, tag) tuples to extract features\n",
        "# Let's reconstruct a sample sentence from the first encoded training sequence\n",
        "sample_encoded_sequence = train_sequences[0]\n",
        "sample_word_indices, sample_tag_indices = sample_encoded_sequence\n",
        "sample_sentence_with_tags = [(index_to_word.get(w_idx, '<UNK>'), index_to_tag.get(t_idx, '<UNK>'))\n",
        "                             for w_idx, t_idx in zip(sample_word_indices, sample_tag_indices)]\n",
        "\n",
        "print(\"sample_sentence_with_tags\",len(sample_sentence_with_tags),type(sample_sentence_with_tags), sample_sentence_with_tags)"
      ]
    },
    {
      "cell_type": "code",
      "execution_count": 26,
      "metadata": {
        "id": "P-bgd86sVFRa"
      },
      "outputs": [],
      "source": [
        "# For feature extraction in the training phase, we use the true previous tags.\n",
        "# For prediction (inference), we will use the previously predicted tags.\n",
        "# Let's get the actual previous tag indices for the sample sentence\n",
        "sample_true_prev_tag_indices = [tag_to_index.get(tag, tag_to_index.get('<PAD>', 0)) for _, tag in sample_sentence_with_tags]\n",
        "sample_features = extract_features(sample_sentence_with_tags, word_to_index, tag_to_index, prev_tags=sample_true_prev_tag_indices)"
      ]
    },
    {
      "cell_type": "code",
      "execution_count": 27,
      "metadata": {
        "scrolled": true,
        "colab": {
          "base_uri": "https://localhost:8080/"
        },
        "id": "26iLyl0nVFRa",
        "outputId": "0147ed3a-325e-494b-d7ee-a5d65e489536"
      },
      "outputs": [
        {
          "output_type": "stream",
          "name": "stdout",
          "text": [
            "\n",
            "Features for the first few words of a sample sentence:\n",
            "Word: we\n",
            "{'word': 'we', 'word.isupper()': False, 'prev_word': '<START>', 'next_word': 'bought', 'prev_tag_idx': 0, 'is_first': True, 'suffix-3': ''}\n",
            "--------------------\n",
            "Word: bought\n",
            "{'word': 'bought', 'word.isupper()': False, 'prev_word': 'we', 'next_word': 'this', 'prev_tag_idx': 16, 'is_first': False, 'suffix-3': 'ght'}\n",
            "--------------------\n",
            "Word: this\n",
            "{'word': 'this', 'word.isupper()': False, 'prev_word': 'bought', 'next_word': 'emer', 'prev_tag_idx': 25, 'is_first': False, 'suffix-3': 'his'}\n",
            "--------------------\n",
            "Word: emer\n",
            "{'word': 'emer', 'word.isupper()': False, 'prev_word': 'this', 'next_word': 'galilieo', 'prev_tag_idx': 4, 'is_first': False, 'suffix-3': 'mer'}\n",
            "--------------------\n",
            "Word: galilieo\n",
            "{'word': 'galilieo', 'word.isupper()': False, 'prev_word': 'emer', 'next_word': 'vacuum', 'prev_tag_idx': 12, 'is_first': False, 'suffix-3': 'ieo'}\n",
            "--------------------\n"
          ]
        }
      ],
      "source": [
        "print(\"\\nFeatures for the first few words of a sample sentence:\")\n",
        "for j, feature in enumerate(sample_features[:5]):\n",
        "    print(f\"Word: {sample_sentence_with_tags[j][0]}\")\n",
        "    # Print a subset of features for clarity\n",
        "    print({k: feature[k] for k in ['word', 'word.isupper()', 'prev_word', 'next_word', 'prev_tag_idx', 'is_first', 'suffix-3']})\n",
        "    print(\"-\" * 20)\n"
      ]
    },
    {
      "cell_type": "markdown",
      "metadata": {
        "id": "NZD0cSWQVFRa"
      },
      "source": [
        "# Part 2: Model Implementation"
      ]
    },
    {
      "cell_type": "markdown",
      "metadata": {
        "id": "gxVtfXwkVFRa"
      },
      "source": [
        "## Model 1: Maximum Entropy Markov Model (MEMM)"
      ]
    },
    {
      "cell_type": "markdown",
      "metadata": {
        "id": "QpnH_gjiVFRa"
      },
      "source": [
        "Creates feature vectors (X) and labels (y) for MEMM training."
      ]
    },
    {
      "cell_type": "code",
      "execution_count": 28,
      "metadata": {
        "id": "3fIQNxujVFRa"
      },
      "outputs": [],
      "source": [
        "def create_memm_data(sequences):\n",
        "    \"\"\"\n",
        "    Creates feature vectors (X) and labels (y) for MEMM training.\n",
        "    Features are extracted using true previous tags during training.\n",
        "    \"\"\"\n",
        "    X = []\n",
        "    y = []\n",
        "    for word_indices, tag_indices in sequences:\n",
        "        sentence_words_tags = [(index_to_word.get(w_idx, '<UNK>'), index_to_tag.get(t_idx, '<UNK>'))\n",
        "                               for w_idx, t_idx in zip(word_indices, tag_indices)]\n",
        "        # Extract features using true previous tags for training\n",
        "        sentence_features = extract_features(sentence_words_tags, word_to_index, tag_to_index, prev_tags=tag_indices)\n",
        "        X.extend(sentence_features)\n",
        "        y.extend([tag_to_index.get(tag, tag_to_index.get('<PAD>', 0)) for _, tag in sentence_words_tags])\n",
        "    return X, y"
      ]
    },
    {
      "cell_type": "markdown",
      "metadata": {
        "id": "LU1xfGazVFRa"
      },
      "source": [
        "Prepare data for MEMM"
      ]
    },
    {
      "cell_type": "code",
      "execution_count": 29,
      "metadata": {
        "id": "mOAkk2AfVFRa"
      },
      "outputs": [],
      "source": [
        "X_train_memm, y_train_memm = create_memm_data(train_sequences)"
      ]
    },
    {
      "cell_type": "code",
      "execution_count": 30,
      "metadata": {
        "id": "gRQnSNw1VFRb"
      },
      "outputs": [],
      "source": [
        "X_val_memm, y_val_memm = create_memm_data(val_sequences)"
      ]
    },
    {
      "cell_type": "code",
      "execution_count": 31,
      "metadata": {
        "id": "q1n_Ls7YVFRb"
      },
      "outputs": [],
      "source": [
        "X_test_memm, y_test_memm = create_memm_data(test_sequences)"
      ]
    },
    {
      "cell_type": "markdown",
      "metadata": {
        "id": "GWB6kHbTVFRb"
      },
      "source": [
        "Creating MEMM model"
      ]
    },
    {
      "cell_type": "code",
      "execution_count": 32,
      "metadata": {
        "id": "KQ-FFJCZVFRc"
      },
      "outputs": [],
      "source": [
        "# Build the MEMM pipeline\n",
        "# 1. DictVectorizer to convert dictionaries of features into a numerical feature matrix\n",
        "# 2. LogisticRegression for the classification of each word's tag\n",
        "memm_pipeline = Pipeline([\n",
        "    ('vectorizer', DictVectorizer(sparse=True)), # sparse=True is efficient for sparse features\n",
        "    ('classifier', LogisticRegression(solver='lbfgs', multi_class='auto', max_iter=200, C=1.0, penalty='l2', n_jobs=-1, verbose=1 )) # Add regularization\n",
        "])"
      ]
    },
    {
      "cell_type": "markdown",
      "metadata": {
        "id": "5PgoJTUaVFRc"
      },
      "source": [
        "Train the MEMM model"
      ]
    },
    {
      "cell_type": "code",
      "execution_count": 33,
      "metadata": {
        "colab": {
          "base_uri": "https://localhost:8080/",
          "height": 228
        },
        "id": "iZBwWn-GVFRc",
        "outputId": "f4c2972d-c3f4-423e-9411-a5b548fa3295"
      },
      "outputs": [
        {
          "output_type": "stream",
          "name": "stderr",
          "text": [
            "/usr/local/lib/python3.11/dist-packages/sklearn/linear_model/_logistic.py:1247: FutureWarning: 'multi_class' was deprecated in version 1.5 and will be removed in 1.7. From then on, it will always use 'multinomial'. Leave it to its default value to avoid this warning.\n",
            "  warnings.warn(\n",
            "[Parallel(n_jobs=-1)]: Using backend LokyBackend with 2 concurrent workers.\n"
          ]
        },
        {
          "output_type": "execute_result",
          "data": {
            "text/plain": [
              "Pipeline(steps=[('vectorizer', DictVectorizer()),\n",
              "                ('classifier',\n",
              "                 LogisticRegression(max_iter=200, multi_class='auto', n_jobs=-1,\n",
              "                                    verbose=1))])"
            ],
            "text/html": [
              "<style>#sk-container-id-1 {\n",
              "  /* Definition of color scheme common for light and dark mode */\n",
              "  --sklearn-color-text: #000;\n",
              "  --sklearn-color-text-muted: #666;\n",
              "  --sklearn-color-line: gray;\n",
              "  /* Definition of color scheme for unfitted estimators */\n",
              "  --sklearn-color-unfitted-level-0: #fff5e6;\n",
              "  --sklearn-color-unfitted-level-1: #f6e4d2;\n",
              "  --sklearn-color-unfitted-level-2: #ffe0b3;\n",
              "  --sklearn-color-unfitted-level-3: chocolate;\n",
              "  /* Definition of color scheme for fitted estimators */\n",
              "  --sklearn-color-fitted-level-0: #f0f8ff;\n",
              "  --sklearn-color-fitted-level-1: #d4ebff;\n",
              "  --sklearn-color-fitted-level-2: #b3dbfd;\n",
              "  --sklearn-color-fitted-level-3: cornflowerblue;\n",
              "\n",
              "  /* Specific color for light theme */\n",
              "  --sklearn-color-text-on-default-background: var(--sg-text-color, var(--theme-code-foreground, var(--jp-content-font-color1, black)));\n",
              "  --sklearn-color-background: var(--sg-background-color, var(--theme-background, var(--jp-layout-color0, white)));\n",
              "  --sklearn-color-border-box: var(--sg-text-color, var(--theme-code-foreground, var(--jp-content-font-color1, black)));\n",
              "  --sklearn-color-icon: #696969;\n",
              "\n",
              "  @media (prefers-color-scheme: dark) {\n",
              "    /* Redefinition of color scheme for dark theme */\n",
              "    --sklearn-color-text-on-default-background: var(--sg-text-color, var(--theme-code-foreground, var(--jp-content-font-color1, white)));\n",
              "    --sklearn-color-background: var(--sg-background-color, var(--theme-background, var(--jp-layout-color0, #111)));\n",
              "    --sklearn-color-border-box: var(--sg-text-color, var(--theme-code-foreground, var(--jp-content-font-color1, white)));\n",
              "    --sklearn-color-icon: #878787;\n",
              "  }\n",
              "}\n",
              "\n",
              "#sk-container-id-1 {\n",
              "  color: var(--sklearn-color-text);\n",
              "}\n",
              "\n",
              "#sk-container-id-1 pre {\n",
              "  padding: 0;\n",
              "}\n",
              "\n",
              "#sk-container-id-1 input.sk-hidden--visually {\n",
              "  border: 0;\n",
              "  clip: rect(1px 1px 1px 1px);\n",
              "  clip: rect(1px, 1px, 1px, 1px);\n",
              "  height: 1px;\n",
              "  margin: -1px;\n",
              "  overflow: hidden;\n",
              "  padding: 0;\n",
              "  position: absolute;\n",
              "  width: 1px;\n",
              "}\n",
              "\n",
              "#sk-container-id-1 div.sk-dashed-wrapped {\n",
              "  border: 1px dashed var(--sklearn-color-line);\n",
              "  margin: 0 0.4em 0.5em 0.4em;\n",
              "  box-sizing: border-box;\n",
              "  padding-bottom: 0.4em;\n",
              "  background-color: var(--sklearn-color-background);\n",
              "}\n",
              "\n",
              "#sk-container-id-1 div.sk-container {\n",
              "  /* jupyter's `normalize.less` sets `[hidden] { display: none; }`\n",
              "     but bootstrap.min.css set `[hidden] { display: none !important; }`\n",
              "     so we also need the `!important` here to be able to override the\n",
              "     default hidden behavior on the sphinx rendered scikit-learn.org.\n",
              "     See: https://github.com/scikit-learn/scikit-learn/issues/21755 */\n",
              "  display: inline-block !important;\n",
              "  position: relative;\n",
              "}\n",
              "\n",
              "#sk-container-id-1 div.sk-text-repr-fallback {\n",
              "  display: none;\n",
              "}\n",
              "\n",
              "div.sk-parallel-item,\n",
              "div.sk-serial,\n",
              "div.sk-item {\n",
              "  /* draw centered vertical line to link estimators */\n",
              "  background-image: linear-gradient(var(--sklearn-color-text-on-default-background), var(--sklearn-color-text-on-default-background));\n",
              "  background-size: 2px 100%;\n",
              "  background-repeat: no-repeat;\n",
              "  background-position: center center;\n",
              "}\n",
              "\n",
              "/* Parallel-specific style estimator block */\n",
              "\n",
              "#sk-container-id-1 div.sk-parallel-item::after {\n",
              "  content: \"\";\n",
              "  width: 100%;\n",
              "  border-bottom: 2px solid var(--sklearn-color-text-on-default-background);\n",
              "  flex-grow: 1;\n",
              "}\n",
              "\n",
              "#sk-container-id-1 div.sk-parallel {\n",
              "  display: flex;\n",
              "  align-items: stretch;\n",
              "  justify-content: center;\n",
              "  background-color: var(--sklearn-color-background);\n",
              "  position: relative;\n",
              "}\n",
              "\n",
              "#sk-container-id-1 div.sk-parallel-item {\n",
              "  display: flex;\n",
              "  flex-direction: column;\n",
              "}\n",
              "\n",
              "#sk-container-id-1 div.sk-parallel-item:first-child::after {\n",
              "  align-self: flex-end;\n",
              "  width: 50%;\n",
              "}\n",
              "\n",
              "#sk-container-id-1 div.sk-parallel-item:last-child::after {\n",
              "  align-self: flex-start;\n",
              "  width: 50%;\n",
              "}\n",
              "\n",
              "#sk-container-id-1 div.sk-parallel-item:only-child::after {\n",
              "  width: 0;\n",
              "}\n",
              "\n",
              "/* Serial-specific style estimator block */\n",
              "\n",
              "#sk-container-id-1 div.sk-serial {\n",
              "  display: flex;\n",
              "  flex-direction: column;\n",
              "  align-items: center;\n",
              "  background-color: var(--sklearn-color-background);\n",
              "  padding-right: 1em;\n",
              "  padding-left: 1em;\n",
              "}\n",
              "\n",
              "\n",
              "/* Toggleable style: style used for estimator/Pipeline/ColumnTransformer box that is\n",
              "clickable and can be expanded/collapsed.\n",
              "- Pipeline and ColumnTransformer use this feature and define the default style\n",
              "- Estimators will overwrite some part of the style using the `sk-estimator` class\n",
              "*/\n",
              "\n",
              "/* Pipeline and ColumnTransformer style (default) */\n",
              "\n",
              "#sk-container-id-1 div.sk-toggleable {\n",
              "  /* Default theme specific background. It is overwritten whether we have a\n",
              "  specific estimator or a Pipeline/ColumnTransformer */\n",
              "  background-color: var(--sklearn-color-background);\n",
              "}\n",
              "\n",
              "/* Toggleable label */\n",
              "#sk-container-id-1 label.sk-toggleable__label {\n",
              "  cursor: pointer;\n",
              "  display: flex;\n",
              "  width: 100%;\n",
              "  margin-bottom: 0;\n",
              "  padding: 0.5em;\n",
              "  box-sizing: border-box;\n",
              "  text-align: center;\n",
              "  align-items: start;\n",
              "  justify-content: space-between;\n",
              "  gap: 0.5em;\n",
              "}\n",
              "\n",
              "#sk-container-id-1 label.sk-toggleable__label .caption {\n",
              "  font-size: 0.6rem;\n",
              "  font-weight: lighter;\n",
              "  color: var(--sklearn-color-text-muted);\n",
              "}\n",
              "\n",
              "#sk-container-id-1 label.sk-toggleable__label-arrow:before {\n",
              "  /* Arrow on the left of the label */\n",
              "  content: \"▸\";\n",
              "  float: left;\n",
              "  margin-right: 0.25em;\n",
              "  color: var(--sklearn-color-icon);\n",
              "}\n",
              "\n",
              "#sk-container-id-1 label.sk-toggleable__label-arrow:hover:before {\n",
              "  color: var(--sklearn-color-text);\n",
              "}\n",
              "\n",
              "/* Toggleable content - dropdown */\n",
              "\n",
              "#sk-container-id-1 div.sk-toggleable__content {\n",
              "  max-height: 0;\n",
              "  max-width: 0;\n",
              "  overflow: hidden;\n",
              "  text-align: left;\n",
              "  /* unfitted */\n",
              "  background-color: var(--sklearn-color-unfitted-level-0);\n",
              "}\n",
              "\n",
              "#sk-container-id-1 div.sk-toggleable__content.fitted {\n",
              "  /* fitted */\n",
              "  background-color: var(--sklearn-color-fitted-level-0);\n",
              "}\n",
              "\n",
              "#sk-container-id-1 div.sk-toggleable__content pre {\n",
              "  margin: 0.2em;\n",
              "  border-radius: 0.25em;\n",
              "  color: var(--sklearn-color-text);\n",
              "  /* unfitted */\n",
              "  background-color: var(--sklearn-color-unfitted-level-0);\n",
              "}\n",
              "\n",
              "#sk-container-id-1 div.sk-toggleable__content.fitted pre {\n",
              "  /* unfitted */\n",
              "  background-color: var(--sklearn-color-fitted-level-0);\n",
              "}\n",
              "\n",
              "#sk-container-id-1 input.sk-toggleable__control:checked~div.sk-toggleable__content {\n",
              "  /* Expand drop-down */\n",
              "  max-height: 200px;\n",
              "  max-width: 100%;\n",
              "  overflow: auto;\n",
              "}\n",
              "\n",
              "#sk-container-id-1 input.sk-toggleable__control:checked~label.sk-toggleable__label-arrow:before {\n",
              "  content: \"▾\";\n",
              "}\n",
              "\n",
              "/* Pipeline/ColumnTransformer-specific style */\n",
              "\n",
              "#sk-container-id-1 div.sk-label input.sk-toggleable__control:checked~label.sk-toggleable__label {\n",
              "  color: var(--sklearn-color-text);\n",
              "  background-color: var(--sklearn-color-unfitted-level-2);\n",
              "}\n",
              "\n",
              "#sk-container-id-1 div.sk-label.fitted input.sk-toggleable__control:checked~label.sk-toggleable__label {\n",
              "  background-color: var(--sklearn-color-fitted-level-2);\n",
              "}\n",
              "\n",
              "/* Estimator-specific style */\n",
              "\n",
              "/* Colorize estimator box */\n",
              "#sk-container-id-1 div.sk-estimator input.sk-toggleable__control:checked~label.sk-toggleable__label {\n",
              "  /* unfitted */\n",
              "  background-color: var(--sklearn-color-unfitted-level-2);\n",
              "}\n",
              "\n",
              "#sk-container-id-1 div.sk-estimator.fitted input.sk-toggleable__control:checked~label.sk-toggleable__label {\n",
              "  /* fitted */\n",
              "  background-color: var(--sklearn-color-fitted-level-2);\n",
              "}\n",
              "\n",
              "#sk-container-id-1 div.sk-label label.sk-toggleable__label,\n",
              "#sk-container-id-1 div.sk-label label {\n",
              "  /* The background is the default theme color */\n",
              "  color: var(--sklearn-color-text-on-default-background);\n",
              "}\n",
              "\n",
              "/* On hover, darken the color of the background */\n",
              "#sk-container-id-1 div.sk-label:hover label.sk-toggleable__label {\n",
              "  color: var(--sklearn-color-text);\n",
              "  background-color: var(--sklearn-color-unfitted-level-2);\n",
              "}\n",
              "\n",
              "/* Label box, darken color on hover, fitted */\n",
              "#sk-container-id-1 div.sk-label.fitted:hover label.sk-toggleable__label.fitted {\n",
              "  color: var(--sklearn-color-text);\n",
              "  background-color: var(--sklearn-color-fitted-level-2);\n",
              "}\n",
              "\n",
              "/* Estimator label */\n",
              "\n",
              "#sk-container-id-1 div.sk-label label {\n",
              "  font-family: monospace;\n",
              "  font-weight: bold;\n",
              "  display: inline-block;\n",
              "  line-height: 1.2em;\n",
              "}\n",
              "\n",
              "#sk-container-id-1 div.sk-label-container {\n",
              "  text-align: center;\n",
              "}\n",
              "\n",
              "/* Estimator-specific */\n",
              "#sk-container-id-1 div.sk-estimator {\n",
              "  font-family: monospace;\n",
              "  border: 1px dotted var(--sklearn-color-border-box);\n",
              "  border-radius: 0.25em;\n",
              "  box-sizing: border-box;\n",
              "  margin-bottom: 0.5em;\n",
              "  /* unfitted */\n",
              "  background-color: var(--sklearn-color-unfitted-level-0);\n",
              "}\n",
              "\n",
              "#sk-container-id-1 div.sk-estimator.fitted {\n",
              "  /* fitted */\n",
              "  background-color: var(--sklearn-color-fitted-level-0);\n",
              "}\n",
              "\n",
              "/* on hover */\n",
              "#sk-container-id-1 div.sk-estimator:hover {\n",
              "  /* unfitted */\n",
              "  background-color: var(--sklearn-color-unfitted-level-2);\n",
              "}\n",
              "\n",
              "#sk-container-id-1 div.sk-estimator.fitted:hover {\n",
              "  /* fitted */\n",
              "  background-color: var(--sklearn-color-fitted-level-2);\n",
              "}\n",
              "\n",
              "/* Specification for estimator info (e.g. \"i\" and \"?\") */\n",
              "\n",
              "/* Common style for \"i\" and \"?\" */\n",
              "\n",
              ".sk-estimator-doc-link,\n",
              "a:link.sk-estimator-doc-link,\n",
              "a:visited.sk-estimator-doc-link {\n",
              "  float: right;\n",
              "  font-size: smaller;\n",
              "  line-height: 1em;\n",
              "  font-family: monospace;\n",
              "  background-color: var(--sklearn-color-background);\n",
              "  border-radius: 1em;\n",
              "  height: 1em;\n",
              "  width: 1em;\n",
              "  text-decoration: none !important;\n",
              "  margin-left: 0.5em;\n",
              "  text-align: center;\n",
              "  /* unfitted */\n",
              "  border: var(--sklearn-color-unfitted-level-1) 1pt solid;\n",
              "  color: var(--sklearn-color-unfitted-level-1);\n",
              "}\n",
              "\n",
              ".sk-estimator-doc-link.fitted,\n",
              "a:link.sk-estimator-doc-link.fitted,\n",
              "a:visited.sk-estimator-doc-link.fitted {\n",
              "  /* fitted */\n",
              "  border: var(--sklearn-color-fitted-level-1) 1pt solid;\n",
              "  color: var(--sklearn-color-fitted-level-1);\n",
              "}\n",
              "\n",
              "/* On hover */\n",
              "div.sk-estimator:hover .sk-estimator-doc-link:hover,\n",
              ".sk-estimator-doc-link:hover,\n",
              "div.sk-label-container:hover .sk-estimator-doc-link:hover,\n",
              ".sk-estimator-doc-link:hover {\n",
              "  /* unfitted */\n",
              "  background-color: var(--sklearn-color-unfitted-level-3);\n",
              "  color: var(--sklearn-color-background);\n",
              "  text-decoration: none;\n",
              "}\n",
              "\n",
              "div.sk-estimator.fitted:hover .sk-estimator-doc-link.fitted:hover,\n",
              ".sk-estimator-doc-link.fitted:hover,\n",
              "div.sk-label-container:hover .sk-estimator-doc-link.fitted:hover,\n",
              ".sk-estimator-doc-link.fitted:hover {\n",
              "  /* fitted */\n",
              "  background-color: var(--sklearn-color-fitted-level-3);\n",
              "  color: var(--sklearn-color-background);\n",
              "  text-decoration: none;\n",
              "}\n",
              "\n",
              "/* Span, style for the box shown on hovering the info icon */\n",
              ".sk-estimator-doc-link span {\n",
              "  display: none;\n",
              "  z-index: 9999;\n",
              "  position: relative;\n",
              "  font-weight: normal;\n",
              "  right: .2ex;\n",
              "  padding: .5ex;\n",
              "  margin: .5ex;\n",
              "  width: min-content;\n",
              "  min-width: 20ex;\n",
              "  max-width: 50ex;\n",
              "  color: var(--sklearn-color-text);\n",
              "  box-shadow: 2pt 2pt 4pt #999;\n",
              "  /* unfitted */\n",
              "  background: var(--sklearn-color-unfitted-level-0);\n",
              "  border: .5pt solid var(--sklearn-color-unfitted-level-3);\n",
              "}\n",
              "\n",
              ".sk-estimator-doc-link.fitted span {\n",
              "  /* fitted */\n",
              "  background: var(--sklearn-color-fitted-level-0);\n",
              "  border: var(--sklearn-color-fitted-level-3);\n",
              "}\n",
              "\n",
              ".sk-estimator-doc-link:hover span {\n",
              "  display: block;\n",
              "}\n",
              "\n",
              "/* \"?\"-specific style due to the `<a>` HTML tag */\n",
              "\n",
              "#sk-container-id-1 a.estimator_doc_link {\n",
              "  float: right;\n",
              "  font-size: 1rem;\n",
              "  line-height: 1em;\n",
              "  font-family: monospace;\n",
              "  background-color: var(--sklearn-color-background);\n",
              "  border-radius: 1rem;\n",
              "  height: 1rem;\n",
              "  width: 1rem;\n",
              "  text-decoration: none;\n",
              "  /* unfitted */\n",
              "  color: var(--sklearn-color-unfitted-level-1);\n",
              "  border: var(--sklearn-color-unfitted-level-1) 1pt solid;\n",
              "}\n",
              "\n",
              "#sk-container-id-1 a.estimator_doc_link.fitted {\n",
              "  /* fitted */\n",
              "  border: var(--sklearn-color-fitted-level-1) 1pt solid;\n",
              "  color: var(--sklearn-color-fitted-level-1);\n",
              "}\n",
              "\n",
              "/* On hover */\n",
              "#sk-container-id-1 a.estimator_doc_link:hover {\n",
              "  /* unfitted */\n",
              "  background-color: var(--sklearn-color-unfitted-level-3);\n",
              "  color: var(--sklearn-color-background);\n",
              "  text-decoration: none;\n",
              "}\n",
              "\n",
              "#sk-container-id-1 a.estimator_doc_link.fitted:hover {\n",
              "  /* fitted */\n",
              "  background-color: var(--sklearn-color-fitted-level-3);\n",
              "}\n",
              "</style><div id=\"sk-container-id-1\" class=\"sk-top-container\"><div class=\"sk-text-repr-fallback\"><pre>Pipeline(steps=[(&#x27;vectorizer&#x27;, DictVectorizer()),\n",
              "                (&#x27;classifier&#x27;,\n",
              "                 LogisticRegression(max_iter=200, multi_class=&#x27;auto&#x27;, n_jobs=-1,\n",
              "                                    verbose=1))])</pre><b>In a Jupyter environment, please rerun this cell to show the HTML representation or trust the notebook. <br />On GitHub, the HTML representation is unable to render, please try loading this page with nbviewer.org.</b></div><div class=\"sk-container\" hidden><div class=\"sk-item sk-dashed-wrapped\"><div class=\"sk-label-container\"><div class=\"sk-label fitted sk-toggleable\"><input class=\"sk-toggleable__control sk-hidden--visually\" id=\"sk-estimator-id-1\" type=\"checkbox\" ><label for=\"sk-estimator-id-1\" class=\"sk-toggleable__label fitted sk-toggleable__label-arrow\"><div><div>Pipeline</div></div><div><a class=\"sk-estimator-doc-link fitted\" rel=\"noreferrer\" target=\"_blank\" href=\"https://scikit-learn.org/1.6/modules/generated/sklearn.pipeline.Pipeline.html\">?<span>Documentation for Pipeline</span></a><span class=\"sk-estimator-doc-link fitted\">i<span>Fitted</span></span></div></label><div class=\"sk-toggleable__content fitted\"><pre>Pipeline(steps=[(&#x27;vectorizer&#x27;, DictVectorizer()),\n",
              "                (&#x27;classifier&#x27;,\n",
              "                 LogisticRegression(max_iter=200, multi_class=&#x27;auto&#x27;, n_jobs=-1,\n",
              "                                    verbose=1))])</pre></div> </div></div><div class=\"sk-serial\"><div class=\"sk-item\"><div class=\"sk-estimator fitted sk-toggleable\"><input class=\"sk-toggleable__control sk-hidden--visually\" id=\"sk-estimator-id-2\" type=\"checkbox\" ><label for=\"sk-estimator-id-2\" class=\"sk-toggleable__label fitted sk-toggleable__label-arrow\"><div><div>DictVectorizer</div></div><div><a class=\"sk-estimator-doc-link fitted\" rel=\"noreferrer\" target=\"_blank\" href=\"https://scikit-learn.org/1.6/modules/generated/sklearn.feature_extraction.DictVectorizer.html\">?<span>Documentation for DictVectorizer</span></a></div></label><div class=\"sk-toggleable__content fitted\"><pre>DictVectorizer()</pre></div> </div></div><div class=\"sk-item\"><div class=\"sk-estimator fitted sk-toggleable\"><input class=\"sk-toggleable__control sk-hidden--visually\" id=\"sk-estimator-id-3\" type=\"checkbox\" ><label for=\"sk-estimator-id-3\" class=\"sk-toggleable__label fitted sk-toggleable__label-arrow\"><div><div>LogisticRegression</div></div><div><a class=\"sk-estimator-doc-link fitted\" rel=\"noreferrer\" target=\"_blank\" href=\"https://scikit-learn.org/1.6/modules/generated/sklearn.linear_model.LogisticRegression.html\">?<span>Documentation for LogisticRegression</span></a></div></label><div class=\"sk-toggleable__content fitted\"><pre>LogisticRegression(max_iter=200, multi_class=&#x27;auto&#x27;, n_jobs=-1, verbose=1)</pre></div> </div></div></div></div></div></div>"
            ]
          },
          "metadata": {},
          "execution_count": 33
        }
      ],
      "source": [
        "memm_pipeline.fit(X_train_memm, y_train_memm)"
      ]
    },
    {
      "cell_type": "markdown",
      "metadata": {
        "id": "eDTOTMDdVFRc"
      },
      "source": [
        "Token-level accuracy on the validation set"
      ]
    },
    {
      "cell_type": "code",
      "execution_count": 34,
      "metadata": {
        "colab": {
          "base_uri": "https://localhost:8080/"
        },
        "id": "ipkQh4OkVFRc",
        "outputId": "4559dfad-33f3-4b2b-f629-81b0dc2312ce"
      },
      "outputs": [
        {
          "output_type": "stream",
          "name": "stdout",
          "text": [
            "MEMM Token-level accuracy on validation set: 0.2138\n"
          ]
        }
      ],
      "source": [
        "y_val_pred_token = memm_pipeline.predict(X_val_memm)\n",
        "token_accuracy_memm = accuracy_score(y_val_memm, y_val_pred_token)\n",
        "print(f\"MEMM Token-level accuracy on validation set: {token_accuracy_memm:.4f}\")"
      ]
    },
    {
      "cell_type": "code",
      "execution_count": 35,
      "metadata": {
        "id": "ymbYzHEsVFRd"
      },
      "outputs": [],
      "source": [
        "def viterbi_memm(sentence_words, memm_pipeline, word_to_index, tag_to_index, index_to_tag):\n",
        "    \"\"\"\n",
        "    Performs Viterbi decoding for MEMM.\n",
        "\n",
        "    Args:\n",
        "        sentence_words (list): A list of words in the sentence.\n",
        "        memm_pipeline: Trained MEMM pipeline (DictVectorizer + LogisticRegression).\n",
        "        word_to_index (dict): Mapping from word to index.\n",
        "        tag_to_index (dict): Mapping from tag to index.\n",
        "        index_to_tag (dict): Mapping from index to tag.\n",
        "\n",
        "    Returns:\n",
        "        list: The predicted sequence of tags for the sentence.\n",
        "    \"\"\"\n",
        "    num_tags = len(tag_to_index)\n",
        "    sentence_length = len(sentence_words)\n",
        "\n",
        "    # Initialize DP table (delta[i][k] = max probability of a tag sequence ending with tag k at word i)\n",
        "    delta = np.zeros((sentence_length, num_tags))\n",
        "    # Initialize backpointer table (psi[i][k] = index of the previous tag that maximizes probability)\n",
        "    psi = np.zeros((sentence_length, num_tags), dtype=int)\n",
        "\n",
        "    # Get the index for the padding tag, which we'll treat as the start tag\n",
        "    pad_tag_idx = tag_to_index.get('<PAD>', 0)\n",
        "    # Get all possible tag indices (excluding padding for emissions/transitions)\n",
        "    all_tag_indices = [idx for tag, idx in tag_to_index.items() if tag != '<PAD>']\n",
        "    start_tag_idx = pad_tag_idx # Use padding tag index as a placeholder for start\n",
        "\n",
        "    # For the first word (i=0)\n",
        "    current_word = sentence_words[0]\n",
        "    # Features for the first word (using <START> for previous word/tag)\n",
        "    features_0 = extract_features([(current_word, '<PAD>')], word_to_index, tag_to_index, prev_tags=[start_tag_idx])[0]\n",
        "    # Convert features to numerical vector\n",
        "    X_0 = memm_pipeline.named_steps['vectorizer'].transform([features_0])\n",
        "\n",
        "    # Get log probabilities for each tag for the first word\n",
        "    # P(tag_0 | features_0)\n",
        "    log_probs_0 = memm_pipeline.named_steps['classifier'].predict_log_proba(X_0)[0]\n",
        "\n",
        "    # delta[0][k] = P(tag_0 = k | features_0)\n",
        "    for k in all_tag_indices:\n",
        "         # Ensure the tag index exists in the model's classes_\n",
        "        if k in memm_pipeline.named_steps['classifier'].classes_:\n",
        "            # Find the column index for the current tag index k in the log_probs_0 array\n",
        "            col_index = np.where(memm_pipeline.named_steps['classifier'].classes_ == k)[0]\n",
        "            if len(col_index) > 0:\n",
        "                 delta[0][k] = log_probs_0[col_index[0]]\n",
        "            else:\n",
        "                 delta[0][k] = -np.inf # Tag not in classifier's vocabulary\n",
        "        else:\n",
        "             delta[0][k] = -np.inf # Tag not in classifier's vocabulary\n",
        "\n",
        "\n",
        "    # For words i = 1 to sentence_length - 1\n",
        "    for i in range(1, sentence_length):\n",
        "        current_word = sentence_words[i]\n",
        "\n",
        "        for k in all_tag_indices: # Iterate over possible current tags k\n",
        "             # Ensure the tag index exists in the model's classes_\n",
        "            if k not in memm_pipeline.named_steps['classifier'].classes_:\n",
        "                 delta[i][k] = -np.inf\n",
        "                 continue # Skip if the tag is not in the classifier's output classes\n",
        "\n",
        "            max_prob = -np.inf\n",
        "            best_prev_tag_idx = -1\n",
        "\n",
        "            for j in all_tag_indices: # Iterate over possible previous tags j\n",
        "                 # Ensure the previous tag index exists in the model's classes_\n",
        "                if delta[i-1][j] == -np.inf:\n",
        "                    continue # Skip if the probability of ending with tag j at i-1 is zero\n",
        "\n",
        "                # Features for the current word, using the assumed previous tag j\n",
        "                # Note: Here's where MEMM differs. Features include the *assumed* previous tag.\n",
        "                features_i = extract_features([(current_word, '<PAD>')], word_to_index, tag_to_index, prev_tags=[pad_tag_idx] * (i) + [j] + [pad_tag_idx] * (sentence_length - i - 1))[0]\n",
        "                # Convert features to numerical vector\n",
        "                X_i = memm_pipeline.named_steps['vectorizer'].transform([features_i])\n",
        "\n",
        "                # Get log probabilities for each tag for the current word\n",
        "                # P(tag_i | tag_{i-1}=j, features_i)\n",
        "                log_probs_i = memm_pipeline.named_steps['classifier'].predict_log_proba(X_i)[0]\n",
        "\n",
        "                # Find the log probability of the current tag k given features_i\n",
        "                # This is log P(tag_i=k | tag_{i-1}=j, features_i)\n",
        "                col_index_k = np.where(memm_pipeline.named_steps['classifier'].classes_ == k)[0]\n",
        "                if len(col_index_k) > 0:\n",
        "                    log_prob_current_tag = log_probs_i[col_index_k[0]]\n",
        "                else:\n",
        "                    log_prob_current_tag = -np.inf # Should not happen if k is in all_tag_indices and model classes\n",
        "\n",
        "                # Probability of the path ending with tag j at i-1 and tag k at i\n",
        "                current_path_prob = delta[i-1][j] + log_prob_current_tag\n",
        "\n",
        "                if current_path_prob > max_prob:\n",
        "                    max_prob = current_path_prob\n",
        "                    best_prev_tag_idx = j\n",
        "\n",
        "            delta[i][k] = max_prob\n",
        "            psi[i][k] = best_prev_tag_idx\n",
        "\n",
        "    # Backtrack to find the best tag sequence\n",
        "    best_sequence = [0] * sentence_length\n",
        "\n",
        "    # Find the last tag (tag at sentence_length - 1)\n",
        "    best_last_tag_idx = np.argmax(delta[sentence_length - 1, all_tag_indices])\n",
        "    best_sequence[sentence_length - 1] = all_tag_indices[best_last_tag_idx]\n",
        "\n",
        "    # Backtrack from sentence_length - 2 down to 0\n",
        "    for i in range(sentence_length - 2, -1, -1):\n",
        "        best_sequence[i] = psi[i+1][best_sequence[i+1]]\n",
        "\n",
        "    # Convert tag indices back to tag strings\n",
        "    predicted_tags = [index_to_tag.get(idx, '<UNK>') for idx in best_sequence]\n",
        "\n",
        "    return predicted_tags"
      ]
    },
    {
      "cell_type": "markdown",
      "metadata": {
        "id": "kMGPtxohVFRd"
      },
      "source": [
        "Example of Viterbi decoding on a sample test sentence"
      ]
    },
    {
      "cell_type": "code",
      "execution_count": 36,
      "metadata": {
        "colab": {
          "base_uri": "https://localhost:8080/"
        },
        "id": "AO62xbgGVFRd",
        "outputId": "a38301ab-2f42-42f2-8da3-f70ff3ca4737"
      },
      "outputs": [
        {
          "output_type": "stream",
          "name": "stdout",
          "text": [
            "\n",
            "MEMM Viterbi Decoding Example:\n",
            "Sentence: ['then', 'i', 'realized', 'that', 'i', 'needed', 'more', 'light']\n",
            "True Tags: ['RB', 'VB', 'VBD', 'IN', 'NN', 'VBD', 'RBR', 'JJ']\n",
            "Predicted Tags (MEMM): ['TO', 'TO', 'TO', 'TO', 'TO', 'TO', 'TO', 'TO']\n"
          ]
        }
      ],
      "source": [
        "sample_test_encoded = test_sequences[0]\n",
        "sample_test_word_indices, sample_test_tag_indices = sample_test_encoded\n",
        "sample_test_words = [index_to_word.get(w_idx, '<UNK>') for w_idx in sample_test_word_indices]\n",
        "sample_true_tags = [index_to_tag.get(t_idx, '<UNK>') for t_idx in sample_test_tag_indices]\n",
        "\n",
        "predicted_tags_memm = viterbi_memm(sample_test_words, memm_pipeline, word_to_index, tag_to_index, index_to_tag)\n",
        "\n",
        "print(\"\\nMEMM Viterbi Decoding Example:\")\n",
        "print(\"Sentence:\", sample_test_words)\n",
        "print(\"True Tags:\", sample_true_tags)\n",
        "print(\"Predicted Tags (MEMM):\", predicted_tags_memm)"
      ]
    },
    {
      "cell_type": "markdown",
      "metadata": {
        "id": "LzY5URGxVFRd"
      },
      "source": [
        "Evaluate MEMM Viterbi decoding on the test set"
      ]
    },
    {
      "cell_type": "code",
      "execution_count": 41,
      "metadata": {
        "id": "zTdGwI92VFRe"
      },
      "outputs": [],
      "source": [
        "def evaluate_memm_viterbi(test_sequences, memm_pipeline, word_to_index, tag_to_index, index_to_tag):\n",
        "    correct_tags = 0\n",
        "    total_tags = 0\n",
        "    iteration = 0\n",
        "    print(\"test_sequences count:\", len(test_sequences))\n",
        "    for word_indices, tag_indices in test_sequences:\n",
        "\n",
        "        iteration = iteration  + 1\n",
        "\n",
        "        sentence_words = [index_to_word.get(w_idx, '<UNK>') for w_idx in word_indices]\n",
        "        true_tags = [index_to_tag.get(t_idx, '<UNK>') for t_idx in tag_indices]\n",
        "\n",
        "        # Skip sentences with only padding or empty\n",
        "        if not sentence_words or all(word == '<UNK>' or word == '<PAD>' for word in sentence_words):\n",
        "            continue\n",
        "\n",
        "        predicted_tags = viterbi_memm(sentence_words, memm_pipeline, word_to_index, tag_to_index, index_to_tag)\n",
        "\n",
        "        # Compare predicted tags with true tags (ignoring padding)\n",
        "        for true_tag, predicted_tag in zip(true_tags, predicted_tags):\n",
        "            if true_tag != '<PAD>': # Do not count padding in accuracy calculation\n",
        "                 if true_tag == predicted_tag:\n",
        "                    correct_tags += 1\n",
        "                 total_tags += 1\n",
        "        print(f\"Iteration: {iteration}, total_tags: {total_tags}, correct_tags: {correct_tags}\")\n",
        "        if (iteration > 30):\n",
        "          print(\"Stopping after 30 epochs.\")\n",
        "          break\n",
        "\n",
        "    accuracy = correct_tags / total_tags if total_tags > 0 else 0\n",
        "    return accuracy"
      ]
    },
    {
      "cell_type": "code",
      "execution_count": null,
      "metadata": {
        "colab": {
          "base_uri": "https://localhost:8080/"
        },
        "id": "hEgcH7E5VFRe",
        "outputId": "f3310c96-3866-4b18-a331-13f2156a0553"
      },
      "outputs": [
        {
          "output_type": "stream",
          "name": "stdout",
          "text": [
            "test_sequences count: 702\n",
            "Iteration: 1, total_tags: 8, correct_tags: 0\n",
            "Iteration: 2, total_tags: 20, correct_tags: 0\n",
            "Iteration: 3, total_tags: 42, correct_tags: 2\n",
            "Iteration: 4, total_tags: 57, correct_tags: 2\n",
            "Iteration: 5, total_tags: 82, correct_tags: 6\n",
            "Iteration: 6, total_tags: 90, correct_tags: 6\n",
            "Iteration: 7, total_tags: 103, correct_tags: 6\n",
            "Iteration: 8, total_tags: 104, correct_tags: 6\n",
            "Iteration: 9, total_tags: 119, correct_tags: 6\n",
            "Iteration: 10, total_tags: 136, correct_tags: 6\n",
            "Iteration: 11, total_tags: 141, correct_tags: 6\n",
            "Iteration: 12, total_tags: 165, correct_tags: 10\n",
            "Iteration: 13, total_tags: 172, correct_tags: 10\n",
            "Iteration: 14, total_tags: 187, correct_tags: 11\n",
            "Iteration: 15, total_tags: 201, correct_tags: 11\n",
            "Iteration: 16, total_tags: 208, correct_tags: 12\n",
            "Iteration: 17, total_tags: 247, correct_tags: 14\n",
            "Iteration: 18, total_tags: 290, correct_tags: 19\n",
            "Iteration: 19, total_tags: 306, correct_tags: 19\n",
            "Iteration: 20, total_tags: 311, correct_tags: 19\n"
          ]
        }
      ],
      "source": [
        "memm_viterbi_accuracy = evaluate_memm_viterbi(test_sequences, memm_pipeline, word_to_index, tag_to_index, index_to_tag)\n",
        "print(f\"MEMM Viterbi accuracy on test set: {memm_viterbi_accuracy:.4f}\")"
      ]
    },
    {
      "cell_type": "markdown",
      "metadata": {
        "id": "MrsdKb3pVFRe"
      },
      "source": [
        "## Model 2: Traditional HMM Baseline"
      ]
    },
    {
      "cell_type": "markdown",
      "metadata": {
        "id": "0mYN8M9yVFRe"
      },
      "source": [
        "Creating HMM model"
      ]
    },
    {
      "cell_type": "code",
      "execution_count": null,
      "metadata": {
        "id": "56_U_H9kVFRe"
      },
      "outputs": [],
      "source": [
        "# Reconstruct word-tag sequences from encoded sequences for HMM\n",
        "train_word_tag_sequences = [\n",
        "    [(index_to_word.get(w_idx, '<UNK>'), index_to_tag.get(t_idx, '<UNK>'))\n",
        "     for w_idx, t_idx in zip(word_indices, tag_indices) if index_to_tag.get(t_idx, '<UNK>') != '<PAD>'] # Exclude padding\n",
        "    for word_indices, tag_indices in train_sequences\n",
        "    if any(index_to_tag.get(t_idx, '<UNK>') != '<PAD>' for t_idx in tag_indices) # Skip empty sentences after removing padding\n",
        "]"
      ]
    },
    {
      "cell_type": "code",
      "execution_count": null,
      "metadata": {
        "id": "eRgXJl8YVFRe"
      },
      "outputs": [],
      "source": [
        "# Collect all tags and words from the training data (excluding padding)\n",
        "train_tags = [tag for sent in train_word_tag_sequences for word, tag in sent]\n",
        "train_words = [word for sent in train_word_tag_sequences for word, tag in sent]"
      ]
    },
    {
      "cell_type": "code",
      "execution_count": null,
      "metadata": {
        "id": "wL__Yz5zVFRf"
      },
      "outputs": [],
      "source": [
        "# Count frequencies\n",
        "tag_counts = Counter(train_tags)\n",
        "word_tag_counts = Counter([(word, tag) for sent in train_word_tag_sequences for word, tag in sent])"
      ]
    },
    {
      "cell_type": "code",
      "execution_count": null,
      "metadata": {
        "id": "YvnyCvXUVFRf"
      },
      "outputs": [],
      "source": [
        "# Calculate transition probabilities P(tag_i | tag_{i-1})\n",
        "transition_counts = Counter()\n",
        "for sent in train_word_tag_sequences:\n",
        "    # Add a virtual start tag\n",
        "    sentence_tags = ['<START>'] + [tag for word, tag in sent]\n",
        "    for i in range(1, len(sentence_tags)):\n",
        "        transition_counts[(sentence_tags[i-1], sentence_tags[i])] += 1"
      ]
    },
    {
      "cell_type": "code",
      "execution_count": null,
      "metadata": {
        "id": "vB7n4td7VFRf"
      },
      "outputs": [],
      "source": [
        "# Add a virtual start tag count for calculating probabilities from START\n",
        "tag_counts['<START>'] = len(train_word_tag_sequences) # Number of sentences\n",
        "\n",
        "transition_probabilities = {}\n",
        "for (tag1, tag2), count in transition_counts.items():\n",
        "    transition_probabilities[(tag1, tag2)] = count / tag_counts[tag1]"
      ]
    },
    {
      "cell_type": "code",
      "execution_count": null,
      "metadata": {
        "id": "1JlVdU0_VFRf"
      },
      "outputs": [],
      "source": [
        "# Calculate emission probabilities P(word | tag)\n",
        "emission_probabilities = {}\n",
        "for (word, tag), count in word_tag_counts.items():\n",
        "    emission_probabilities[(word, tag)] = count / tag_counts[tag]"
      ]
    },
    {
      "cell_type": "code",
      "execution_count": null,
      "metadata": {
        "id": "UvCaPFoSVFRg"
      },
      "outputs": [],
      "source": [
        "# Implement smoothing for unseen word-tag combinations (Add-k smoothing)\n",
        "k_smoothing = 0.1 # Small smoothing value\n",
        "all_words_set = set(train_words)\n",
        "all_tags_set = set(train_tags) # Excludes <START>\n",
        "vocabulary_size_hmm = len(all_words_set)\n",
        "num_tags_hmm = len(all_tags_set)\n"
      ]
    },
    {
      "cell_type": "code",
      "execution_count": null,
      "metadata": {
        "id": "MxCH_EZVVFRg"
      },
      "outputs": [],
      "source": [
        "# Smoothed emission probabilities\n",
        "smoothed_emission_probabilities = {}\n",
        "# Iterate over all possible (word, tag) pairs to apply smoothing\n",
        "for word in all_words_set:\n",
        "    for tag in all_tags_set:\n",
        "        count = word_tag_counts.get((word, tag), 0)\n",
        "        tag_count = tag_counts.get(tag, 0) # Use 0 if tag somehow isn't in counts (shouldn't happen with how we collected train_tags)\n",
        "        # Apply add-k smoothing: (count + k) / (total_count_of_tag + k * vocabulary_size)\n",
        "        smoothed_emission_probabilities[(word, tag)] = (count + k_smoothing) / (tag_count + k_smoothing * vocabulary_size_hmm)\n"
      ]
    },
    {
      "cell_type": "code",
      "execution_count": null,
      "metadata": {
        "id": "nTNSsR5wVFRg"
      },
      "outputs": [],
      "source": [
        "# For words not seen in training, use a small probability or handle specifically during Viterbi\n",
        "# We'll handle unseen words during Viterbi by giving them a small default emission probability.\n",
        "default_unseen_emission_prob = k_smoothing / (num_tags_hmm + k_smoothing * vocabulary_size_hmm) # A very small value\n"
      ]
    },
    {
      "cell_type": "code",
      "execution_count": null,
      "metadata": {
        "id": "DoSL3olhVFRg"
      },
      "outputs": [],
      "source": [
        "# Implement Viterbi algorithm for HMM\n",
        "def viterbi_hmm(sentence_words, transition_probabilities, emission_probabilities, tag_counts, all_tags_set, default_unseen_emission_prob):\n",
        "    \"\"\"\n",
        "    Performs Viterbi decoding for HMM.\n",
        "\n",
        "    Args:\n",
        "        sentence_words (list): A list of words in the sentence.\n",
        "        transition_probabilities (dict): P(tag_i | tag_{i-1}).\n",
        "        emission_probabilities (dict): P(word | tag).\n",
        "        tag_counts (Counter): Counts of each tag.\n",
        "        all_tags_set (set): Set of all unique tags.\n",
        "        default_unseen_emission_prob (float): Probability for unseen word-tag pairs.\n",
        "\n",
        "    Returns:\n",
        "        list: The predicted sequence of tags for the sentence.\n",
        "    \"\"\"\n",
        "    num_tags = len(all_tags_set)\n",
        "    tags_list = sorted(list(all_tags_set)) # Ordered list of tags\n",
        "    tag_to_idx_hmm = {tag: i for i, tag in enumerate(tags_list)}\n",
        "    idx_to_tag_hmm = {i: tag for tag, i in tag_to_idx_hmm.items()}\n",
        "\n",
        "    sentence_length = len(sentence_words)\n",
        "\n",
        "    if sentence_length == 0:\n",
        "        return []\n",
        "\n",
        "    # Initialize DP table (delta[i][k] = max probability of a tag sequence ending with tag k at word i)\n",
        "    delta = np.zeros((sentence_length, num_tags))\n",
        "    # Initialize backpointer table (psi[i][k] = index of the previous tag that maximizes probability)\n",
        "    psi = np.zeros((sentence_length, num_tags), dtype=int)\n",
        "\n",
        "    # For the first word (i=0)\n",
        "    word_0 = sentence_words[0]\n",
        "    for k_idx, tag_k in enumerate(tags_list):\n",
        "        # P(tag_0 = k | <START>) * P(word_0 | tag_0 = k)\n",
        "        prob_start_to_k = transition_probabilities.get(('<START>', tag_k), 0) # Use 0 if no transition from START\n",
        "        prob_emit_word0_from_k = emission_probabilities.get((word_0, tag_k), default_unseen_emission_prob)\n",
        "\n",
        "        delta[0][k_idx] = prob_start_to_k * prob_emit_word0_from_k\n",
        "\n",
        "    # For words i = 1 to sentence_length - 1\n",
        "    for i in range(1, sentence_length):\n",
        "        current_word = sentence_words[i]\n",
        "        for k_idx, tag_k in enumerate(tags_list): # Iterate over possible current tags tag_k\n",
        "             # Probability of emitting the current word from the current tag tag_k\n",
        "            prob_emit_wordi_from_k = emission_probabilities.get((current_word, tag_k), default_unseen_emission_prob)\n",
        "\n",
        "            max_prob = -1.0\n",
        "            best_prev_tag_idx = -1\n",
        "\n",
        "            for j_idx, tag_j in enumerate(tags_list): # Iterate over possible previous tags tag_j\n",
        "                # Probability of transitioning from previous tag tag_j to current tag tag_k\n",
        "                prob_transition_j_to_k = transition_probabilities.get((tag_j, tag_k), 0) # Use 0 for unseen transitions\n",
        "\n",
        "                # Probability of the path ending with tag tag_j at i-1 and tag tag_k at i\n",
        "                current_path_prob = delta[i-1][j_idx] * prob_transition_j_to_k * prob_emit_wordi_from_k\n",
        "\n",
        "                if current_path_prob > max_prob:\n",
        "                    max_prob = current_path_prob\n",
        "                    best_prev_tag_idx = j_idx\n",
        "\n",
        "            delta[i][k_idx] = max_prob\n",
        "            psi[i][k_idx] = best_prev_tag_idx\n",
        "\n",
        "    # Backtrack to find the best tag sequence\n",
        "    best_sequence_indices = [0] * sentence_length\n",
        "\n",
        "    # Find the index of the last tag (tag at sentence_length - 1) with the highest probability\n",
        "    best_last_tag_idx_in_list = np.argmax(delta[sentence_length - 1, :])\n",
        "    best_sequence_indices[sentence_length - 1] = best_last_tag_idx_in_list\n",
        "\n",
        "    # Backtrack from sentence_length - 2 down to 0\n",
        "    for i in range(sentence_length - 2, -1, -1):\n",
        "        best_sequence_indices[i] = psi[i+1][best_sequence_indices[i+1]]\n",
        "\n",
        "    # Convert tag indices back to tag strings\n",
        "    predicted_tags = [idx_to_tag_hmm.get(idx, '<UNK>') for idx in best_sequence_indices]\n",
        "\n",
        "    return predicted_tags\n"
      ]
    },
    {
      "cell_type": "code",
      "execution_count": null,
      "metadata": {
        "id": "I2CIKjIpVFRh"
      },
      "outputs": [],
      "source": [
        "# Evaluate HMM Viterbi decoding on the test set\n",
        "def evaluate_hmm_viterbi(test_sequences, transition_probabilities, emission_probabilities, tag_counts, all_tags_set, default_unseen_emission_prob, index_to_word, index_to_tag):\n",
        "    correct_tags = 0\n",
        "    total_tags = 0\n",
        "    for word_indices, tag_indices in test_sequences:\n",
        "        sentence_words = [index_to_word.get(w_idx, '<UNK>') for w_idx in word_indices]\n",
        "        true_tags = [index_to_tag.get(t_idx, '<UNK>') for t_idx in tag_indices]\n",
        "\n",
        "         # Skip sentences with only padding or empty\n",
        "        if not sentence_words or all(word == '<UNK>' or word == '<PAD>' for word in sentence_words):\n",
        "            continue\n",
        "\n",
        "        # Remove padding tags from true tags for evaluation comparison\n",
        "        true_tags_filtered = [tag for tag in true_tags if tag != '<PAD>']\n",
        "        sentence_words_filtered = [word for word, tag in zip(sentence_words, true_tags) if tag != '<PAD>']\n",
        "\n",
        "\n",
        "        if not sentence_words_filtered: # Skip if sentence is empty after filtering\n",
        "             continue\n",
        "\n",
        "        predicted_tags = viterbi_hmm(sentence_words_filtered, transition_probabilities, emission_probabilities, tag_counts, all_tags_set, default_unseen_emission_prob)\n",
        "\n",
        "        # Ensure predicted_tags and true_tags_filtered have the same length\n",
        "        # This should be true if viterbi_hmm returns a tag for every word\n",
        "        if len(predicted_tags) != len(true_tags_filtered):\n",
        "            print(f\"Warning: Length mismatch between predicted ({len(predicted_tags)}) and true ({len(true_tags_filtered)}) tags. Skipping sentence.\")\n",
        "            continue\n",
        "\n",
        "        # Compare predicted tags with true tags\n",
        "        for true_tag, predicted_tag in zip(true_tags_filtered, predicted_tags):\n",
        "            if true_tag == predicted_tag:\n",
        "                correct_tags += 1\n",
        "            total_tags += 1\n",
        "\n",
        "    accuracy = correct_tags / total_tags if total_tags > 0 else 0\n",
        "    return accuracy\n"
      ]
    },
    {
      "cell_type": "code",
      "execution_count": null,
      "metadata": {
        "id": "8jHFkyfaVFRh"
      },
      "outputs": [],
      "source": [
        "# Evaluate HMM Viterbi decoding on the test set\n",
        "print(\"\\nEvaluating HMM Viterbi accuracy on test set...\")\n",
        "hmm_viterbi_accuracy = evaluate_hmm_viterbi(test_sequences, transition_probabilities, smoothed_emission_probabilities, tag_counts, all_tags_set, default_unseen_emission_prob, index_to_word, index_to_tag)\n",
        "print(f\"HMM Viterbi accuracy on test set: {hmm_viterbi_accuracy:.4f}\")\n"
      ]
    },
    {
      "cell_type": "markdown",
      "metadata": {
        "id": "X9FFhtYuVFRh"
      },
      "source": [
        "## Model 3: Neural Network POS Tagger"
      ]
    },
    {
      "cell_type": "code",
      "execution_count": null,
      "metadata": {
        "id": "WpGzRD3NVFRh"
      },
      "outputs": [],
      "source": [
        "# Parameters for the neural network\n",
        "embedding_dim = 50\n",
        "lstm_units = 64\n",
        "dense_units = 128\n",
        "vocab_size_nn = len(word_to_index)\n",
        "num_tags_nn = len(tag_to_index)"
      ]
    },
    {
      "cell_type": "code",
      "execution_count": null,
      "metadata": {
        "id": "gYU4y15LVFRh"
      },
      "outputs": [],
      "source": [
        "# Find the maximum sentence length for padding\n",
        "max_len = max(len(word_indices) for word_indices, _ in encoded_sequences)\n",
        "print(f\"Maximum sentence length for padding: {max_len}\")\n"
      ]
    },
    {
      "cell_type": "code",
      "execution_count": null,
      "metadata": {
        "id": "oR9Wlew0VFRh"
      },
      "outputs": [],
      "source": [
        "# Pad sequences\n",
        "X_train_nn = pad_sequences([seq[0] for seq in train_sequences], maxlen=max_len, padding='post')\n",
        "y_train_nn = pad_sequences([seq[1] for seq in train_sequences], maxlen=max_len, padding='post')\n",
        "\n",
        "X_val_nn = pad_sequences([seq[0] for seq in val_sequences], maxlen=max_len, padding='post')\n",
        "y_val_nn = pad_sequences([seq[1] for seq in val_sequences], maxlen=max_len, padding='post')\n",
        "\n",
        "X_test_nn = pad_sequences([seq[0] for seq in test_sequences], maxlen=max_len, padding='post')\n",
        "y_test_nn = pad_sequences([seq[1] for seq in test_sequences], maxlen=max_len, padding='post')\n"
      ]
    },
    {
      "cell_type": "code",
      "execution_count": null,
      "metadata": {
        "id": "m7vcuKYyVFRi"
      },
      "outputs": [],
      "source": [
        "# Convert tags to one-hot encoding\n",
        "# We need to one-hot encode the target sequences.\n",
        "# The output layer predicts the probability distribution over tags for each word in the sequence.\n",
        "# The shape should be (num_samples, max_len, num_tags_nn)\n",
        "y_train_nn_one_hot = to_categorical(y_train_nn, num_classes=num_tags_nn)\n",
        "y_val_nn_one_hot = to_categorical(y_val_nn, num_classes=num_tags_nn)\n",
        "y_test_nn_one_hot = to_categorical(y_test_nn, num_classes=num_tags_nn)\n"
      ]
    },
    {
      "cell_type": "code",
      "execution_count": null,
      "metadata": {
        "id": "a3vZDKArVFRi"
      },
      "outputs": [],
      "source": [
        "# Build the Neural Network Model\n",
        "model = Sequential()\n",
        "\n",
        "# Embedding layer\n",
        "model.add(Embedding(input_dim=vocab_size_nn, output_dim=embedding_dim, input_length=max_len))\n",
        "\n",
        "# LSTM layers\n",
        "# Using Bidirectional LSTM can often capture context from both directions\n",
        "model.add(Bidirectional(LSTM(lstm_units, return_sequences=True)))\n",
        "model.add(Bidirectional(LSTM(lstm_units, return_sequences=True))) # return_sequences=True to output sequence for the next layer\n",
        "\n",
        "# Dense layers\n",
        "model.add(Dense(dense_units, activation='relu'))\n",
        "model.add(Dropout(0.5)) # Add dropout for regularization\n",
        "model.add(Dense(dense_units, activation='relu'))\n",
        "model.add(Dropout(0.5))\n",
        "model.add(Dense(dense_units, activation='relu'))\n",
        "model.add(Dropout(0.5))\n",
        "\n",
        "# Output layer\n",
        "# For each word in the sequence, we want to predict the probability distribution over tags\n",
        "# Shape: (batch_size, max_len, num_tags_nn)\n",
        "model.add(Dense(num_tags_nn, activation='softmax'))\n"
      ]
    },
    {
      "cell_type": "code",
      "execution_count": null,
      "metadata": {
        "id": "PY0nENJGVFRi"
      },
      "outputs": [],
      "source": [
        "# Compile the model\n",
        "# Using Adam optimizer and categorical crossentropy loss for multi-class classification\n",
        "model.compile(optimizer='adam',\n",
        "              loss='categorical_crossentropy',\n",
        "              metrics=['accuracy']) # Accuracy is a good metric for this task\n"
      ]
    },
    {
      "cell_type": "code",
      "execution_count": null,
      "metadata": {
        "id": "nivQyN29VFRi"
      },
      "outputs": [],
      "source": [
        "model.summary()"
      ]
    },
    {
      "cell_type": "code",
      "execution_count": null,
      "metadata": {
        "id": "Xfk5q8bVVFRj"
      },
      "outputs": [],
      "source": [
        "# Train the model\n",
        "epochs = 30\n",
        "batch_size = 64\n",
        "\n",
        "print(\"\\nTraining Neural Network POS Tagger...\")\n",
        "history = model.fit(X_train_nn, y_train_nn_one_hot,\n",
        "                    epochs=epochs,\n",
        "                    batch_size=batch_size,\n",
        "                    validation_data=(X_val_nn, y_val_nn_one_hot))\n",
        "print(\"Neural Network POS Tagger training complete.\")\n"
      ]
    },
    {
      "cell_type": "code",
      "execution_count": null,
      "metadata": {
        "id": "08KH5ElKVFRk"
      },
      "outputs": [],
      "source": [
        "# Evaluate the model on the test set\n",
        "print(\"\\nEvaluating Neural Network POS Tagger on test set...\")\n",
        "loss, accuracy = model.evaluate(X_test_nn, y_test_nn_one_hot, batch_size=batch_size)\n",
        "print(f\"Neural Network POS Tagger Test Loss: {loss:.4f}\")\n",
        "print(f\"Neural Network POS Tagger Test Accuracy: {accuracy:.4f}\")"
      ]
    },
    {
      "cell_type": "code",
      "execution_count": null,
      "metadata": {
        "id": "waeKW7dUVFRk"
      },
      "outputs": [],
      "source": [
        "\n",
        "# Note on accuracy: The Keras accuracy calculates the percentage of words\n",
        "# for which the predicted tag matches the true tag, including padded positions.\n",
        "# A more accurate evaluation would ignore padding.\n",
        "\n",
        "def evaluate_nn_accuracy(model, X, y_true, index_to_tag):\n",
        "    \"\"\"\n",
        "    Evaluates the neural network model accuracy, ignoring padding.\n",
        "    \"\"\"\n",
        "    y_pred = model.predict(X)\n",
        "    y_pred_tags_indices = np.argmax(y_pred, axis=-1)\n",
        "    y_true_tags_indices = np.argmax(y_true, axis=-1)\n",
        "\n",
        "    correct_tags = 0\n",
        "    total_tags = 0\n",
        "\n",
        "    for true_seq, pred_seq in zip(y_true_tags_indices, y_pred_tags_indices):\n",
        "        for true_tag_idx, pred_tag_idx in zip(true_seq, pred_seq):\n",
        "            # Check if the true tag is NOT the padding tag index\n",
        "            if index_to_tag.get(true_tag_idx, '<UNK>') != '<PAD>':\n",
        "                if true_tag_idx == pred_tag_idx:\n",
        "                    correct_tags += 1\n",
        "                total_tags += 1\n",
        "\n",
        "    accuracy = correct_tags / total_tags if total_tags > 0 else 0\n",
        "    return accuracy\n"
      ]
    },
    {
      "cell_type": "code",
      "execution_count": null,
      "metadata": {
        "id": "xTe0fbRkVFRl"
      },
      "outputs": [],
      "source": [
        "# Evaluate with custom function ignoring padding\n",
        "nn_accuracy_no_padding = evaluate_nn_accuracy(model, X_test_nn, y_test_nn_one_hot, index_to_tag)\n",
        "print(f\"Neural Network POS Tagger Test Accuracy (ignoring padding): {nn_accuracy_no_padding:.4f}\")\n"
      ]
    },
    {
      "cell_type": "code",
      "execution_count": null,
      "metadata": {
        "id": "DA9fE-9WVFRl"
      },
      "outputs": [],
      "source": [
        "# Make predictions with the Neural Network model\n",
        "# Example prediction on a sample test sentence\n",
        "sample_test_X_nn = X_test_nn[0:1] # Predict for the first test sentence (as a batch of 1)\n",
        "sample_test_true_tags_nn = [index_to_tag.get(idx, '<UNK>') for idx in y_test_nn[0] if index_to_tag.get(idx, '<UNK>') != '<PAD>']\n",
        "\n",
        "predicted_probs_nn = model.predict(sample_test_X_nn)\n",
        "predicted_tags_indices_nn = np.argmax(predicted_probs_nn, axis=-1) # Get the index with the highest probability for each word\n",
        "predicted_tags_nn = [index_to_tag.get(idx, '<UNK>') for idx in predicted_tags_indices_nn[0]] # Get the tag strings for the first sentence\n"
      ]
    },
    {
      "cell_type": "code",
      "execution_count": null,
      "metadata": {
        "id": "4fsHRZSZVFRl"
      },
      "outputs": [],
      "source": [
        "# Filter out padding from predicted tags based on true tags (for comparison)\n",
        "predicted_tags_nn_filtered = [pred_tag for pred_tag, true_tag_idx in zip(predicted_tags_nn, y_test_nn[0]) if index_to_tag.get(true_tag_idx, '<UNK>') != '<PAD>']\n",
        "sample_test_words_filtered = [index_to_word.get(idx, '<UNK>') for idx in X_test_nn[0] if index_to_tag.get(y_test_nn[0][np.where(X_test_nn[0] == idx)[0][0]], '<UNK>') != '<PAD>']\n"
      ]
    },
    {
      "cell_type": "code",
      "execution_count": null,
      "metadata": {
        "id": "x0awtEx9VFRl"
      },
      "outputs": [],
      "source": [
        "print(\"\\nNeural Network POS Tagger Prediction Example:\")\n",
        "print(\"Sentence (first test sentence):\", sample_test_words_filtered)\n",
        "print(\"True Tags:\", sample_test_true_tags_nn)\n",
        "print(\"Predicted Tags (NN):\", predicted_tags_nn_filtered)"
      ]
    }
  ],
  "metadata": {
    "colab": {
      "provenance": [],
      "collapsed_sections": [
        "uR0oAITvK3_E",
        "_q8JHYmxQ531",
        "R48vbyzqVFRL"
      ],
      "gpuType": "T4",
      "include_colab_link": true
    },
    "kernelspec": {
      "display_name": "Python 3",
      "name": "python3"
    },
    "language_info": {
      "codemirror_mode": {
        "name": "ipython",
        "version": 3
      },
      "file_extension": ".py",
      "mimetype": "text/x-python",
      "name": "python",
      "nbconvert_exporter": "python",
      "pygments_lexer": "ipython3",
      "version": "3.9.5"
    },
    "accelerator": "GPU"
  },
  "nbformat": 4,
  "nbformat_minor": 0
}