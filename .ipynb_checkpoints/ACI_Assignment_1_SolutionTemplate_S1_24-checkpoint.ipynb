{
 "cells": [
  {
   "cell_type": "markdown",
   "metadata": {
    "id": "MzZ4dJQYF7sH"
   },
   "source": [
    "# Artificial and Computational Intelligence Assignment 1"
   ]
  },
  {
   "cell_type": "markdown",
   "metadata": {
    "id": "Fxb1aE9zF7sK"
   },
   "source": [
    "## Problem solving by Uninformed & Informed Search"
   ]
  },
  {
   "cell_type": "markdown",
   "metadata": {},
   "source": [
    "### List all the team members BITS ID ,Name along with % of contribution in this assignment: sample Provided below:"
   ]
  },
  {
   "cell_type": "markdown",
   "metadata": {},
   "source": [
    "| Sr. No. | BITS ID | NAME | % of Contribution |\n",
    "|----|-----|-------|-----|\n",
    "| 1 | 2024AA05899 | SHAH BHAVIN ARVINDKUMAR | 33.33% |\n",
    "| 2 | 2024AA05896 | ANIL PRASAD CHELAMCHELA | 33.33% |\n",
    "| 3 | 2024AA05897 | SONAAL KALRA | 33.33% |\n",
    "| 4 |  | DHEERAJ SINGH CHAUHAN | % |\n",
    "| 5 |  | KAUSTAV BANERJEE | % |\n"
   ]
  },
  {
   "cell_type": "markdown",
   "metadata": {
    "id": "pt5ygv_zF7sL"
   },
   "source": [
    "Things to follow\n",
    "1.\tUse appropriate data structures to represent the graph and the path using python libraries\n",
    "2.\tProvide proper documentation\n",
    "3.\tFind the path and print it"
   ]
  },
  {
   "cell_type": "markdown",
   "metadata": {
    "id": "wZfop5ElF7sL"
   },
   "source": [
    "Coding begins here"
   ]
  },
  {
   "cell_type": "markdown",
   "metadata": {
    "id": "IL0QDMy3F7sL"
   },
   "source": [
    "### 1.\tDefine the environment in the following block"
   ]
  },
  {
   "cell_type": "markdown",
   "metadata": {
    "id": "RYwJPNLIF7sM"
   },
   "source": [
    "Its mentioned in word document as per the instruction in problem statement."
   ]
  },
  {
   "cell_type": "markdown",
   "metadata": {
    "id": "XJ3cHp1IF7sM"
   },
   "source": [
    "Design the agent as PSA Agent(Problem Solving Agent)\n",
    "Clear Initial data structures to define the graph and variable declarations is expected\n",
    "IMPORTATANT: Write distinct code block as below"
   ]
  },
  {
   "cell_type": "code",
   "execution_count": 76,
   "metadata": {
    "id": "osp61RsLF7sN"
   },
   "outputs": [],
   "source": [
    "#Code Block : Set Initial State (Must handle dynamic inputs)\n",
    "import heapq\n",
    "import random\n",
    "import time\n",
    "import sys\n",
    "import tracemalloc  # For measuring memory usage\n",
    "\n",
    "# Road network with travel times (costs)\n",
    "roads = {\n",
    "    'A': {'B': 15, 'D1': 30},\n",
    "    'B': {'A': 15, 'C': 11, 'D2': 22},\n",
    "    'C': {'B': 11, 'G': 9},\n",
    "    'D1': {'A': 30, 'G': 4, 'E': 12, 'F': 6},\n",
    "    'D2': {'B': 22, 'G': 19},\n",
    "    'E': {'F': 27, 'D1': 12},\n",
    "    'F': {'E': 27, 'D1': 6, 'H': 20, 'X': 18},\n",
    "    'G': {'C': 9, 'D1': 4, 'D2': 19, 'X': 17},\n",
    "    'H': {'F': 20},\n",
    "    'X': {'F': 18, 'G': 17}\n",
    "}"
   ]
  },
  {
   "cell_type": "code",
   "execution_count": 98,
   "metadata": {
    "id": "XODwoWZ0F7sO"
   },
   "outputs": [],
   "source": [
    "#Code Block : Set the matrix for transition & cost (as relevant for the given problem)\n",
    "# Function to find all paths from start to end city\n",
    "def find_all_paths(graph, start, end, path=[]):\n",
    "    path = path + [start]\n",
    "    if start == end:\n",
    "        return [path]\n",
    "    if start not in graph:\n",
    "        return []\n",
    "    paths = []\n",
    "    for node in graph[start]:\n",
    "        if node not in path or node == end:  # Allow revisiting nodes only if they are the end node\n",
    "            new_paths = find_all_paths(graph, node, end, path)\n",
    "            for p in new_paths:\n",
    "                paths.append(p)\n",
    "    # print(start, end, paths)\n",
    "    return paths\n",
    "\n",
    "# Function to calculate travel time for a path\n",
    "def travel_time(graph, path):\n",
    "    time = 0\n",
    "    for i in range(len(path) - 1):\n",
    "        time += graph[path[i]][path[i+1]]\n",
    "    return time\n",
    "\n",
    "# Heuristic function for a specific end city\n",
    "def heuristic_for_all_nodes(graph, end):\n",
    "    heuristics = {}\n",
    "    for start in graph:\n",
    "        paths = find_all_paths(graph, start, end)\n",
    "        if paths:\n",
    "            total_time = sum(travel_time(graph, path) for path in paths)\n",
    "            heuristics[start] = total_time / len(paths)\n",
    "        else:\n",
    "            heuristics[start] = float('inf')  # No path available\n",
    "    return heuristics\n",
    "\n",
    "def fitness(route, graph):\n",
    "    travel_time = 0\n",
    "    for i in range(len(route) - 1):\n",
    "        if route[i + 1] in graph[route[i]]:\n",
    "            travel_time += graph[route[i]][route[i + 1]]\n",
    "        else:\n",
    "            return float('inf')  # Invalid route, assign a high travel time\n",
    "    return travel_time"
   ]
  },
  {
   "cell_type": "code",
   "execution_count": 78,
   "metadata": {
    "id": "ro24Gaj7F7sO"
   },
   "outputs": [],
   "source": [
    "#Code Block : Write function to design the Transition Model/Successor function. Ideally this would be called while search algorithms are implemented\n",
    "def successors(graph, node):\n",
    "    return graph[node].items()"
   ]
  },
  {
   "cell_type": "code",
   "execution_count": 79,
   "metadata": {
    "id": "HIVPhrRWF7sO"
   },
   "outputs": [],
   "source": [
    "#Code block : Write fucntion to handle goal test (Must handle dynamic inputs). Ideally this would be called while search algorithms are implemented\n",
    "def is_goal(node, goal):\n",
    "    return node == goal"
   ]
  },
  {
   "cell_type": "markdown",
   "metadata": {
    "id": "Z4QwDeX5F7sO"
   },
   "source": [
    "### 2.\tDefinition of Algorithm 1 (A* Algorithm)"
   ]
  },
  {
   "cell_type": "code",
   "execution_count": 80,
   "metadata": {
    "id": "zD_EPCHWF7sO"
   },
   "outputs": [],
   "source": [
    "#Code Block : Function for A* algorithm implementation\n",
    "def a_star_search(graph, start, goal, heuristics):\n",
    "    open_list = []\n",
    "    heapq.heappush(open_list, (0, start))\n",
    "    came_from = {}\n",
    "    g_score = {node: float('inf') for node in graph}\n",
    "    g_score[start] = 0\n",
    "    f_score = {node: float('inf') for node in graph}\n",
    "    f_score[start] = heuristics[start]\n",
    "\n",
    "    tracemalloc.start()\n",
    "    start_time = time.time()\n",
    "    # print(\"start_time\", start_time)\n",
    "    \n",
    "    while open_list:\n",
    "        current = heapq.heappop(open_list)[1]\n",
    "        \n",
    "        if is_goal(current, goal):\n",
    "            path = reconstruct_path(came_from, current)\n",
    "            current, peak = tracemalloc.get_traced_memory()\n",
    "            end_time = time.time()\n",
    "            # print(\"end_time\", end_time)\n",
    "            tracemalloc.stop()\n",
    "            return path, g_score[goal], current, peak, end_time - start_time\n",
    "        \n",
    "        for neighbor, cost in successors(graph, current):\n",
    "            tentative_g_score = g_score[current] + cost\n",
    "            \n",
    "            if tentative_g_score < g_score[neighbor]:\n",
    "                came_from[neighbor] = current\n",
    "                g_score[neighbor] = tentative_g_score\n",
    "                f_score[neighbor] = g_score[neighbor] + heuristics[neighbor]\n",
    "                if neighbor not in [i[1] for i in open_list]:\n",
    "                    heapq.heappush(open_list, (f_score[neighbor], neighbor))\n",
    "\n",
    "    tracemalloc.stop()\n",
    "    return None, float('inf'), None, None, None\n",
    "\n",
    "def reconstruct_path(came_from, current):\n",
    "    path = [current]\n",
    "    while current in came_from:\n",
    "        current = came_from[current]\n",
    "        path.append(current)\n",
    "    path.reverse()\n",
    "    return path\n"
   ]
  },
  {
   "cell_type": "markdown",
   "metadata": {
    "id": "KnbdDl6HF7sO"
   },
   "source": [
    "### 3.\tDefinition of Algorithm 2 (Genetic Algorithm)"
   ]
  },
  {
   "cell_type": "code",
   "execution_count": 81,
   "metadata": {
    "id": "3HYh7-eJF7sP"
   },
   "outputs": [],
   "source": [
    "#Code Block : Function for Genetic algorithm implementation\n",
    "def generate_route(cities):\n",
    "    return random.sample(cities, len(cities))\n",
    "\n",
    "def initial_population(size, cities):\n",
    "    return [generate_route(cities) for _ in range(size)]\n",
    "\n",
    "def select_parents(population, fitnesses, k=3):\n",
    "    selected = random.choices(population, k=k)\n",
    "    selected.sort(key=lambda x: fitness(x, roads))\n",
    "    return selected[0]\n",
    "\n",
    "def crossover(parent1, parent2):\n",
    "    cut = random.randint(1, len(parent1) - 2)\n",
    "    child1 = parent1[:cut] + [gene for gene in parent2 if gene not in parent1[:cut]]\n",
    "    child2 = parent2[:cut] + [gene for gene in parent1 if gene not in parent2[:cut]]\n",
    "    return child1, child2\n",
    "\n",
    "def mutate(route, mutation_rate=0.01):\n",
    "    if random.random() < mutation_rate:\n",
    "        i, j = random.sample(range(len(route)), 2)\n",
    "        route[i], route[j] = route[j], route[i]\n",
    "    return route\n",
    "\n",
    "\n",
    "def genetic_algorithm_with_metrics(graph, cities, population_size=100, generations=500, mutation_rate=0.01):\n",
    "    tracemalloc.start()\n",
    "    start_time = time.time()\n",
    "    \n",
    "    population = initial_population(population_size, cities)\n",
    "    for _ in range(generations):\n",
    "        population_fitness = [(route, fitness(route, graph)) for route in population]\n",
    "        population_fitness.sort(key=lambda x: x[1])\n",
    "        population = [route for route, _ in population_fitness[:population_size // 2]]\n",
    "        \n",
    "        next_generation = []\n",
    "        while len(next_generation) < population_size:\n",
    "            parent1 = select_parents(population, population_fitness)\n",
    "            parent2 = select_parents(population, population_fitness)\n",
    "            child1, child2 = crossover(parent1, parent2)\n",
    "            next_generation.append(mutate(child1, mutation_rate))\n",
    "            next_generation.append(mutate(child2, mutation_rate))\n",
    "        \n",
    "        population = next_generation\n",
    "    \n",
    "    best_route = min(population, key=lambda x: fitness(x, graph))\n",
    "    end_time = time.time()\n",
    "    current, peak = tracemalloc.get_traced_memory()\n",
    "    tracemalloc.stop()\n",
    "    \n",
    "    return best_route, fitness(best_route, graph), current, peak, end_time - start_time\n",
    "\n",
    "\n"
   ]
  },
  {
   "cell_type": "markdown",
   "metadata": {
    "id": "LEV2XHccF7sP"
   },
   "source": [
    "### DYNAMIC INPUT"
   ]
  },
  {
   "cell_type": "markdown",
   "metadata": {
    "id": "CylYRo_DF7sP"
   },
   "source": [
    "IMPORTANT : Dynamic Input must be got in this section. Display the possible states to choose from:\n",
    "This is applicable for all the relevent problems as mentioned in the question."
   ]
  },
  {
   "cell_type": "code",
   "execution_count": 88,
   "metadata": {
    "id": "Q5t1Lc-wF7sP"
   },
   "outputs": [
    {
     "name": "stdin",
     "output_type": "stream",
     "text": [
      "Enter the starting city from A, B, C, D1, D2, E, F, G, H, X:  A\n",
      "Enter the destination city from A, B, C, D1, D2, E, F, G, H, X:  X\n"
     ]
    }
   ],
   "source": [
    "#Code Block : Function & call to get inputs (start/end state)\n",
    "start = input(\"Enter the starting city from A, B, C, D1, D2, E, F, G, H, X: \")\n",
    "goal = input(\"Enter the destination city from A, B, C, D1, D2, E, F, G, H, X: \")"
   ]
  },
  {
   "cell_type": "markdown",
   "metadata": {
    "id": "xsfOP81lF7sP"
   },
   "source": [
    "### 4.\tCalling the search algorithms\n",
    "(For bidirectional search in below sections first part can be used as per Hint provided. Under second section other combinations as per Hint or your choice of 2 algorithms can be called .As an analyst suggest suitable approximation in the comparitive analysis section)"
   ]
  },
  {
   "cell_type": "code",
   "execution_count": 89,
   "metadata": {
    "id": "Og5zI9thF7sP"
   },
   "outputs": [
    {
     "name": "stdout",
     "output_type": "stream",
     "text": [
      "Path: ['A', 'D1', 'F', 'X']\n",
      "Cost: 54\n"
     ]
    }
   ],
   "source": [
    "#Invoke algorithm 1 (Should Print the solution, path, cost etc., (As mentioned in the problem))\n",
    "heuristic = heuristic_for_all_nodes(roads, goal)\n",
    "path, cost, current_mem, peak_mem, exec_time = a_star_search(roads, start, goal, heuristics)\n",
    "\n",
    "print(f\"Path: {path}\")\n",
    "print(f\"Cost: {cost}\")"
   ]
  },
  {
   "cell_type": "code",
   "execution_count": 105,
   "metadata": {
    "id": "u3MJeA6eF7sP"
   },
   "outputs": [
    {
     "name": "stdout",
     "output_type": "stream",
     "text": [
      "Best Route: ['D2', 'X', 'G', 'B', 'H', 'F', 'E', 'C', 'D1', 'A']\n",
      "Total Travel Time (Fitness): inf units\n"
     ]
    }
   ],
   "source": [
    "#Invoke algorithm 2 (Should Print the solution, path, cost etc., (As mentioned in the problem))\n",
    "cities = list(roads.keys())\n",
    "best_route, best_fitness, gcurrent_mem, gpeak_mem, gexec_time = genetic_algorithm_with_metrics(roads, cities)\n",
    "\n",
    "print(f\"Best Route: {best_route}\")\n",
    "print(f\"Total Travel Time (Fitness): {best_fitness} units\")\n"
   ]
  },
  {
   "cell_type": "code",
   "execution_count": 106,
   "metadata": {
    "id": "HG6fWwiIF7sQ"
   },
   "outputs": [
    {
     "name": "stdout",
     "output_type": "stream",
     "text": [
      "Current memory usage: 424 bytes\n",
      "Peak memory usage: 648 bytes\n",
      "Execution time: 0.0 seconds\n"
     ]
    }
   ],
   "source": [
    "#Code Block : Print the Time & Space complexity of algorithm 1 - A* Algorithm\n",
    "\n",
    "print(f\"Current memory usage: {current_mem} bytes\")\n",
    "print(f\"Peak memory usage: {peak_mem} bytes\")\n",
    "print(f\"Execution time: {exec_time} seconds\")"
   ]
  },
  {
   "cell_type": "code",
   "execution_count": 107,
   "metadata": {
    "id": "xMButLKCF7sQ"
   },
   "outputs": [
    {
     "name": "stdout",
     "output_type": "stream",
     "text": [
      "Current memory usage: 32206 bytes\n",
      "Peak memory usage: 33422 bytes\n",
      "Execution time: 1.289045810699463 seconds\n"
     ]
    }
   ],
   "source": [
    "#Code Block : Print the Time & Space complexity of algorithm 2 - Genetic Algorithm\n",
    "\n",
    "print(f\"Current memory usage: {gcurrent_mem} bytes\")\n",
    "print(f\"Peak memory usage: {gpeak_mem} bytes\")\n",
    "print(f\"Execution time: {gexec_time} seconds\")"
   ]
  },
  {
   "cell_type": "markdown",
   "metadata": {
    "id": "TOU3Rem6F7sQ"
   },
   "source": [
    "### 5.\tComparitive Analysis (Time and Space Complexity)"
   ]
  },
  {
   "cell_type": "code",
   "execution_count": 108,
   "metadata": {},
   "outputs": [
    {
     "name": "stdout",
     "output_type": "stream",
     "text": [
      "A* Path: ['A', 'D1', 'F', 'X']\n",
      "A* Cost: 54\n",
      "A* Current memory usage: 424 bytes\n",
      "A* Peak memory usage: 648 bytes\n",
      "A* Execution time: 0.0 seconds\n",
      "Genetic Algorithm Best Route: ['D2', 'X', 'G', 'B', 'H', 'F', 'E', 'C', 'D1', 'A']\n",
      "Genetic Algorithm Total Travel Time (Fitness): inf units\n",
      "Genetic Algorithm Current memory usage: 32206 bytes\n",
      "Genetic Algorithm Peak memory usage: 33422 bytes\n",
      "Genetic Algorithm Execution time: 1.289045810699463 seconds\n"
     ]
    }
   ],
   "source": [
    "print(f\"A* Path: {path}\")\n",
    "print(f\"A* Cost: {cost}\")\n",
    "print(f\"A* Current memory usage: {current_mem} bytes\")\n",
    "print(f\"A* Peak memory usage: {peak_mem} bytes\")\n",
    "print(f\"A* Execution time: {exec_time} seconds\")\n",
    "print(f\"Genetic Algorithm Best Route: {best_route}\")\n",
    "print(f\"Genetic Algorithm Total Travel Time (Fitness): {best_fitness} units\")\n",
    "print(f\"Genetic Algorithm Current memory usage: {gcurrent_mem} bytes\")\n",
    "print(f\"Genetic Algorithm Peak memory usage: {gpeak_mem} bytes\")\n",
    "print(f\"Genetic Algorithm Execution time: {gexec_time} seconds\")"
   ]
  },
  {
   "cell_type": "markdown",
   "metadata": {
    "id": "y2nXwAlsF7sQ"
   },
   "source": [
    "### 6.\tProvide your comparitive analysis or findings in no more than 3 lines in below section"
   ]
  },
  {
   "cell_type": "markdown",
   "metadata": {
    "id": "si483-zoF7sQ"
   },
   "source": [
    "Comparison : A* algorithm is more efficient in terms of both time and space complexity compared to the genetic algorithm. Genetic algorithms, although useful for global optimization, generally consume more memory and time due to their iterative and population-based nature."
   ]
  },
  {
   "cell_type": "code",
   "execution_count": null,
   "metadata": {},
   "outputs": [],
   "source": []
  }
 ],
 "metadata": {
  "colab": {
   "provenance": []
  },
  "kernelspec": {
   "display_name": "Python 3 (ipykernel)",
   "language": "python",
   "name": "python3"
  },
  "language_info": {
   "codemirror_mode": {
    "name": "ipython",
    "version": 3
   },
   "file_extension": ".py",
   "mimetype": "text/x-python",
   "name": "python",
   "nbconvert_exporter": "python",
   "pygments_lexer": "ipython3",
   "version": "3.9.5"
  }
 },
 "nbformat": 4,
 "nbformat_minor": 4
}
