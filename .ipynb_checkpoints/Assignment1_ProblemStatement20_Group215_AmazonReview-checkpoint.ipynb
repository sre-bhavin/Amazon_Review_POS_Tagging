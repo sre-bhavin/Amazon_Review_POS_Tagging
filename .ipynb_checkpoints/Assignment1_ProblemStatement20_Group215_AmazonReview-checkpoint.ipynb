{
 "cells": [
  {
   "cell_type": "markdown",
   "metadata": {
    "id": "uR0oAITvK3_E"
   },
   "source": [
    "# NLP (AIMLCZG530) - Assignment 1 - Problem Statement 20 - Group 215\n",
    "---\n",
    "## Team Members & Contribution\n",
    "\n",
    "| Student ID | Student Name | Contribution % |\n",
    "|---|---|---|\n",
    "| 2024aa05899 | Bhavin Arvindkumar Shah | 20% |\n",
    "| xx | xx | 20% |\n",
    "| xx | xx | 20% |\n",
    "| xx | xx | 20% |\n",
    "| xx | xx | 20% |\n",
    "\n",
    "---\n",
    "\n",
    "## Dataset Choosen - Amazon Product Review\n",
    "**Justification:**\n",
    "We have chosen the Amazon Product Review dataset for its rich linguistic diversity and relevance to real-world natural language processing tasks. This dataset contains a wide range of product reviews written by various users, reflecting different writing styles, sentiments, and domain-specific vocabulary. This diversity makes it an excellent testbed for developing robust Part-of-Speech (POS) tagging models.\n",
    "\n",
    "**Dataset source:**\n",
    "https://www.kaggle.com/datasets/kritanjalijain/amazon-reviews\n",
    "\n",
    "\n",
    "---\n",
    "\n",
    "\n"
   ]
  },
  {
   "cell_type": "markdown",
   "metadata": {
    "id": "_q8JHYmxQ531"
   },
   "source": [
    "#### Download & import necessary Libraries & NLTK data"
   ]
  },
  {
   "cell_type": "code",
   "execution_count": 1,
   "metadata": {
    "colab": {
     "base_uri": "https://localhost:8080/"
    },
    "id": "-yYMEGL-QoyU",
    "outputId": "23202b73-adc4-4142-ba1e-449c2546318b"
   },
   "outputs": [
    {
     "name": "stdout",
     "output_type": "stream",
     "text": [
      "Requirement already satisfied: nltk in c:\\users\\bhavi\\appdata\\local\\programs\\python\\python39\\lib\\site-packages (3.9.1)\n",
      "Requirement already satisfied: scikit-learn in c:\\users\\bhavi\\appdata\\local\\programs\\python\\python39\\lib\\site-packages (1.6.1)\n",
      "Requirement already satisfied: pandas in c:\\users\\bhavi\\appdata\\local\\programs\\python\\python39\\lib\\site-packages (2.2.3)\n",
      "Collecting tensorflow\n",
      "  Using cached tensorflow-2.19.0-cp39-cp39-win_amd64.whl.metadata (4.1 kB)\n",
      "Requirement already satisfied: click in c:\\users\\bhavi\\appdata\\local\\programs\\python\\python39\\lib\\site-packages (from nltk) (8.1.6)\n",
      "Requirement already satisfied: joblib in c:\\users\\bhavi\\appdata\\local\\programs\\python\\python39\\lib\\site-packages (from nltk) (1.4.2)\n",
      "Requirement already satisfied: regex>=2021.8.3 in c:\\users\\bhavi\\appdata\\local\\programs\\python\\python39\\lib\\site-packages (from nltk) (2024.11.6)\n",
      "Requirement already satisfied: tqdm in c:\\users\\bhavi\\appdata\\local\\programs\\python\\python39\\lib\\site-packages (from nltk) (4.67.1)\n",
      "Requirement already satisfied: numpy>=1.19.5 in c:\\users\\bhavi\\appdata\\local\\programs\\python\\python39\\lib\\site-packages (from scikit-learn) (2.0.2)\n",
      "Requirement already satisfied: scipy>=1.6.0 in c:\\users\\bhavi\\appdata\\local\\programs\\python\\python39\\lib\\site-packages (from scikit-learn) (1.13.1)\n",
      "Requirement already satisfied: threadpoolctl>=3.1.0 in c:\\users\\bhavi\\appdata\\local\\programs\\python\\python39\\lib\\site-packages (from scikit-learn) (3.5.0)\n",
      "Requirement already satisfied: python-dateutil>=2.8.2 in c:\\users\\bhavi\\appdata\\local\\programs\\python\\python39\\lib\\site-packages (from pandas) (2.9.0.post0)\n",
      "Requirement already satisfied: pytz>=2020.1 in c:\\users\\bhavi\\appdata\\local\\programs\\python\\python39\\lib\\site-packages (from pandas) (2024.2)\n",
      "Requirement already satisfied: tzdata>=2022.7 in c:\\users\\bhavi\\appdata\\local\\programs\\python\\python39\\lib\\site-packages (from pandas) (2024.2)\n",
      "Collecting absl-py>=1.0.0 (from tensorflow)\n",
      "  Using cached absl_py-2.3.0-py3-none-any.whl.metadata (2.4 kB)\n",
      "Collecting astunparse>=1.6.0 (from tensorflow)\n",
      "  Using cached astunparse-1.6.3-py2.py3-none-any.whl.metadata (4.4 kB)\n",
      "Requirement already satisfied: flatbuffers>=24.3.25 in c:\\users\\bhavi\\appdata\\local\\programs\\python\\python39\\lib\\site-packages (from tensorflow) (25.2.10)\n",
      "Collecting gast!=0.5.0,!=0.5.1,!=0.5.2,>=0.2.1 (from tensorflow)\n",
      "  Using cached gast-0.6.0-py3-none-any.whl.metadata (1.3 kB)\n",
      "Collecting google-pasta>=0.1.1 (from tensorflow)\n",
      "  Using cached google_pasta-0.2.0-py3-none-any.whl.metadata (814 bytes)\n",
      "Requirement already satisfied: libclang>=13.0.0 in c:\\users\\bhavi\\appdata\\local\\programs\\python\\python39\\lib\\site-packages (from tensorflow) (18.1.1)\n",
      "Requirement already satisfied: opt-einsum>=2.3.2 in c:\\users\\bhavi\\appdata\\local\\programs\\python\\python39\\lib\\site-packages (from tensorflow) (3.4.0)\n",
      "Requirement already satisfied: packaging in c:\\users\\bhavi\\appdata\\local\\programs\\python\\python39\\lib\\site-packages (from tensorflow) (24.2)\n",
      "Requirement already satisfied: protobuf!=4.21.0,!=4.21.1,!=4.21.2,!=4.21.3,!=4.21.4,!=4.21.5,<6.0.0dev,>=3.20.3 in c:\\users\\bhavi\\appdata\\local\\programs\\python\\python39\\lib\\site-packages (from tensorflow) (5.29.5)\n",
      "Requirement already satisfied: requests<3,>=2.21.0 in c:\\users\\bhavi\\appdata\\local\\programs\\python\\python39\\lib\\site-packages (from tensorflow) (2.32.3)\n",
      "Requirement already satisfied: setuptools in c:\\users\\bhavi\\appdata\\local\\programs\\python\\python39\\lib\\site-packages (from tensorflow) (56.0.0)\n",
      "Requirement already satisfied: six>=1.12.0 in c:\\users\\bhavi\\appdata\\local\\programs\\python\\python39\\lib\\site-packages (from tensorflow) (1.16.0)\n",
      "Requirement already satisfied: termcolor>=1.1.0 in c:\\users\\bhavi\\appdata\\local\\programs\\python\\python39\\lib\\site-packages (from tensorflow) (3.1.0)\n",
      "Requirement already satisfied: typing-extensions>=3.6.6 in c:\\users\\bhavi\\appdata\\local\\programs\\python\\python39\\lib\\site-packages (from tensorflow) (4.12.2)\n",
      "Requirement already satisfied: wrapt>=1.11.0 in c:\\users\\bhavi\\appdata\\local\\programs\\python\\python39\\lib\\site-packages (from tensorflow) (1.17.2)\n",
      "Collecting grpcio<2.0,>=1.24.3 (from tensorflow)\n",
      "  Using cached grpcio-1.73.0-cp39-cp39-win_amd64.whl.metadata (4.0 kB)\n",
      "Collecting tensorboard~=2.19.0 (from tensorflow)\n",
      "  Using cached tensorboard-2.19.0-py3-none-any.whl.metadata (1.8 kB)\n",
      "Collecting keras>=3.5.0 (from tensorflow)\n",
      "  Using cached keras-3.10.0-py3-none-any.whl.metadata (6.0 kB)\n",
      "Requirement already satisfied: h5py>=3.11.0 in c:\\users\\bhavi\\appdata\\local\\programs\\python\\python39\\lib\\site-packages (from tensorflow) (3.14.0)\n",
      "Requirement already satisfied: ml-dtypes<1.0.0,>=0.5.1 in c:\\users\\bhavi\\appdata\\local\\programs\\python\\python39\\lib\\site-packages (from tensorflow) (0.5.1)\n",
      "Requirement already satisfied: tensorflow-io-gcs-filesystem>=0.23.1 in c:\\users\\bhavi\\appdata\\local\\programs\\python\\python39\\lib\\site-packages (from tensorflow) (0.31.0)\n",
      "Requirement already satisfied: wheel<1.0,>=0.23.0 in c:\\users\\bhavi\\appdata\\local\\programs\\python\\python39\\lib\\site-packages (from astunparse>=1.6.0->tensorflow) (0.45.1)\n",
      "Collecting rich (from keras>=3.5.0->tensorflow)\n",
      "  Using cached rich-14.0.0-py3-none-any.whl.metadata (18 kB)\n",
      "Requirement already satisfied: namex in c:\\users\\bhavi\\appdata\\local\\programs\\python\\python39\\lib\\site-packages (from keras>=3.5.0->tensorflow) (0.1.0)\n",
      "Requirement already satisfied: optree in c:\\users\\bhavi\\appdata\\local\\programs\\python\\python39\\lib\\site-packages (from keras>=3.5.0->tensorflow) (0.16.0)\n",
      "Requirement already satisfied: charset-normalizer<4,>=2 in c:\\users\\bhavi\\appdata\\local\\programs\\python\\python39\\lib\\site-packages (from requests<3,>=2.21.0->tensorflow) (3.4.0)\n",
      "Requirement already satisfied: idna<4,>=2.5 in c:\\users\\bhavi\\appdata\\local\\programs\\python\\python39\\lib\\site-packages (from requests<3,>=2.21.0->tensorflow) (3.4)\n",
      "Requirement already satisfied: urllib3<3,>=1.21.1 in c:\\users\\bhavi\\appdata\\local\\programs\\python\\python39\\lib\\site-packages (from requests<3,>=2.21.0->tensorflow) (2.2.3)\n",
      "Requirement already satisfied: certifi>=2017.4.17 in c:\\users\\bhavi\\appdata\\local\\programs\\python\\python39\\lib\\site-packages (from requests<3,>=2.21.0->tensorflow) (2023.7.22)\n",
      "Collecting markdown>=2.6.8 (from tensorboard~=2.19.0->tensorflow)\n",
      "  Using cached markdown-3.8.2-py3-none-any.whl.metadata (5.1 kB)\n",
      "Requirement already satisfied: tensorboard-data-server<0.8.0,>=0.7.0 in c:\\users\\bhavi\\appdata\\local\\programs\\python\\python39\\lib\\site-packages (from tensorboard~=2.19.0->tensorflow) (0.7.2)\n",
      "Requirement already satisfied: werkzeug>=1.0.1 in c:\\users\\bhavi\\appdata\\local\\programs\\python\\python39\\lib\\site-packages (from tensorboard~=2.19.0->tensorflow) (2.3.6)\n",
      "Requirement already satisfied: colorama in c:\\users\\bhavi\\appdata\\local\\programs\\python\\python39\\lib\\site-packages (from click->nltk) (0.4.6)\n",
      "Requirement already satisfied: importlib-metadata>=4.4 in c:\\users\\bhavi\\appdata\\local\\programs\\python\\python39\\lib\\site-packages (from markdown>=2.6.8->tensorboard~=2.19.0->tensorflow) (6.8.0)\n",
      "Requirement already satisfied: MarkupSafe>=2.1.1 in c:\\users\\bhavi\\appdata\\local\\programs\\python\\python39\\lib\\site-packages (from werkzeug>=1.0.1->tensorboard~=2.19.0->tensorflow) (2.1.3)\n",
      "Collecting markdown-it-py>=2.2.0 (from rich->keras>=3.5.0->tensorflow)\n",
      "  Using cached markdown_it_py-3.0.0-py3-none-any.whl.metadata (6.9 kB)\n",
      "Requirement already satisfied: pygments<3.0.0,>=2.13.0 in c:\\users\\bhavi\\appdata\\local\\programs\\python\\python39\\lib\\site-packages (from rich->keras>=3.5.0->tensorflow) (2.18.0)\n",
      "Requirement already satisfied: zipp>=0.5 in c:\\users\\bhavi\\appdata\\local\\programs\\python\\python39\\lib\\site-packages (from importlib-metadata>=4.4->markdown>=2.6.8->tensorboard~=2.19.0->tensorflow) (3.16.2)\n",
      "Requirement already satisfied: mdurl~=0.1 in c:\\users\\bhavi\\appdata\\local\\programs\\python\\python39\\lib\\site-packages (from markdown-it-py>=2.2.0->rich->keras>=3.5.0->tensorflow) (0.1.2)\n",
      "Downloading tensorflow-2.19.0-cp39-cp39-win_amd64.whl (375.7 MB)\n",
      "   ---------------------------------------- 0.0/375.7 MB ? eta -:--:--\n",
      "   ---------------------------------------- 3.7/375.7 MB 19.8 MB/s eta 0:00:19\n",
      "    --------------------------------------- 6.3/375.7 MB 15.5 MB/s eta 0:00:24\n",
      "    --------------------------------------- 9.2/375.7 MB 14.6 MB/s eta 0:00:26\n",
      "   - -------------------------------------- 11.5/375.7 MB 14.1 MB/s eta 0:00:26\n",
      "   - -------------------------------------- 14.4/375.7 MB 13.7 MB/s eta 0:00:27\n",
      "   - -------------------------------------- 17.0/375.7 MB 13.6 MB/s eta 0:00:27\n",
      "   -- ------------------------------------- 19.4/375.7 MB 13.5 MB/s eta 0:00:27\n",
      "   -- ------------------------------------- 22.0/375.7 MB 13.4 MB/s eta 0:00:27\n",
      "   -- ------------------------------------- 24.6/375.7 MB 13.3 MB/s eta 0:00:27\n",
      "   -- ------------------------------------- 27.3/375.7 MB 13.3 MB/s eta 0:00:27\n",
      "   --- ------------------------------------ 29.9/375.7 MB 13.2 MB/s eta 0:00:27\n",
      "   --- ------------------------------------ 32.5/375.7 MB 13.1 MB/s eta 0:00:27\n",
      "   --- ------------------------------------ 35.1/375.7 MB 13.1 MB/s eta 0:00:26\n",
      "   ---- ----------------------------------- 37.7/375.7 MB 13.1 MB/s eta 0:00:26\n",
      "   ---- ----------------------------------- 40.4/375.7 MB 13.1 MB/s eta 0:00:26\n",
      "   ---- ----------------------------------- 43.0/375.7 MB 13.1 MB/s eta 0:00:26\n",
      "   ---- ----------------------------------- 45.9/375.7 MB 13.0 MB/s eta 0:00:26\n",
      "   ----- ---------------------------------- 48.5/375.7 MB 13.0 MB/s eta 0:00:26\n",
      "   ----- ---------------------------------- 51.1/375.7 MB 13.0 MB/s eta 0:00:25\n",
      "   ----- ---------------------------------- 53.7/375.7 MB 13.0 MB/s eta 0:00:25\n",
      "   ------ --------------------------------- 56.4/375.7 MB 13.0 MB/s eta 0:00:25\n",
      "   ------ --------------------------------- 58.7/375.7 MB 12.9 MB/s eta 0:00:25\n",
      "   ------ --------------------------------- 61.1/375.7 MB 12.9 MB/s eta 0:00:25\n",
      "   ------ --------------------------------- 64.0/375.7 MB 12.9 MB/s eta 0:00:25\n",
      "   ------- -------------------------------- 66.6/375.7 MB 12.9 MB/s eta 0:00:24\n",
      "   ------- -------------------------------- 69.5/375.7 MB 12.9 MB/s eta 0:00:24\n",
      "   ------- -------------------------------- 72.4/375.7 MB 12.9 MB/s eta 0:00:24\n",
      "   ------- -------------------------------- 75.0/375.7 MB 12.9 MB/s eta 0:00:24\n",
      "   -------- ------------------------------- 77.6/375.7 MB 12.9 MB/s eta 0:00:24\n",
      "   -------- ------------------------------- 80.2/375.7 MB 12.9 MB/s eta 0:00:23\n",
      "   -------- ------------------------------- 82.8/375.7 MB 12.9 MB/s eta 0:00:23\n",
      "   --------- ------------------------------ 85.5/375.7 MB 12.9 MB/s eta 0:00:23\n",
      "   --------- ------------------------------ 88.1/375.7 MB 12.9 MB/s eta 0:00:23\n",
      "   --------- ------------------------------ 90.7/375.7 MB 12.9 MB/s eta 0:00:23\n",
      "   --------- ------------------------------ 93.6/375.7 MB 12.9 MB/s eta 0:00:22\n",
      "   ---------- ----------------------------- 96.2/375.7 MB 12.9 MB/s eta 0:00:22\n",
      "   ---------- ----------------------------- 99.1/375.7 MB 12.9 MB/s eta 0:00:22\n",
      "   ---------- ---------------------------- 101.7/375.7 MB 12.9 MB/s eta 0:00:22\n",
      "   ---------- ---------------------------- 104.3/375.7 MB 12.9 MB/s eta 0:00:22\n",
      "   ----------- --------------------------- 107.0/375.7 MB 12.9 MB/s eta 0:00:21\n",
      "   ----------- --------------------------- 109.6/375.7 MB 12.8 MB/s eta 0:00:21\n",
      "   ----------- --------------------------- 112.5/375.7 MB 12.8 MB/s eta 0:00:21\n",
      "   ----------- --------------------------- 115.1/375.7 MB 12.8 MB/s eta 0:00:21\n",
      "   ------------ -------------------------- 117.7/375.7 MB 12.8 MB/s eta 0:00:21\n",
      "   ------------ -------------------------- 120.3/375.7 MB 12.8 MB/s eta 0:00:20\n",
      "   ------------ -------------------------- 122.9/375.7 MB 12.9 MB/s eta 0:00:20\n",
      "   ------------- ------------------------- 125.6/375.7 MB 12.9 MB/s eta 0:00:20\n",
      "   ------------- ------------------------- 128.2/375.7 MB 12.8 MB/s eta 0:00:20\n",
      "   ------------- ------------------------- 130.8/375.7 MB 12.8 MB/s eta 0:00:20\n",
      "   ------------- ------------------------- 133.4/375.7 MB 12.8 MB/s eta 0:00:19\n",
      "   -------------- ------------------------ 136.1/375.7 MB 12.8 MB/s eta 0:00:19\n",
      "   -------------- ------------------------ 138.7/375.7 MB 12.8 MB/s eta 0:00:19\n",
      "   -------------- ------------------------ 141.3/375.7 MB 12.8 MB/s eta 0:00:19\n",
      "   -------------- ------------------------ 143.9/375.7 MB 12.8 MB/s eta 0:00:19\n",
      "   --------------- ----------------------- 146.5/375.7 MB 12.8 MB/s eta 0:00:18\n",
      "   --------------- ----------------------- 149.2/375.7 MB 12.8 MB/s eta 0:00:18\n",
      "   --------------- ----------------------- 151.8/375.7 MB 12.8 MB/s eta 0:00:18\n",
      "   ---------------- ---------------------- 154.4/375.7 MB 12.8 MB/s eta 0:00:18\n",
      "   ---------------- ---------------------- 157.0/375.7 MB 12.8 MB/s eta 0:00:18\n",
      "   ---------------- ---------------------- 159.6/375.7 MB 12.8 MB/s eta 0:00:17\n",
      "   ---------------- ---------------------- 162.3/375.7 MB 12.8 MB/s eta 0:00:17\n",
      "   ----------------- --------------------- 164.9/375.7 MB 12.8 MB/s eta 0:00:17\n",
      "   ----------------- --------------------- 167.5/375.7 MB 12.8 MB/s eta 0:00:17\n",
      "   ----------------- --------------------- 170.1/375.7 MB 12.8 MB/s eta 0:00:17\n",
      "   ----------------- --------------------- 172.8/375.7 MB 12.8 MB/s eta 0:00:16\n",
      "   ------------------ -------------------- 175.4/375.7 MB 12.8 MB/s eta 0:00:16\n",
      "   ------------------ -------------------- 178.0/375.7 MB 12.8 MB/s eta 0:00:16\n",
      "   ------------------ -------------------- 180.9/375.7 MB 12.8 MB/s eta 0:00:16\n",
      "   ------------------- ------------------- 183.5/375.7 MB 12.8 MB/s eta 0:00:16\n",
      "   ------------------- ------------------- 186.1/375.7 MB 12.8 MB/s eta 0:00:15\n",
      "   ------------------- ------------------- 188.7/375.7 MB 12.8 MB/s eta 0:00:15\n",
      "   ------------------- ------------------- 191.4/375.7 MB 12.8 MB/s eta 0:00:15\n",
      "   -------------------- ------------------ 194.0/375.7 MB 12.8 MB/s eta 0:00:15\n",
      "   -------------------- ------------------ 196.6/375.7 MB 12.8 MB/s eta 0:00:14\n",
      "   -------------------- ------------------ 199.2/375.7 MB 12.8 MB/s eta 0:00:14\n",
      "   -------------------- ------------------ 201.3/375.7 MB 12.8 MB/s eta 0:00:14\n",
      "   --------------------- ----------------- 204.5/375.7 MB 12.8 MB/s eta 0:00:14\n",
      "   --------------------- ----------------- 207.1/375.7 MB 12.8 MB/s eta 0:00:14\n",
      "   --------------------- ----------------- 209.7/375.7 MB 12.8 MB/s eta 0:00:13\n",
      "   ---------------------- ---------------- 212.3/375.7 MB 12.8 MB/s eta 0:00:13\n",
      "   ---------------------- ---------------- 215.0/375.7 MB 12.8 MB/s eta 0:00:13\n",
      "   ---------------------- ---------------- 217.3/375.7 MB 12.8 MB/s eta 0:00:13\n",
      "   ---------------------- ---------------- 219.9/375.7 MB 12.8 MB/s eta 0:00:13\n",
      "   ----------------------- --------------- 222.8/375.7 MB 12.8 MB/s eta 0:00:12\n",
      "   ----------------------- --------------- 225.4/375.7 MB 12.8 MB/s eta 0:00:12\n",
      "   ----------------------- --------------- 228.1/375.7 MB 12.8 MB/s eta 0:00:12\n",
      "   ----------------------- --------------- 230.7/375.7 MB 12.8 MB/s eta 0:00:12\n",
      "   ------------------------ -------------- 233.3/375.7 MB 12.8 MB/s eta 0:00:12\n",
      "   ------------------------ -------------- 235.9/375.7 MB 12.8 MB/s eta 0:00:11\n",
      "   ------------------------ -------------- 238.6/375.7 MB 12.8 MB/s eta 0:00:11\n",
      "   ------------------------- ------------- 241.2/375.7 MB 12.8 MB/s eta 0:00:11\n",
      "   ------------------------- ------------- 243.8/375.7 MB 12.8 MB/s eta 0:00:11\n",
      "   ------------------------- ------------- 246.4/375.7 MB 12.8 MB/s eta 0:00:11\n",
      "   ------------------------- ------------- 249.0/375.7 MB 12.8 MB/s eta 0:00:10\n",
      "   -------------------------- ------------ 251.7/375.7 MB 12.8 MB/s eta 0:00:10\n",
      "   -------------------------- ------------ 254.3/375.7 MB 12.8 MB/s eta 0:00:10\n",
      "   -------------------------- ------------ 256.9/375.7 MB 12.8 MB/s eta 0:00:10\n",
      "   -------------------------- ------------ 258.5/375.7 MB 12.7 MB/s eta 0:00:10\n",
      "   --------------------------- ----------- 260.6/375.7 MB 12.7 MB/s eta 0:00:10\n",
      "   --------------------------- ----------- 263.7/375.7 MB 12.7 MB/s eta 0:00:09\n",
      "   --------------------------- ----------- 266.6/375.7 MB 12.7 MB/s eta 0:00:09\n",
      "   --------------------------- ----------- 269.2/375.7 MB 12.7 MB/s eta 0:00:09\n",
      "   ---------------------------- ---------- 271.8/375.7 MB 12.7 MB/s eta 0:00:09\n",
      "   ---------------------------- ---------- 274.5/375.7 MB 12.7 MB/s eta 0:00:08\n",
      "   ---------------------------- ---------- 277.3/375.7 MB 12.7 MB/s eta 0:00:08\n",
      "   ----------------------------- --------- 280.0/375.7 MB 12.7 MB/s eta 0:00:08\n",
      "   ----------------------------- --------- 282.6/375.7 MB 12.7 MB/s eta 0:00:08\n",
      "   ----------------------------- --------- 285.2/375.7 MB 12.7 MB/s eta 0:00:08\n",
      "   ----------------------------- --------- 287.8/375.7 MB 12.7 MB/s eta 0:00:07\n",
      "   ------------------------------ -------- 290.5/375.7 MB 12.7 MB/s eta 0:00:07\n",
      "   ------------------------------ -------- 293.1/375.7 MB 12.7 MB/s eta 0:00:07\n",
      "   ------------------------------ -------- 295.7/375.7 MB 12.7 MB/s eta 0:00:07\n",
      "   ------------------------------ -------- 298.3/375.7 MB 12.7 MB/s eta 0:00:07\n",
      "   ------------------------------- ------- 300.9/375.7 MB 12.7 MB/s eta 0:00:06\n",
      "   ------------------------------- ------- 303.8/375.7 MB 12.7 MB/s eta 0:00:06\n",
      "   ------------------------------- ------- 306.4/375.7 MB 12.7 MB/s eta 0:00:06\n",
      "   -------------------------------- ------ 309.1/375.7 MB 12.7 MB/s eta 0:00:06\n",
      "   -------------------------------- ------ 311.4/375.7 MB 12.7 MB/s eta 0:00:06\n",
      "   -------------------------------- ------ 314.0/375.7 MB 12.7 MB/s eta 0:00:05\n",
      "   -------------------------------- ------ 316.7/375.7 MB 12.7 MB/s eta 0:00:05\n",
      "   --------------------------------- ----- 319.6/375.7 MB 12.7 MB/s eta 0:00:05\n",
      "   --------------------------------- ----- 322.2/375.7 MB 12.7 MB/s eta 0:00:05\n",
      "   --------------------------------- ----- 324.8/375.7 MB 12.7 MB/s eta 0:00:05\n",
      "   --------------------------------- ----- 327.4/375.7 MB 12.7 MB/s eta 0:00:04\n",
      "   ---------------------------------- ---- 330.0/375.7 MB 12.7 MB/s eta 0:00:04\n",
      "   ---------------------------------- ---- 332.7/375.7 MB 12.7 MB/s eta 0:00:04\n",
      "   ---------------------------------- ---- 335.3/375.7 MB 12.7 MB/s eta 0:00:04\n",
      "   ----------------------------------- --- 337.9/375.7 MB 12.7 MB/s eta 0:00:03\n",
      "   ----------------------------------- --- 340.5/375.7 MB 12.7 MB/s eta 0:00:03\n",
      "   ----------------------------------- --- 343.1/375.7 MB 12.7 MB/s eta 0:00:03\n",
      "   ----------------------------------- --- 345.8/375.7 MB 12.7 MB/s eta 0:00:03\n",
      "   ------------------------------------ -- 348.1/375.7 MB 12.7 MB/s eta 0:00:03\n",
      "   ------------------------------------ -- 351.0/375.7 MB 12.7 MB/s eta 0:00:02\n",
      "   ------------------------------------ -- 352.8/375.7 MB 12.7 MB/s eta 0:00:02\n",
      "   ------------------------------------ -- 356.3/375.7 MB 12.7 MB/s eta 0:00:02\n",
      "   ------------------------------------- - 358.1/375.7 MB 12.7 MB/s eta 0:00:02\n",
      "   ------------------------------------- - 361.5/375.7 MB 12.7 MB/s eta 0:00:02\n",
      "   ------------------------------------- - 364.1/375.7 MB 12.7 MB/s eta 0:00:01\n",
      "   --------------------------------------  366.7/375.7 MB 12.7 MB/s eta 0:00:01\n",
      "   --------------------------------------  369.4/375.7 MB 12.7 MB/s eta 0:00:01\n",
      "   --------------------------------------  372.0/375.7 MB 12.7 MB/s eta 0:00:01\n",
      "   --------------------------------------  374.6/375.7 MB 12.7 MB/s eta 0:00:01\n",
      "   --------------------------------------  375.7/375.7 MB 12.7 MB/s eta 0:00:01\n",
      "   --------------------------------------  375.7/375.7 MB 12.7 MB/s eta 0:00:01\n",
      "   --------------------------------------  375.7/375.7 MB 12.7 MB/s eta 0:00:01\n",
      "   --------------------------------------- 375.7/375.7 MB 12.3 MB/s eta 0:00:00\n",
      "Using cached absl_py-2.3.0-py3-none-any.whl (135 kB)\n",
      "Using cached astunparse-1.6.3-py2.py3-none-any.whl (12 kB)\n",
      "Using cached gast-0.6.0-py3-none-any.whl (21 kB)\n",
      "Using cached google_pasta-0.2.0-py3-none-any.whl (57 kB)\n",
      "Using cached grpcio-1.73.0-cp39-cp39-win_amd64.whl (4.3 MB)\n",
      "Using cached keras-3.10.0-py3-none-any.whl (1.4 MB)\n",
      "Using cached tensorboard-2.19.0-py3-none-any.whl (5.5 MB)\n",
      "Using cached markdown-3.8.2-py3-none-any.whl (106 kB)\n",
      "Using cached rich-14.0.0-py3-none-any.whl (243 kB)\n",
      "Using cached markdown_it_py-3.0.0-py3-none-any.whl (87 kB)\n",
      "Installing collected packages: markdown-it-py, grpcio, google-pasta, gast, astunparse, absl-py, rich, markdown, tensorboard, keras, tensorflow\n",
      "Successfully installed absl-py-2.3.0 astunparse-1.6.3 gast-0.6.0 google-pasta-0.2.0 grpcio-1.73.0 keras-3.10.0 markdown-3.8.2 markdown-it-py-3.0.0 rich-14.0.0 tensorboard-2.19.0 tensorflow-2.19.0\n"
     ]
    },
    {
     "name": "stderr",
     "output_type": "stream",
     "text": [
      "\n",
      "[notice] A new release of pip is available: 24.3.1 -> 25.1.1\n",
      "[notice] To update, run: python.exe -m pip install --upgrade pip\n"
     ]
    }
   ],
   "source": [
    "!pip install nltk scikit-learn pandas tensorflow"
   ]
  },
  {
   "cell_type": "code",
   "execution_count": 2,
   "metadata": {
    "id": "266jccQTQpcb"
   },
   "outputs": [],
   "source": [
    "import pandas as pd\n",
    "import nltk\n",
    "import re\n",
    "from collections import Counter\n",
    "from sklearn.model_selection import train_test_split\n",
    "import numpy as np\n",
    "import matplotlib.pyplot as plt\n",
    "from sklearn.feature_extraction import DictVectorizer\n",
    "from sklearn.linear_model import LogisticRegression\n",
    "from sklearn.pipeline import Pipeline\n",
    "from sklearn.preprocessing import LabelEncoder\n",
    "from sklearn.metrics import accuracy_score\n",
    "import tensorflow as tf\n",
    "from tensorflow.keras.models import Sequential\n",
    "from tensorflow.keras.layers import Embedding, LSTM, Dense, Dropout, Bidirectional\n",
    "from tensorflow.keras.preprocessing.sequence import pad_sequences\n",
    "from tensorflow.keras.utils import to_categorical"
   ]
  },
  {
   "cell_type": "code",
   "execution_count": 3,
   "metadata": {
    "colab": {
     "base_uri": "https://localhost:8080/"
    },
    "id": "bMLpD00NQu_y",
    "outputId": "2b715ea0-8d87-40bd-b5c0-3783c333b5f5"
   },
   "outputs": [
    {
     "name": "stderr",
     "output_type": "stream",
     "text": [
      "[nltk_data] Downloading package punkt to\n",
      "[nltk_data]     D:\\Users\\Bhavi\\AppData\\Roaming\\nltk_data...\n",
      "[nltk_data]   Package punkt is already up-to-date!\n",
      "[nltk_data] Downloading package averaged_perceptron_tagger to\n",
      "[nltk_data]     D:\\Users\\Bhavi\\AppData\\Roaming\\nltk_data...\n",
      "[nltk_data]   Package averaged_perceptron_tagger is already up-to-\n",
      "[nltk_data]       date!\n",
      "[nltk_data] Downloading package punkt_tab to\n",
      "[nltk_data]     D:\\Users\\Bhavi\\AppData\\Roaming\\nltk_data...\n",
      "[nltk_data]   Package punkt_tab is already up-to-date!\n",
      "[nltk_data] Downloading package averaged_perceptron_tagger_eng to\n",
      "[nltk_data]     D:\\Users\\Bhavi\\AppData\\Roaming\\nltk_data...\n",
      "[nltk_data]   Package averaged_perceptron_tagger_eng is already up-to-\n",
      "[nltk_data]       date!\n"
     ]
    },
    {
     "data": {
      "text/plain": [
       "True"
      ]
     },
     "execution_count": 3,
     "metadata": {},
     "output_type": "execute_result"
    }
   ],
   "source": [
    "nltk.download('punkt')\n",
    "nltk.download('averaged_perceptron_tagger')\n",
    "nltk.download('punkt_tab')\n",
    "nltk.download('averaged_perceptron_tagger_eng')"
   ]
  },
  {
   "cell_type": "markdown",
   "metadata": {},
   "source": [
    "# Part 1: Data Preparation and Feature Engineering"
   ]
  },
  {
   "cell_type": "markdown",
   "metadata": {
    "id": "vJ_7HPX-Regz"
   },
   "source": [
    "## a. Data Loading and Preprocessing"
   ]
  },
  {
   "cell_type": "markdown",
   "metadata": {},
   "source": [
    "### Read the text data, perform lowercasing and exploratory data analysis"
   ]
  },
  {
   "cell_type": "markdown",
   "metadata": {
    "id": "rQWYZgQsTZm-"
   },
   "source": [
    "Read amazon review file"
   ]
  },
  {
   "cell_type": "code",
   "execution_count": 4,
   "metadata": {
    "colab": {
     "base_uri": "https://localhost:8080/",
     "height": 224
    },
    "id": "YQ1yoq2bTdqO",
    "outputId": "e2b04647-2bdd-44b0-9c10-d57858b041e5"
   },
   "outputs": [
    {
     "name": "stdout",
     "output_type": "stream",
     "text": [
      "Number of reviews : 50000\n"
     ]
    },
    {
     "data": {
      "text/html": [
       "<div>\n",
       "<style scoped>\n",
       "    .dataframe tbody tr th:only-of-type {\n",
       "        vertical-align: middle;\n",
       "    }\n",
       "\n",
       "    .dataframe tbody tr th {\n",
       "        vertical-align: top;\n",
       "    }\n",
       "\n",
       "    .dataframe thead th {\n",
       "        text-align: right;\n",
       "    }\n",
       "</style>\n",
       "<table border=\"1\" class=\"dataframe\">\n",
       "  <thead>\n",
       "    <tr style=\"text-align: right;\">\n",
       "      <th></th>\n",
       "      <th>polarity</th>\n",
       "      <th>title</th>\n",
       "      <th>review</th>\n",
       "    </tr>\n",
       "  </thead>\n",
       "  <tbody>\n",
       "    <tr>\n",
       "      <th>0</th>\n",
       "      <td>2</td>\n",
       "      <td>Great CD</td>\n",
       "      <td>My lovely Pat has one of the GREAT voices of h...</td>\n",
       "    </tr>\n",
       "    <tr>\n",
       "      <th>1</th>\n",
       "      <td>2</td>\n",
       "      <td>One of the best game music soundtracks - for a...</td>\n",
       "      <td>Despite the fact that I have only played a sma...</td>\n",
       "    </tr>\n",
       "    <tr>\n",
       "      <th>2</th>\n",
       "      <td>1</td>\n",
       "      <td>Batteries died within a year ...</td>\n",
       "      <td>I bought this charger in Jul 2003 and it worke...</td>\n",
       "    </tr>\n",
       "    <tr>\n",
       "      <th>3</th>\n",
       "      <td>2</td>\n",
       "      <td>works fine, but Maha Energy is better</td>\n",
       "      <td>Check out Maha Energy's website. Their Powerex...</td>\n",
       "    </tr>\n",
       "    <tr>\n",
       "      <th>4</th>\n",
       "      <td>2</td>\n",
       "      <td>Great for the non-audiophile</td>\n",
       "      <td>Reviewed quite a bit of the combo players and ...</td>\n",
       "    </tr>\n",
       "  </tbody>\n",
       "</table>\n",
       "</div>"
      ],
      "text/plain": [
       "   polarity                                              title  \\\n",
       "0         2                                           Great CD   \n",
       "1         2  One of the best game music soundtracks - for a...   \n",
       "2         1                   Batteries died within a year ...   \n",
       "3         2              works fine, but Maha Energy is better   \n",
       "4         2                       Great for the non-audiophile   \n",
       "\n",
       "                                              review  \n",
       "0  My lovely Pat has one of the GREAT voices of h...  \n",
       "1  Despite the fact that I have only played a sma...  \n",
       "2  I bought this charger in Jul 2003 and it worke...  \n",
       "3  Check out Maha Energy's website. Their Powerex...  \n",
       "4  Reviewed quite a bit of the combo players and ...  "
      ]
     },
     "execution_count": 4,
     "metadata": {},
     "output_type": "execute_result"
    }
   ],
   "source": [
    "df = pd.read_csv('amazon_review.csv')\n",
    "print(\"Number of reviews :\", len(df))\n",
    "df.head()"
   ]
  },
  {
   "cell_type": "markdown",
   "metadata": {
    "id": "nzMYDgifT6fz"
   },
   "source": [
    "Exploratory Data Analysis"
   ]
  },
  {
   "cell_type": "code",
   "execution_count": 5,
   "metadata": {
    "colab": {
     "base_uri": "https://localhost:8080/"
    },
    "id": "E4tLNTztT-Oi",
    "outputId": "933b99ff-8ce6-4bf5-af11-24759f01f4d0"
   },
   "outputs": [
    {
     "name": "stdout",
     "output_type": "stream",
     "text": [
      "<class 'pandas.core.frame.DataFrame'>\n",
      "RangeIndex: 50000 entries, 0 to 49999\n",
      "Data columns (total 3 columns):\n",
      " #   Column    Non-Null Count  Dtype \n",
      "---  ------    --------------  ----- \n",
      " 0   polarity  50000 non-null  int64 \n",
      " 1   title     49996 non-null  object\n",
      " 2   review    50000 non-null  object\n",
      "dtypes: int64(1), object(2)\n",
      "memory usage: 1.1+ MB\n"
     ]
    }
   ],
   "source": [
    "df.info()"
   ]
  },
  {
   "cell_type": "markdown",
   "metadata": {
    "id": "Bl7NnrHhUZTg"
   },
   "source": [
    "Dropping unnecessary columns"
   ]
  },
  {
   "cell_type": "code",
   "execution_count": 6,
   "metadata": {
    "colab": {
     "base_uri": "https://localhost:8080/",
     "height": 206
    },
    "id": "3rcU5EtMUch4",
    "outputId": "ec42d514-f909-4a90-f1d1-68d32932fc8f"
   },
   "outputs": [
    {
     "data": {
      "text/html": [
       "<div>\n",
       "<style scoped>\n",
       "    .dataframe tbody tr th:only-of-type {\n",
       "        vertical-align: middle;\n",
       "    }\n",
       "\n",
       "    .dataframe tbody tr th {\n",
       "        vertical-align: top;\n",
       "    }\n",
       "\n",
       "    .dataframe thead th {\n",
       "        text-align: right;\n",
       "    }\n",
       "</style>\n",
       "<table border=\"1\" class=\"dataframe\">\n",
       "  <thead>\n",
       "    <tr style=\"text-align: right;\">\n",
       "      <th></th>\n",
       "      <th>review</th>\n",
       "    </tr>\n",
       "  </thead>\n",
       "  <tbody>\n",
       "    <tr>\n",
       "      <th>0</th>\n",
       "      <td>My lovely Pat has one of the GREAT voices of h...</td>\n",
       "    </tr>\n",
       "    <tr>\n",
       "      <th>1</th>\n",
       "      <td>Despite the fact that I have only played a sma...</td>\n",
       "    </tr>\n",
       "    <tr>\n",
       "      <th>2</th>\n",
       "      <td>I bought this charger in Jul 2003 and it worke...</td>\n",
       "    </tr>\n",
       "    <tr>\n",
       "      <th>3</th>\n",
       "      <td>Check out Maha Energy's website. Their Powerex...</td>\n",
       "    </tr>\n",
       "    <tr>\n",
       "      <th>4</th>\n",
       "      <td>Reviewed quite a bit of the combo players and ...</td>\n",
       "    </tr>\n",
       "  </tbody>\n",
       "</table>\n",
       "</div>"
      ],
      "text/plain": [
       "                                              review\n",
       "0  My lovely Pat has one of the GREAT voices of h...\n",
       "1  Despite the fact that I have only played a sma...\n",
       "2  I bought this charger in Jul 2003 and it worke...\n",
       "3  Check out Maha Energy's website. Their Powerex...\n",
       "4  Reviewed quite a bit of the combo players and ..."
      ]
     },
     "execution_count": 6,
     "metadata": {},
     "output_type": "execute_result"
    }
   ],
   "source": [
    "df = df.drop(columns=['polarity', 'title'])\n",
    "df.head()"
   ]
  },
  {
   "cell_type": "markdown",
   "metadata": {
    "id": "yPKnaqTqUqEF"
   },
   "source": [
    "Lowercasing review text"
   ]
  },
  {
   "cell_type": "code",
   "execution_count": 7,
   "metadata": {
    "colab": {
     "base_uri": "https://localhost:8080/",
     "height": 206
    },
    "id": "SsHB7M8_Usry",
    "outputId": "570d9a04-8871-4f81-f3ca-a237c181513f"
   },
   "outputs": [
    {
     "data": {
      "text/html": [
       "<div>\n",
       "<style scoped>\n",
       "    .dataframe tbody tr th:only-of-type {\n",
       "        vertical-align: middle;\n",
       "    }\n",
       "\n",
       "    .dataframe tbody tr th {\n",
       "        vertical-align: top;\n",
       "    }\n",
       "\n",
       "    .dataframe thead th {\n",
       "        text-align: right;\n",
       "    }\n",
       "</style>\n",
       "<table border=\"1\" class=\"dataframe\">\n",
       "  <thead>\n",
       "    <tr style=\"text-align: right;\">\n",
       "      <th></th>\n",
       "      <th>review</th>\n",
       "    </tr>\n",
       "  </thead>\n",
       "  <tbody>\n",
       "    <tr>\n",
       "      <th>0</th>\n",
       "      <td>my lovely pat has one of the great voices of h...</td>\n",
       "    </tr>\n",
       "    <tr>\n",
       "      <th>1</th>\n",
       "      <td>despite the fact that i have only played a sma...</td>\n",
       "    </tr>\n",
       "    <tr>\n",
       "      <th>2</th>\n",
       "      <td>i bought this charger in jul 2003 and it worke...</td>\n",
       "    </tr>\n",
       "    <tr>\n",
       "      <th>3</th>\n",
       "      <td>check out maha energy's website. their powerex...</td>\n",
       "    </tr>\n",
       "    <tr>\n",
       "      <th>4</th>\n",
       "      <td>reviewed quite a bit of the combo players and ...</td>\n",
       "    </tr>\n",
       "  </tbody>\n",
       "</table>\n",
       "</div>"
      ],
      "text/plain": [
       "                                              review\n",
       "0  my lovely pat has one of the great voices of h...\n",
       "1  despite the fact that i have only played a sma...\n",
       "2  i bought this charger in jul 2003 and it worke...\n",
       "3  check out maha energy's website. their powerex...\n",
       "4  reviewed quite a bit of the combo players and ..."
      ]
     },
     "execution_count": 7,
     "metadata": {},
     "output_type": "execute_result"
    }
   ],
   "source": [
    "df['review'] = df['review'].str.lower()\n",
    "df.head()"
   ]
  },
  {
   "cell_type": "markdown",
   "metadata": {},
   "source": [
    "### Show dataset statistics: number of sentences, vocabulary size, POS tag distribution"
   ]
  },
  {
   "cell_type": "markdown",
   "metadata": {
    "id": "vJKwnLk0VGi3"
   },
   "source": [
    "Flattening sentences in review comments for better analysis"
   ]
  },
  {
   "cell_type": "code",
   "execution_count": 8,
   "metadata": {
    "id": "IREko0oYWMf8"
   },
   "outputs": [],
   "source": [
    "sentences = [nltk.sent_tokenize(text) for text in df['review'].tolist()]\n",
    "flat_sentences = [sent for sublist in sentences for sent in sublist]\n",
    "num_sentences = len(flat_sentences)"
   ]
  },
  {
   "cell_type": "code",
   "execution_count": 9,
   "metadata": {
    "colab": {
     "background_save": true
    },
    "id": "sow79abUWn5V",
    "outputId": "64c280bf-d2bc-46f3-91d2-7ebc8a118e7a"
   },
   "outputs": [
    {
     "name": "stdout",
     "output_type": "stream",
     "text": [
      "sentences: 50000 <class 'list'> ['my lovely pat has one of the great voices of her generation.', 'i have listened to this cd for years and i still love it.', \"when i'm in a good mood it makes me feel better.\", 'a bad mood just evaporates like sugar in the rain.', 'this cd just oozes life.', 'vocals are jusat stuunning and lyrics just kill.', \"one of life's hidden gems.\", 'this is a desert isle cd in my book.', 'why she never made it big is just beyond me.', 'everytime i play this, no matter black, white, young, old, male, female everybody says one thing \"who was that singing ?\"']\n",
      "flat_sentences: 234928 <class 'list'> my lovely pat has one of the great voices of her generation.\n"
     ]
    }
   ],
   "source": [
    "print(\"sentences:\",len(sentences), type(sentences), sentences[0])\n",
    "print(\"flat_sentences:\",len(flat_sentences), type(flat_sentences), flat_sentences[0])"
   ]
  },
  {
   "cell_type": "markdown",
   "metadata": {},
   "source": [
    "### Handle special characters and normalize text appropriately"
   ]
  },
  {
   "cell_type": "code",
   "execution_count": 10,
   "metadata": {
    "colab": {
     "base_uri": "https://localhost:8080/",
     "height": 206
    },
    "id": "bwCgVFz3VGw3",
    "outputId": "2bfc2b8c-cf22-4499-f090-1787d6c70cc8"
   },
   "outputs": [],
   "source": [
    "cleaned_sentences = [re.sub(r'[^A-Za-z0-9\\s]', '', sent).strip() for sent in flat_sentences]"
   ]
  },
  {
   "cell_type": "code",
   "execution_count": 11,
   "metadata": {
    "id": "BvXLVGsFWjqR"
   },
   "outputs": [
    {
     "name": "stdout",
     "output_type": "stream",
     "text": [
      "cleaned_sentences: 234928 <class 'list'> my lovely pat has one of the great voices of her generation\n"
     ]
    }
   ],
   "source": [
    "print(\"cleaned_sentences:\",len(cleaned_sentences), type(cleaned_sentences), cleaned_sentences[0])"
   ]
  },
  {
   "cell_type": "markdown",
   "metadata": {},
   "source": [
    "Tokenization for words to get vocabulary size"
   ]
  },
  {
   "cell_type": "code",
   "execution_count": 12,
   "metadata": {},
   "outputs": [
    {
     "name": "stdout",
     "output_type": "stream",
     "text": [
      "vocabulary: 115935 <class 'set'>\n"
     ]
    }
   ],
   "source": [
    "words = [nltk.word_tokenize(sentence) for sentence in cleaned_sentences]\n",
    "flat_words = [word for sublist in words for word in sublist]\n",
    "vocabulary = set(flat_words)\n",
    "vocabulary_size = len(vocabulary)\n",
    "print(\"vocabulary:\",len(vocabulary), type(vocabulary))"
   ]
  },
  {
   "cell_type": "markdown",
   "metadata": {},
   "source": [
    "POS tag distribution"
   ]
  },
  {
   "cell_type": "code",
   "execution_count": 13,
   "metadata": {},
   "outputs": [
    {
     "name": "stdout",
     "output_type": "stream",
     "text": [
      "flat_pos_tags: 3768512 <class 'list'>\n"
     ]
    }
   ],
   "source": [
    "pos_tags = [nltk.pos_tag(sentence_words) for sentence_words in words]\n",
    "flat_pos_tags = [tag for sublist in pos_tags for word, tag in sublist]\n",
    "pos_tag_counts = Counter(flat_pos_tags)\n",
    "print(\"flat_pos_tags:\",len(flat_pos_tags), type(flat_pos_tags))"
   ]
  },
  {
   "cell_type": "markdown",
   "metadata": {},
   "source": [
    "### Print Summary of Dataset"
   ]
  },
  {
   "cell_type": "code",
   "execution_count": 14,
   "metadata": {},
   "outputs": [
    {
     "name": "stdout",
     "output_type": "stream",
     "text": [
      "Dataset Statistics:\n",
      "Number of reviews : 50000\n",
      "Number of sentences: 234928\n",
      "Vocabulary size: 115935\n",
      "all POS tags: 3768512\n",
      "POS tag distribution: [('NN', 750012), ('DT', 432134), ('IN', 404164), ('JJ', 343414), ('RB', 245255), ('NNS', 193329), ('PRP', 166052), ('VB', 162321), ('CC', 145798), ('VBZ', 135285)]\n"
     ]
    }
   ],
   "source": [
    "print(\"Dataset Statistics:\")\n",
    "print(\"Number of reviews :\", len(df))\n",
    "print(f\"Number of sentences: {num_sentences}\")\n",
    "print(f\"Vocabulary size: {vocabulary_size}\")\n",
    "print(f\"all POS tags: {len(flat_pos_tags)}\")\n",
    "print(f\"POS tag distribution: {pos_tag_counts.most_common(10)}\") # Show top 10"
   ]
  },
  {
   "cell_type": "markdown",
   "metadata": {},
   "source": [
    "Plotting POS Tag Counters"
   ]
  },
  {
   "cell_type": "code",
   "execution_count": 15,
   "metadata": {},
   "outputs": [
    {
     "data": {
      "image/png": "[encoded data removed]",
      "text/plain": [
       "<Figure size 1000x500 with 1 Axes>"
      ]
     },
     "metadata": {},
     "output_type": "display_data"
    }
   ],
   "source": [
    "# Unpack the tags and their counts\n",
    "tags, counts = zip(*pos_tag_counts.items())\n",
    "\n",
    "# Create the bar plot\n",
    "plt.figure(figsize=(10, 5))\n",
    "plt.bar(tags, counts, color='skyblue', edgecolor='black')\n",
    "plt.xlabel('POS Tags')\n",
    "plt.ylabel('Frequency')\n",
    "plt.title('Part-of-Speech Tag Distribution')\n",
    "plt.xticks(rotation=45)\n",
    "plt.grid(axis='y', linestyle='--', alpha=0.7)\n",
    "\n",
    "plt.tight_layout()\n",
    "plt.show()"
   ]
  },
  {
   "cell_type": "markdown",
   "metadata": {},
   "source": [
    "## b. Tokenization, Encoding and Sequence Processing"
   ]
  },
  {
   "cell_type": "markdown",
   "metadata": {},
   "source": [
    "### Implement tokenization for words and sentences"
   ]
  },
  {
   "cell_type": "markdown",
   "metadata": {},
   "source": [
    "Create word and tag lists"
   ]
  },
  {
   "cell_type": "code",
   "execution_count": 16,
   "metadata": {},
   "outputs": [],
   "source": [
    "all_words_with_tags = [(word, tag) for sent in pos_tags for word, tag in sent]"
   ]
  },
  {
   "cell_type": "markdown",
   "metadata": {},
   "source": [
    "### Generate word-to-index and tag-to-index mappings"
   ]
  },
  {
   "cell_type": "markdown",
   "metadata": {},
   "source": [
    "Generate word to index"
   ]
  },
  {
   "cell_type": "code",
   "execution_count": 17,
   "metadata": {},
   "outputs": [],
   "source": [
    "word_to_index = {word: i + 1 for i, word in enumerate(sorted(list(vocabulary)))} # Add 1 for padding\n",
    "word_to_index['<PAD>'] = 0 # Padding token\n",
    "index_to_word = {i: word for word, i in word_to_index.items()}"
   ]
  },
  {
   "cell_type": "markdown",
   "metadata": {},
   "source": [
    "Generate Tag to Index"
   ]
  },
  {
   "cell_type": "code",
   "execution_count": 18,
   "metadata": {},
   "outputs": [],
   "source": [
    "all_tags = sorted(list(set(flat_pos_tags)))\n",
    "tag_to_index = {tag: i + 1 for i, tag in enumerate(all_tags)} # Add 1 for padding\n",
    "tag_to_index['<PAD>'] = 0 # Padding tag\n",
    "index_to_tag = {i: tag for tag, i in tag_to_index.items()}"
   ]
  },
  {
   "cell_type": "markdown",
   "metadata": {},
   "source": [
    "### Create vocabulary mappings and POS tag encodings"
   ]
  },
  {
   "cell_type": "code",
   "execution_count": 19,
   "metadata": {},
   "outputs": [],
   "source": [
    "encoded_sequences = []\n",
    "for sent in pos_tags:\n",
    "    word_indices = [word_to_index.get(word, word_to_index['<PAD>']) for word, tag in sent]\n",
    "    tag_indices = [tag_to_index.get(tag, tag_to_index['<PAD>']) for word, tag in sent]\n",
    "    encoded_sequences.append((word_indices, tag_indices))"
   ]
  },
  {
   "cell_type": "markdown",
   "metadata": {},
   "source": [
    "### Split data into training (70%), validation (15%), and test (15%) sets"
   ]
  },
  {
   "cell_type": "code",
   "execution_count": 20,
   "metadata": {},
   "outputs": [],
   "source": [
    "train_sequences, temp_sequences = train_test_split(encoded_sequences, test_size=0.30, random_state=42)\n",
    "val_sequences, test_sequences = train_test_split(temp_sequences, test_size=0.5, random_state=42)"
   ]
  },
  {
   "cell_type": "markdown",
   "metadata": {},
   "source": [
    "### Print Summary"
   ]
  },
  {
   "cell_type": "code",
   "execution_count": 21,
   "metadata": {},
   "outputs": [
    {
     "name": "stdout",
     "output_type": "stream",
     "text": [
      "\n",
      "Mapping Sizes:\n",
      "Word to index mapping size: 115936\n",
      "Tag to index mapping size: 39\n"
     ]
    }
   ],
   "source": [
    "print(\"\\nMapping Sizes:\")\n",
    "print(f\"Word to index mapping size: {len(word_to_index)}\")\n",
    "print(f\"Tag to index mapping size: {len(tag_to_index)}\")"
   ]
  },
  {
   "cell_type": "code",
   "execution_count": 22,
   "metadata": {},
   "outputs": [
    {
     "name": "stdout",
     "output_type": "stream",
     "text": [
      "\n",
      "Data Split:\n",
      "Number of training sequences: 164449\n",
      "Number of validation sequences: 35239\n",
      "Number of test sequences: 35240\n"
     ]
    }
   ],
   "source": [
    "print(\"\\nData Split:\")\n",
    "print(f\"Number of training sequences: {len(train_sequences)}\")\n",
    "print(f\"Number of validation sequences: {len(val_sequences)}\")\n",
    "print(f\"Number of test sequences: {len(test_sequences)}\")"
   ]
  },
  {
   "cell_type": "code",
   "execution_count": 23,
   "metadata": {},
   "outputs": [
    {
     "name": "stdout",
     "output_type": "stream",
     "text": [
      "\n",
      "Example Encoded Sentence:\n",
      "Word Indices: [68285, 60946, 75278, 47051, 72204, 71580, 101956, 45017, 110390, 71580] ...\n",
      "Tag Indices: [21, 9, 14, 34, 4, 8, 5, 9, 17, 8] ...\n",
      "Original Words: ['my', 'lovely', 'pat', 'has', 'one', 'of', 'the', 'great', 'voices', 'of'] ...\n",
      "Original Tags: ['PRP$', 'JJ', 'NN', 'VBZ', 'CD', 'IN', 'DT', 'JJ', 'NNS', 'IN'] ...\n"
     ]
    }
   ],
   "source": [
    "if encoded_sequences:\n",
    "    sample_word_indices, sample_tag_indices = encoded_sequences[0]\n",
    "    print(\"\\nExample Encoded Sentence:\")\n",
    "    print(\"Word Indices:\", sample_word_indices[:10], \"...\")\n",
    "    print(\"Tag Indices:\", sample_tag_indices[:10], \"...\")\n",
    "    print(\"Original Words:\", [index_to_word.get(idx, '<UNK>') for idx in sample_word_indices[:10]], \"...\")\n",
    "    print(\"Original Tags:\", [index_to_tag.get(idx, '<UNK>') for idx in sample_tag_indices[:10]], \"...\")"
   ]
  },
  {
   "cell_type": "markdown",
   "metadata": {},
   "source": [
    "## c. Feature Extraction for MEMM"
   ]
  },
  {
   "cell_type": "markdown",
   "metadata": {},
   "source": [
    "Extracts features for each word in a sentence for MEMM."
   ]
  },
  {
   "cell_type": "code",
   "execution_count": 24,
   "metadata": {},
   "outputs": [],
   "source": [
    "def extract_features(sentence, word_index, tag_index, prev_tags=None):\n",
    "    \"\"\"\n",
    "    Extracts features for each word in a sentence for MEMM.\n",
    "\n",
    "    Args:\n",
    "        sentence (list): A list of (word, tag) tuples for a sentence.\n",
    "        word_index (dict): Mapping from word to index.\n",
    "        tag_index (dict): Mapping from tag to index.\n",
    "        prev_tags (list, optional): A list of previous tags (indices)\n",
    "                                     for the sequence. Defaults to None.\n",
    "\n",
    "    Returns:\n",
    "        list: A list of feature dictionaries, one for each word in the sentence.\n",
    "    \"\"\"\n",
    "    features = []\n",
    "    sentence_length = len(sentence)\n",
    "\n",
    "    # Ensure prev_tags is initialized as a list of padding indices if not provided\n",
    "    if prev_tags is None:\n",
    "        prev_tags = [tag_index.get('<PAD>', 0)] * sentence_length # Placeholder, will be updated dynamically\n",
    "\n",
    "    for i in range(sentence_length):\n",
    "        word, current_tag = sentence[i]\n",
    "        word_idx = word_to_index.get(word, word_to_index.get('<PAD>', 0))\n",
    "        tag_idx = tag_to_index.get(current_tag, tag_to_index.get('<PAD>', 0))\n",
    "\n",
    "        # Handle previous tags dynamically or using the provided sequence\n",
    "        prev_tag_idx = prev_tags[i-1] if i > 0 else tag_index.get('<PAD>', 0)\n",
    "        prev_prev_tag_idx = prev_tags[i-2] if i > 1 else tag_index.get('<PAD>', 0)\n",
    "\n",
    "        feature_dict = {\n",
    "            # Current word and its properties\n",
    "            'word': word,\n",
    "            'word_idx': word_idx,\n",
    "            'word.lower()': word.lower(),\n",
    "            'word.isupper()': word.isupper(),\n",
    "            'word.istitle()': word.istitle(),\n",
    "            'word.isdigit()': word.isdigit(),\n",
    "            'word_length': len(word),\n",
    "\n",
    "            # Context features\n",
    "            'prev_word': sentence[i-1][0] if i > 0 else '<START>',\n",
    "            'prev_word_idx': word_to_index.get(sentence[i-1][0], word_to_index.get('<PAD>', 0)) if i > 0 else word_to_index.get('<PAD>', 0),\n",
    "            'next_word': sentence[i+1][0] if i < sentence_length - 1 else '<END>',\n",
    "            'next_word_idx': word_to_index.get(sentence[i+1][0], word_to_index.get('<PAD>', 0)) if i < sentence_length - 1 else word_to_index.get('<PAD>', 0),\n",
    "            'prev_tag_idx': prev_tag_idx, # This should ideally be the predicted tag\n",
    "            'prev_prev_tag_idx': prev_prev_tag_idx, # This should ideally be the predicted tag\n",
    "\n",
    "            # Morphological features\n",
    "            'prefix-1': word[0] if len(word) > 0 else '',\n",
    "            'prefix-2': word[:2] if len(word) > 1 else '',\n",
    "            'prefix-3': word[:3] if len(word) > 2 else '',\n",
    "            'suffix-1': word[-1] if len(word) > 0 else '',\n",
    "            'suffix-2': word[-2:] if len(word) > 1 else '',\n",
    "            'suffix-3': word[-3:] if len(word) > 2 else '',\n",
    "            'word_shape': re.sub(r'[A-Z]', 'X', re.sub(r'[a-z]', 'x', re.sub(r'[0-9]', 'd', word))),\n",
    "\n",
    "            # Position features\n",
    "            'is_first': i == 0,\n",
    "            'is_last': i == sentence_length - 1,\n",
    "\n",
    "            # The target variable (current tag) is NOT a feature for MEMM,\n",
    "            # but we might store it for convenience during training.\n",
    "            # 'current_tag_idx': tag_idx\n",
    "        }\n",
    "        features.append(feature_dict)\n",
    "    return features"
   ]
  },
  {
   "cell_type": "markdown",
   "metadata": {},
   "source": [
    "Example usage on a sample sentence from the training data"
   ]
  },
  {
   "cell_type": "code",
   "execution_count": 25,
   "metadata": {},
   "outputs": [
    {
     "name": "stdout",
     "output_type": "stream",
     "text": [
      "sample_sentence_with_tags 4 <class 'list'> [('bad', 'JJ'), ('product', 'NN'), ('bad', 'JJ'), ('company', 'NN')]\n"
     ]
    }
   ],
   "source": [
    "# Example usage on a sample sentence from the training data\n",
    "# We need the original (word, tag) tuples to extract features\n",
    "# Let's reconstruct a sample sentence from the first encoded training sequence\n",
    "sample_encoded_sequence = train_sequences[0]\n",
    "sample_word_indices, sample_tag_indices = sample_encoded_sequence\n",
    "sample_sentence_with_tags = [(index_to_word.get(w_idx, '<UNK>'), index_to_tag.get(t_idx, '<UNK>'))\n",
    "                             for w_idx, t_idx in zip(sample_word_indices, sample_tag_indices)]\n",
    "\n",
    "print(\"sample_sentence_with_tags\",len(sample_sentence_with_tags),type(sample_sentence_with_tags), sample_sentence_with_tags)"
   ]
  },
  {
   "cell_type": "code",
   "execution_count": 26,
   "metadata": {},
   "outputs": [],
   "source": [
    "# For feature extraction in the training phase, we use the true previous tags.\n",
    "# For prediction (inference), we will use the previously predicted tags.\n",
    "# Let's get the actual previous tag indices for the sample sentence\n",
    "sample_true_prev_tag_indices = [tag_to_index.get(tag, tag_to_index.get('<PAD>', 0)) for _, tag in sample_sentence_with_tags]\n",
    "sample_features = extract_features(sample_sentence_with_tags, word_to_index, tag_to_index, prev_tags=sample_true_prev_tag_indices)"
   ]
  },
  {
   "cell_type": "code",
   "execution_count": 27,
   "metadata": {
    "scrolled": true
   },
   "outputs": [
    {
     "name": "stdout",
     "output_type": "stream",
     "text": [
      "\n",
      "Features for the first few words of a sample sentence:\n",
      "Word: bad\n",
      "{'word': 'bad', 'word.isupper()': False, 'prev_word': '<START>', 'next_word': 'product', 'prev_tag_idx': 0, 'is_first': True, 'suffix-3': 'bad'}\n",
      "--------------------\n",
      "Word: product\n",
      "{'word': 'product', 'word.isupper()': False, 'prev_word': 'bad', 'next_word': 'bad', 'prev_tag_idx': 9, 'is_first': False, 'suffix-3': 'uct'}\n",
      "--------------------\n",
      "Word: bad\n",
      "{'word': 'bad', 'word.isupper()': False, 'prev_word': 'product', 'next_word': 'company', 'prev_tag_idx': 14, 'is_first': False, 'suffix-3': 'bad'}\n",
      "--------------------\n",
      "Word: company\n",
      "{'word': 'company', 'word.isupper()': False, 'prev_word': 'bad', 'next_word': '<END>', 'prev_tag_idx': 9, 'is_first': False, 'suffix-3': 'any'}\n",
      "--------------------\n"
     ]
    }
   ],
   "source": [
    "print(\"\\nFeatures for the first few words of a sample sentence:\")\n",
    "for j, feature in enumerate(sample_features[:5]):\n",
    "    print(f\"Word: {sample_sentence_with_tags[j][0]}\")\n",
    "    # Print a subset of features for clarity\n",
    "    print({k: feature[k] for k in ['word', 'word.isupper()', 'prev_word', 'next_word', 'prev_tag_idx', 'is_first', 'suffix-3']})\n",
    "    print(\"-\" * 20)\n"
   ]
  },
  {
   "cell_type": "markdown",
   "metadata": {},
   "source": [
    "# Part 2: Model Implementation"
   ]
  },
  {
   "cell_type": "markdown",
   "metadata": {},
   "source": [
    "## Model 1: Maximum Entropy Markov Model (MEMM)"
   ]
  },
  {
   "cell_type": "markdown",
   "metadata": {},
   "source": [
    "Creates feature vectors (X) and labels (y) for MEMM training."
   ]
  },
  {
   "cell_type": "code",
   "execution_count": 28,
   "metadata": {},
   "outputs": [],
   "source": [
    "def create_memm_data(sequences):\n",
    "    \"\"\"\n",
    "    Creates feature vectors (X) and labels (y) for MEMM training.\n",
    "    Features are extracted using true previous tags during training.\n",
    "    \"\"\"\n",
    "    X = []\n",
    "    y = []\n",
    "    for word_indices, tag_indices in sequences:\n",
    "        sentence_words_tags = [(index_to_word.get(w_idx, '<UNK>'), index_to_tag.get(t_idx, '<UNK>'))\n",
    "                               for w_idx, t_idx in zip(word_indices, tag_indices)]\n",
    "        # Extract features using true previous tags for training\n",
    "        sentence_features = extract_features(sentence_words_tags, word_to_index, tag_to_index, prev_tags=tag_indices)\n",
    "        X.extend(sentence_features)\n",
    "        y.extend([tag_to_index.get(tag, tag_to_index.get('<PAD>', 0)) for _, tag in sentence_words_tags])\n",
    "    return X, y"
   ]
  },
  {
   "cell_type": "markdown",
   "metadata": {},
   "source": [
    "Prepare data for MEMM"
   ]
  },
  {
   "cell_type": "code",
   "execution_count": 29,
   "metadata": {},
   "outputs": [],
   "source": [
    "X_train_memm, y_train_memm = create_memm_data(train_sequences)"
   ]
  },
  {
   "cell_type": "code",
   "execution_count": 30,
   "metadata": {},
   "outputs": [],
   "source": [
    "X_val_memm, y_val_memm = create_memm_data(val_sequences)"
   ]
  },
  {
   "cell_type": "code",
   "execution_count": 31,
   "metadata": {},
   "outputs": [],
   "source": [
    "X_test_memm, y_test_memm = create_memm_data(test_sequences)"
   ]
  },
  {
   "cell_type": "markdown",
   "metadata": {},
   "source": [
    "Creating MEMM model"
   ]
  },
  {
   "cell_type": "code",
   "execution_count": 32,
   "metadata": {},
   "outputs": [],
   "source": [
    "# Build the MEMM pipeline\n",
    "# 1. DictVectorizer to convert dictionaries of features into a numerical feature matrix\n",
    "# 2. LogisticRegression for the classification of each word's tag\n",
    "memm_pipeline = Pipeline([\n",
    "    ('vectorizer', DictVectorizer(sparse=True)), # sparse=True is efficient for sparse features\n",
    "    ('classifier', LogisticRegression(solver='lbfgs', multi_class='auto', max_iter=200, C=1.0, penalty='l2', n_jobs=-1, verbose=1 )) # Add regularization\n",
    "])"
   ]
  },
  {
   "cell_type": "markdown",
   "metadata": {},
   "source": [
    "Train the MEMM model"
   ]
  },
  {
   "cell_type": "code",
   "execution_count": null,
   "metadata": {},
   "outputs": [
    {
     "name": "stderr",
     "output_type": "stream",
     "text": [
      "c:\\users\\bhavi\\appdata\\local\\programs\\python\\python39\\lib\\site-packages\\sklearn\\linear_model\\_logistic.py:1247: FutureWarning: 'multi_class' was deprecated in version 1.5 and will be removed in 1.7. From then on, it will always use 'multinomial'. Leave it to its default value to avoid this warning.\n",
      "  warnings.warn(\n"
     ]
    }
   ],
   "source": [
    "memm_pipeline.fit(X_train_memm, y_train_memm)"
   ]
  },
  {
   "cell_type": "markdown",
   "metadata": {},
   "source": [
    "Token-level accuracy on the validation set"
   ]
  },
  {
   "cell_type": "code",
   "execution_count": null,
   "metadata": {},
   "outputs": [],
   "source": [
    "y_val_pred_token = memm_pipeline.predict(X_val_memm)\n",
    "token_accuracy_memm = accuracy_score(y_val_memm, y_val_pred_token)\n",
    "print(f\"MEMM Token-level accuracy on validation set: {token_accuracy_memm:.4f}\")"
   ]
  },
  {
   "cell_type": "code",
   "execution_count": 38,
   "metadata": {},
   "outputs": [],
   "source": [
    "def viterbi_memm(sentence_words, memm_pipeline, word_to_index, tag_to_index, index_to_tag):\n",
    "    \"\"\"\n",
    "    Performs Viterbi decoding for MEMM.\n",
    "\n",
    "    Args:\n",
    "        sentence_words (list): A list of words in the sentence.\n",
    "        memm_pipeline: Trained MEMM pipeline (DictVectorizer + LogisticRegression).\n",
    "        word_to_index (dict): Mapping from word to index.\n",
    "        tag_to_index (dict): Mapping from tag to index.\n",
    "        index_to_tag (dict): Mapping from index to tag.\n",
    "\n",
    "    Returns:\n",
    "        list: The predicted sequence of tags for the sentence.\n",
    "    \"\"\"\n",
    "    num_tags = len(tag_to_index)\n",
    "    sentence_length = len(sentence_words)\n",
    "\n",
    "    # Initialize DP table (delta[i][k] = max probability of a tag sequence ending with tag k at word i)\n",
    "    delta = np.zeros((sentence_length, num_tags))\n",
    "    # Initialize backpointer table (psi[i][k] = index of the previous tag that maximizes probability)\n",
    "    psi = np.zeros((sentence_length, num_tags), dtype=int)\n",
    "\n",
    "    # Get the index for the padding tag, which we'll treat as the start tag\n",
    "    pad_tag_idx = tag_to_index.get('<PAD>', 0)\n",
    "    # Get all possible tag indices (excluding padding for emissions/transitions)\n",
    "    all_tag_indices = [idx for tag, idx in tag_to_index.items() if tag != '<PAD>']\n",
    "    start_tag_idx = pad_tag_idx # Use padding tag index as a placeholder for start\n",
    "\n",
    "    # For the first word (i=0)\n",
    "    current_word = sentence_words[0]\n",
    "    # Features for the first word (using <START> for previous word/tag)\n",
    "    features_0 = extract_features([(current_word, '<PAD>')], word_to_index, tag_to_index, prev_tags=[start_tag_idx])[0]\n",
    "    # Convert features to numerical vector\n",
    "    X_0 = memm_pipeline.named_steps['vectorizer'].transform([features_0])\n",
    "\n",
    "    # Get log probabilities for each tag for the first word\n",
    "    # P(tag_0 | features_0)\n",
    "    log_probs_0 = memm_pipeline.named_steps['classifier'].predict_log_proba(X_0)[0]\n",
    "\n",
    "    # delta[0][k] = P(tag_0 = k | features_0)\n",
    "    for k in all_tag_indices:\n",
    "         # Ensure the tag index exists in the model's classes_\n",
    "        if k in memm_pipeline.named_steps['classifier'].classes_:\n",
    "            # Find the column index for the current tag index k in the log_probs_0 array\n",
    "            col_index = np.where(memm_pipeline.named_steps['classifier'].classes_ == k)[0]\n",
    "            if len(col_index) > 0:\n",
    "                 delta[0][k] = log_probs_0[col_index[0]]\n",
    "            else:\n",
    "                 delta[0][k] = -np.inf # Tag not in classifier's vocabulary\n",
    "        else:\n",
    "             delta[0][k] = -np.inf # Tag not in classifier's vocabulary\n",
    "\n",
    "\n",
    "    # For words i = 1 to sentence_length - 1\n",
    "    for i in range(1, sentence_length):\n",
    "        current_word = sentence_words[i]\n",
    "\n",
    "        for k in all_tag_indices: # Iterate over possible current tags k\n",
    "             # Ensure the tag index exists in the model's classes_\n",
    "            if k not in memm_pipeline.named_steps['classifier'].classes_:\n",
    "                 delta[i][k] = -np.inf\n",
    "                 continue # Skip if the tag is not in the classifier's output classes\n",
    "\n",
    "            max_prob = -np.inf\n",
    "            best_prev_tag_idx = -1\n",
    "\n",
    "            for j in all_tag_indices: # Iterate over possible previous tags j\n",
    "                 # Ensure the previous tag index exists in the model's classes_\n",
    "                if delta[i-1][j] == -np.inf:\n",
    "                    continue # Skip if the probability of ending with tag j at i-1 is zero\n",
    "\n",
    "                # Features for the current word, using the assumed previous tag j\n",
    "                # Note: Here's where MEMM differs. Features include the *assumed* previous tag.\n",
    "                features_i = extract_features([(current_word, '<PAD>')], word_to_index, tag_to_index, prev_tags=[pad_tag_idx] * (i) + [j] + [pad_tag_idx] * (sentence_length - i - 1))[0]\n",
    "                # Convert features to numerical vector\n",
    "                X_i = memm_pipeline.named_steps['vectorizer'].transform([features_i])\n",
    "\n",
    "                # Get log probabilities for each tag for the current word\n",
    "                # P(tag_i | tag_{i-1}=j, features_i)\n",
    "                log_probs_i = memm_pipeline.named_steps['classifier'].predict_log_proba(X_i)[0]\n",
    "\n",
    "                # Find the log probability of the current tag k given features_i\n",
    "                # This is log P(tag_i=k | tag_{i-1}=j, features_i)\n",
    "                col_index_k = np.where(memm_pipeline.named_steps['classifier'].classes_ == k)[0]\n",
    "                if len(col_index_k) > 0:\n",
    "                    log_prob_current_tag = log_probs_i[col_index_k[0]]\n",
    "                else:\n",
    "                    log_prob_current_tag = -np.inf # Should not happen if k is in all_tag_indices and model classes\n",
    "\n",
    "                # Probability of the path ending with tag j at i-1 and tag k at i\n",
    "                current_path_prob = delta[i-1][j] + log_prob_current_tag\n",
    "\n",
    "                if current_path_prob > max_prob:\n",
    "                    max_prob = current_path_prob\n",
    "                    best_prev_tag_idx = j\n",
    "\n",
    "            delta[i][k] = max_prob\n",
    "            psi[i][k] = best_prev_tag_idx\n",
    "\n",
    "    # Backtrack to find the best tag sequence\n",
    "    best_sequence = [0] * sentence_length\n",
    "\n",
    "    # Find the last tag (tag at sentence_length - 1)\n",
    "    best_last_tag_idx = np.argmax(delta[sentence_length - 1, all_tag_indices])\n",
    "    best_sequence[sentence_length - 1] = all_tag_indices[best_last_tag_idx]\n",
    "\n",
    "    # Backtrack from sentence_length - 2 down to 0\n",
    "    for i in range(sentence_length - 2, -1, -1):\n",
    "        best_sequence[i] = psi[i+1][best_sequence[i+1]]\n",
    "\n",
    "    # Convert tag indices back to tag strings\n",
    "    predicted_tags = [index_to_tag.get(idx, '<UNK>') for idx in best_sequence]\n",
    "\n",
    "    return predicted_tags"
   ]
  },
  {
   "cell_type": "markdown",
   "metadata": {},
   "source": [
    "Example of Viterbi decoding on a sample test sentence"
   ]
  },
  {
   "cell_type": "code",
   "execution_count": 39,
   "metadata": {},
   "outputs": [
    {
     "ename": "NotFittedError",
     "evalue": "This DictVectorizer instance is not fitted yet. Call 'fit' with appropriate arguments before using this estimator.",
     "output_type": "error",
     "traceback": [
      "\u001b[1;31m---------------------------------------------------------------------------\u001b[0m",
      "\u001b[1;31mNotFittedError\u001b[0m                            Traceback (most recent call last)",
      "Cell \u001b[1;32mIn[39], line 6\u001b[0m\n\u001b[0;32m      3\u001b[0m sample_test_words \u001b[38;5;241m=\u001b[39m [index_to_word\u001b[38;5;241m.\u001b[39mget(w_idx, \u001b[38;5;124m'\u001b[39m\u001b[38;5;124m<UNK>\u001b[39m\u001b[38;5;124m'\u001b[39m) \u001b[38;5;28;01mfor\u001b[39;00m w_idx \u001b[38;5;129;01min\u001b[39;00m sample_test_word_indices]\n\u001b[0;32m      4\u001b[0m sample_true_tags \u001b[38;5;241m=\u001b[39m [index_to_tag\u001b[38;5;241m.\u001b[39mget(t_idx, \u001b[38;5;124m'\u001b[39m\u001b[38;5;124m<UNK>\u001b[39m\u001b[38;5;124m'\u001b[39m) \u001b[38;5;28;01mfor\u001b[39;00m t_idx \u001b[38;5;129;01min\u001b[39;00m sample_test_tag_indices]\n\u001b[1;32m----> 6\u001b[0m predicted_tags_memm \u001b[38;5;241m=\u001b[39m \u001b[43mviterbi_memm\u001b[49m\u001b[43m(\u001b[49m\u001b[43msample_test_words\u001b[49m\u001b[43m,\u001b[49m\u001b[43m \u001b[49m\u001b[43mmemm_pipeline\u001b[49m\u001b[43m,\u001b[49m\u001b[43m \u001b[49m\u001b[43mword_to_index\u001b[49m\u001b[43m,\u001b[49m\u001b[43m \u001b[49m\u001b[43mtag_to_index\u001b[49m\u001b[43m,\u001b[49m\u001b[43m \u001b[49m\u001b[43mindex_to_tag\u001b[49m\u001b[43m)\u001b[49m\n\u001b[0;32m      8\u001b[0m \u001b[38;5;28mprint\u001b[39m(\u001b[38;5;124m\"\u001b[39m\u001b[38;5;130;01m\\n\u001b[39;00m\u001b[38;5;124mMEMM Viterbi Decoding Example:\u001b[39m\u001b[38;5;124m\"\u001b[39m)\n\u001b[0;32m      9\u001b[0m \u001b[38;5;28mprint\u001b[39m(\u001b[38;5;124m\"\u001b[39m\u001b[38;5;124mSentence:\u001b[39m\u001b[38;5;124m\"\u001b[39m, sample_test_words)\n",
      "Cell \u001b[1;32mIn[38], line 34\u001b[0m, in \u001b[0;36mviterbi_memm\u001b[1;34m(sentence_words, memm_pipeline, word_to_index, tag_to_index, index_to_tag)\u001b[0m\n\u001b[0;32m     32\u001b[0m features_0 \u001b[38;5;241m=\u001b[39m extract_features([(current_word, \u001b[38;5;124m'\u001b[39m\u001b[38;5;124m<PAD>\u001b[39m\u001b[38;5;124m'\u001b[39m)], word_to_index, tag_to_index, prev_tags\u001b[38;5;241m=\u001b[39m[start_tag_idx])[\u001b[38;5;241m0\u001b[39m]\n\u001b[0;32m     33\u001b[0m \u001b[38;5;66;03m# Convert features to numerical vector\u001b[39;00m\n\u001b[1;32m---> 34\u001b[0m X_0 \u001b[38;5;241m=\u001b[39m \u001b[43mmemm_pipeline\u001b[49m\u001b[38;5;241;43m.\u001b[39;49m\u001b[43mnamed_steps\u001b[49m\u001b[43m[\u001b[49m\u001b[38;5;124;43m'\u001b[39;49m\u001b[38;5;124;43mvectorizer\u001b[39;49m\u001b[38;5;124;43m'\u001b[39;49m\u001b[43m]\u001b[49m\u001b[38;5;241;43m.\u001b[39;49m\u001b[43mtransform\u001b[49m\u001b[43m(\u001b[49m\u001b[43m[\u001b[49m\u001b[43mfeatures_0\u001b[49m\u001b[43m]\u001b[49m\u001b[43m)\u001b[49m\n\u001b[0;32m     36\u001b[0m \u001b[38;5;66;03m# Get log probabilities for each tag for the first word\u001b[39;00m\n\u001b[0;32m     37\u001b[0m \u001b[38;5;66;03m# P(tag_0 | features_0)\u001b[39;00m\n\u001b[0;32m     38\u001b[0m log_probs_0 \u001b[38;5;241m=\u001b[39m memm_pipeline\u001b[38;5;241m.\u001b[39mnamed_steps[\u001b[38;5;124m'\u001b[39m\u001b[38;5;124mclassifier\u001b[39m\u001b[38;5;124m'\u001b[39m]\u001b[38;5;241m.\u001b[39mpredict_log_proba(X_0)[\u001b[38;5;241m0\u001b[39m]\n",
      "File \u001b[1;32mc:\\users\\bhavi\\appdata\\local\\programs\\python\\python39\\lib\\site-packages\\sklearn\\utils\\_set_output.py:319\u001b[0m, in \u001b[0;36m_wrap_method_output.<locals>.wrapped\u001b[1;34m(self, X, *args, **kwargs)\u001b[0m\n\u001b[0;32m    317\u001b[0m \u001b[38;5;129m@wraps\u001b[39m(f)\n\u001b[0;32m    318\u001b[0m \u001b[38;5;28;01mdef\u001b[39;00m \u001b[38;5;21mwrapped\u001b[39m(\u001b[38;5;28mself\u001b[39m, X, \u001b[38;5;241m*\u001b[39margs, \u001b[38;5;241m*\u001b[39m\u001b[38;5;241m*\u001b[39mkwargs):\n\u001b[1;32m--> 319\u001b[0m     data_to_wrap \u001b[38;5;241m=\u001b[39m f(\u001b[38;5;28mself\u001b[39m, X, \u001b[38;5;241m*\u001b[39margs, \u001b[38;5;241m*\u001b[39m\u001b[38;5;241m*\u001b[39mkwargs)\n\u001b[0;32m    320\u001b[0m     \u001b[38;5;28;01mif\u001b[39;00m \u001b[38;5;28misinstance\u001b[39m(data_to_wrap, \u001b[38;5;28mtuple\u001b[39m):\n\u001b[0;32m    321\u001b[0m         \u001b[38;5;66;03m# only wrap the first output for cross decomposition\u001b[39;00m\n\u001b[0;32m    322\u001b[0m         return_tuple \u001b[38;5;241m=\u001b[39m (\n\u001b[0;32m    323\u001b[0m             _wrap_data_with_container(method, data_to_wrap[\u001b[38;5;241m0\u001b[39m], X, \u001b[38;5;28mself\u001b[39m),\n\u001b[0;32m    324\u001b[0m             \u001b[38;5;241m*\u001b[39mdata_to_wrap[\u001b[38;5;241m1\u001b[39m:],\n\u001b[0;32m    325\u001b[0m         )\n",
      "File \u001b[1;32mc:\\users\\bhavi\\appdata\\local\\programs\\python\\python39\\lib\\site-packages\\sklearn\\feature_extraction\\_dict_vectorizer.py:382\u001b[0m, in \u001b[0;36mDictVectorizer.transform\u001b[1;34m(self, X)\u001b[0m\n\u001b[0;32m    365\u001b[0m \u001b[38;5;28;01mdef\u001b[39;00m \u001b[38;5;21mtransform\u001b[39m(\u001b[38;5;28mself\u001b[39m, X):\n\u001b[0;32m    366\u001b[0m \u001b[38;5;250m    \u001b[39m\u001b[38;5;124;03m\"\"\"Transform feature->value dicts to array or sparse matrix.\u001b[39;00m\n\u001b[0;32m    367\u001b[0m \n\u001b[0;32m    368\u001b[0m \u001b[38;5;124;03m    Named features not encountered during fit or fit_transform will be\u001b[39;00m\n\u001b[1;32m   (...)\u001b[0m\n\u001b[0;32m    380\u001b[0m \u001b[38;5;124;03m        Feature vectors; always 2-d.\u001b[39;00m\n\u001b[0;32m    381\u001b[0m \u001b[38;5;124;03m    \"\"\"\u001b[39;00m\n\u001b[1;32m--> 382\u001b[0m     \u001b[43mcheck_is_fitted\u001b[49m\u001b[43m(\u001b[49m\u001b[38;5;28;43mself\u001b[39;49m\u001b[43m,\u001b[49m\u001b[43m \u001b[49m\u001b[43m[\u001b[49m\u001b[38;5;124;43m\"\u001b[39;49m\u001b[38;5;124;43mfeature_names_\u001b[39;49m\u001b[38;5;124;43m\"\u001b[39;49m\u001b[43m,\u001b[49m\u001b[43m \u001b[49m\u001b[38;5;124;43m\"\u001b[39;49m\u001b[38;5;124;43mvocabulary_\u001b[39;49m\u001b[38;5;124;43m\"\u001b[39;49m\u001b[43m]\u001b[49m\u001b[43m)\u001b[49m\n\u001b[0;32m    383\u001b[0m     \u001b[38;5;28;01mreturn\u001b[39;00m \u001b[38;5;28mself\u001b[39m\u001b[38;5;241m.\u001b[39m_transform(X, fitting\u001b[38;5;241m=\u001b[39m\u001b[38;5;28;01mFalse\u001b[39;00m)\n",
      "File \u001b[1;32mc:\\users\\bhavi\\appdata\\local\\programs\\python\\python39\\lib\\site-packages\\sklearn\\utils\\validation.py:1757\u001b[0m, in \u001b[0;36mcheck_is_fitted\u001b[1;34m(estimator, attributes, msg, all_or_any)\u001b[0m\n\u001b[0;32m   1754\u001b[0m     \u001b[38;5;28;01mreturn\u001b[39;00m\n\u001b[0;32m   1756\u001b[0m \u001b[38;5;28;01mif\u001b[39;00m \u001b[38;5;129;01mnot\u001b[39;00m _is_fitted(estimator, attributes, all_or_any):\n\u001b[1;32m-> 1757\u001b[0m     \u001b[38;5;28;01mraise\u001b[39;00m NotFittedError(msg \u001b[38;5;241m%\u001b[39m {\u001b[38;5;124m\"\u001b[39m\u001b[38;5;124mname\u001b[39m\u001b[38;5;124m\"\u001b[39m: \u001b[38;5;28mtype\u001b[39m(estimator)\u001b[38;5;241m.\u001b[39m\u001b[38;5;18m__name__\u001b[39m})\n",
      "\u001b[1;31mNotFittedError\u001b[0m: This DictVectorizer instance is not fitted yet. Call 'fit' with appropriate arguments before using this estimator."
     ]
    }
   ],
   "source": [
    "sample_test_encoded = test_sequences[0]\n",
    "sample_test_word_indices, sample_test_tag_indices = sample_test_encoded\n",
    "sample_test_words = [index_to_word.get(w_idx, '<UNK>') for w_idx in sample_test_word_indices]\n",
    "sample_true_tags = [index_to_tag.get(t_idx, '<UNK>') for t_idx in sample_test_tag_indices]\n",
    "\n",
    "predicted_tags_memm = viterbi_memm(sample_test_words, memm_pipeline, word_to_index, tag_to_index, index_to_tag)\n",
    "\n",
    "print(\"\\nMEMM Viterbi Decoding Example:\")\n",
    "print(\"Sentence:\", sample_test_words)\n",
    "print(\"True Tags:\", sample_true_tags)\n",
    "print(\"Predicted Tags (MEMM):\", predicted_tags_memm)"
   ]
  },
  {
   "cell_type": "markdown",
   "metadata": {},
   "source": [
    "Evaluate MEMM Viterbi decoding on the test set"
   ]
  },
  {
   "cell_type": "code",
   "execution_count": 40,
   "metadata": {},
   "outputs": [],
   "source": [
    "def evaluate_memm_viterbi(test_sequences, memm_pipeline, word_to_index, tag_to_index, index_to_tag):\n",
    "    correct_tags = 0\n",
    "    total_tags = 0\n",
    "    for word_indices, tag_indices in test_sequences:\n",
    "        sentence_words = [index_to_word.get(w_idx, '<UNK>') for w_idx in word_indices]\n",
    "        true_tags = [index_to_tag.get(t_idx, '<UNK>') for t_idx in tag_indices]\n",
    "\n",
    "        # Skip sentences with only padding or empty\n",
    "        if not sentence_words or all(word == '<UNK>' or word == '<PAD>' for word in sentence_words):\n",
    "            continue\n",
    "\n",
    "        predicted_tags = viterbi_memm(sentence_words, memm_pipeline, word_to_index, tag_to_index, index_to_tag)\n",
    "\n",
    "        # Compare predicted tags with true tags (ignoring padding)\n",
    "        for true_tag, predicted_tag in zip(true_tags, predicted_tags):\n",
    "            if true_tag != '<PAD>': # Do not count padding in accuracy calculation\n",
    "                 if true_tag == predicted_tag:\n",
    "                    correct_tags += 1\n",
    "                 total_tags += 1\n",
    "\n",
    "    accuracy = correct_tags / total_tags if total_tags > 0 else 0\n",
    "    return accuracy"
   ]
  },
  {
   "cell_type": "code",
   "execution_count": null,
   "metadata": {},
   "outputs": [],
   "source": [
    "memm_viterbi_accuracy = evaluate_memm_viterbi(test_sequences, memm_pipeline, word_to_index, tag_to_index, index_to_tag)\n",
    "print(f\"MEMM Viterbi accuracy on test set: {memm_viterbi_accuracy:.4f}\")"
   ]
  },
  {
   "cell_type": "markdown",
   "metadata": {},
   "source": [
    "## Model 2: Traditional HMM Baseline"
   ]
  },
  {
   "cell_type": "markdown",
   "metadata": {},
   "source": [
    "Creating HMM model"
   ]
  },
  {
   "cell_type": "code",
   "execution_count": null,
   "metadata": {},
   "outputs": [],
   "source": [
    "# Reconstruct word-tag sequences from encoded sequences for HMM\n",
    "train_word_tag_sequences = [\n",
    "    [(index_to_word.get(w_idx, '<UNK>'), index_to_tag.get(t_idx, '<UNK>'))\n",
    "     for w_idx, t_idx in zip(word_indices, tag_indices) if index_to_tag.get(t_idx, '<UNK>') != '<PAD>'] # Exclude padding\n",
    "    for word_indices, tag_indices in train_sequences\n",
    "    if any(index_to_tag.get(t_idx, '<UNK>') != '<PAD>' for t_idx in tag_indices) # Skip empty sentences after removing padding\n",
    "]"
   ]
  },
  {
   "cell_type": "code",
   "execution_count": null,
   "metadata": {},
   "outputs": [],
   "source": [
    "# Collect all tags and words from the training data (excluding padding)\n",
    "train_tags = [tag for sent in train_word_tag_sequences for word, tag in sent]\n",
    "train_words = [word for sent in train_word_tag_sequences for word, tag in sent]"
   ]
  },
  {
   "cell_type": "code",
   "execution_count": null,
   "metadata": {},
   "outputs": [],
   "source": [
    "# Count frequencies\n",
    "tag_counts = Counter(train_tags)\n",
    "word_tag_counts = Counter([(word, tag) for sent in train_word_tag_sequences for word, tag in sent])"
   ]
  },
  {
   "cell_type": "code",
   "execution_count": null,
   "metadata": {},
   "outputs": [],
   "source": [
    "# Calculate transition probabilities P(tag_i | tag_{i-1})\n",
    "transition_counts = Counter()\n",
    "for sent in train_word_tag_sequences:\n",
    "    # Add a virtual start tag\n",
    "    sentence_tags = ['<START>'] + [tag for word, tag in sent]\n",
    "    for i in range(1, len(sentence_tags)):\n",
    "        transition_counts[(sentence_tags[i-1], sentence_tags[i])] += 1"
   ]
  },
  {
   "cell_type": "code",
   "execution_count": null,
   "metadata": {},
   "outputs": [],
   "source": [
    "# Add a virtual start tag count for calculating probabilities from START\n",
    "tag_counts['<START>'] = len(train_word_tag_sequences) # Number of sentences\n",
    "\n",
    "transition_probabilities = {}\n",
    "for (tag1, tag2), count in transition_counts.items():\n",
    "    transition_probabilities[(tag1, tag2)] = count / tag_counts[tag1]"
   ]
  },
  {
   "cell_type": "code",
   "execution_count": null,
   "metadata": {},
   "outputs": [],
   "source": [
    "# Calculate emission probabilities P(word | tag)\n",
    "emission_probabilities = {}\n",
    "for (word, tag), count in word_tag_counts.items():\n",
    "    emission_probabilities[(word, tag)] = count / tag_counts[tag]"
   ]
  },
  {
   "cell_type": "code",
   "execution_count": null,
   "metadata": {},
   "outputs": [],
   "source": [
    "# Implement smoothing for unseen word-tag combinations (Add-k smoothing)\n",
    "k_smoothing = 0.1 # Small smoothing value\n",
    "all_words_set = set(train_words)\n",
    "all_tags_set = set(train_tags) # Excludes <START>\n",
    "vocabulary_size_hmm = len(all_words_set)\n",
    "num_tags_hmm = len(all_tags_set)\n"
   ]
  },
  {
   "cell_type": "code",
   "execution_count": null,
   "metadata": {},
   "outputs": [],
   "source": [
    "# Smoothed emission probabilities\n",
    "smoothed_emission_probabilities = {}\n",
    "# Iterate over all possible (word, tag) pairs to apply smoothing\n",
    "for word in all_words_set:\n",
    "    for tag in all_tags_set:\n",
    "        count = word_tag_counts.get((word, tag), 0)\n",
    "        tag_count = tag_counts.get(tag, 0) # Use 0 if tag somehow isn't in counts (shouldn't happen with how we collected train_tags)\n",
    "        # Apply add-k smoothing: (count + k) / (total_count_of_tag + k * vocabulary_size)\n",
    "        smoothed_emission_probabilities[(word, tag)] = (count + k_smoothing) / (tag_count + k_smoothing * vocabulary_size_hmm)\n"
   ]
  },
  {
   "cell_type": "code",
   "execution_count": null,
   "metadata": {},
   "outputs": [],
   "source": [
    "# For words not seen in training, use a small probability or handle specifically during Viterbi\n",
    "# We'll handle unseen words during Viterbi by giving them a small default emission probability.\n",
    "default_unseen_emission_prob = k_smoothing / (num_tags_hmm + k_smoothing * vocabulary_size_hmm) # A very small value\n"
   ]
  },
  {
   "cell_type": "code",
   "execution_count": null,
   "metadata": {},
   "outputs": [],
   "source": [
    "# Implement Viterbi algorithm for HMM\n",
    "def viterbi_hmm(sentence_words, transition_probabilities, emission_probabilities, tag_counts, all_tags_set, default_unseen_emission_prob):\n",
    "    \"\"\"\n",
    "    Performs Viterbi decoding for HMM.\n",
    "\n",
    "    Args:\n",
    "        sentence_words (list): A list of words in the sentence.\n",
    "        transition_probabilities (dict): P(tag_i | tag_{i-1}).\n",
    "        emission_probabilities (dict): P(word | tag).\n",
    "        tag_counts (Counter): Counts of each tag.\n",
    "        all_tags_set (set): Set of all unique tags.\n",
    "        default_unseen_emission_prob (float): Probability for unseen word-tag pairs.\n",
    "\n",
    "    Returns:\n",
    "        list: The predicted sequence of tags for the sentence.\n",
    "    \"\"\"\n",
    "    num_tags = len(all_tags_set)\n",
    "    tags_list = sorted(list(all_tags_set)) # Ordered list of tags\n",
    "    tag_to_idx_hmm = {tag: i for i, tag in enumerate(tags_list)}\n",
    "    idx_to_tag_hmm = {i: tag for tag, i in tag_to_idx_hmm.items()}\n",
    "\n",
    "    sentence_length = len(sentence_words)\n",
    "\n",
    "    if sentence_length == 0:\n",
    "        return []\n",
    "\n",
    "    # Initialize DP table (delta[i][k] = max probability of a tag sequence ending with tag k at word i)\n",
    "    delta = np.zeros((sentence_length, num_tags))\n",
    "    # Initialize backpointer table (psi[i][k] = index of the previous tag that maximizes probability)\n",
    "    psi = np.zeros((sentence_length, num_tags), dtype=int)\n",
    "\n",
    "    # For the first word (i=0)\n",
    "    word_0 = sentence_words[0]\n",
    "    for k_idx, tag_k in enumerate(tags_list):\n",
    "        # P(tag_0 = k | <START>) * P(word_0 | tag_0 = k)\n",
    "        prob_start_to_k = transition_probabilities.get(('<START>', tag_k), 0) # Use 0 if no transition from START\n",
    "        prob_emit_word0_from_k = emission_probabilities.get((word_0, tag_k), default_unseen_emission_prob)\n",
    "\n",
    "        delta[0][k_idx] = prob_start_to_k * prob_emit_word0_from_k\n",
    "\n",
    "    # For words i = 1 to sentence_length - 1\n",
    "    for i in range(1, sentence_length):\n",
    "        current_word = sentence_words[i]\n",
    "        for k_idx, tag_k in enumerate(tags_list): # Iterate over possible current tags tag_k\n",
    "             # Probability of emitting the current word from the current tag tag_k\n",
    "            prob_emit_wordi_from_k = emission_probabilities.get((current_word, tag_k), default_unseen_emission_prob)\n",
    "\n",
    "            max_prob = -1.0\n",
    "            best_prev_tag_idx = -1\n",
    "\n",
    "            for j_idx, tag_j in enumerate(tags_list): # Iterate over possible previous tags tag_j\n",
    "                # Probability of transitioning from previous tag tag_j to current tag tag_k\n",
    "                prob_transition_j_to_k = transition_probabilities.get((tag_j, tag_k), 0) # Use 0 for unseen transitions\n",
    "\n",
    "                # Probability of the path ending with tag tag_j at i-1 and tag tag_k at i\n",
    "                current_path_prob = delta[i-1][j_idx] * prob_transition_j_to_k * prob_emit_wordi_from_k\n",
    "\n",
    "                if current_path_prob > max_prob:\n",
    "                    max_prob = current_path_prob\n",
    "                    best_prev_tag_idx = j_idx\n",
    "\n",
    "            delta[i][k_idx] = max_prob\n",
    "            psi[i][k_idx] = best_prev_tag_idx\n",
    "\n",
    "    # Backtrack to find the best tag sequence\n",
    "    best_sequence_indices = [0] * sentence_length\n",
    "\n",
    "    # Find the index of the last tag (tag at sentence_length - 1) with the highest probability\n",
    "    best_last_tag_idx_in_list = np.argmax(delta[sentence_length - 1, :])\n",
    "    best_sequence_indices[sentence_length - 1] = best_last_tag_idx_in_list\n",
    "\n",
    "    # Backtrack from sentence_length - 2 down to 0\n",
    "    for i in range(sentence_length - 2, -1, -1):\n",
    "        best_sequence_indices[i] = psi[i+1][best_sequence_indices[i+1]]\n",
    "\n",
    "    # Convert tag indices back to tag strings\n",
    "    predicted_tags = [idx_to_tag_hmm.get(idx, '<UNK>') for idx in best_sequence_indices]\n",
    "\n",
    "    return predicted_tags\n"
   ]
  },
  {
   "cell_type": "code",
   "execution_count": null,
   "metadata": {},
   "outputs": [],
   "source": [
    "# Evaluate HMM Viterbi decoding on the test set\n",
    "def evaluate_hmm_viterbi(test_sequences, transition_probabilities, emission_probabilities, tag_counts, all_tags_set, default_unseen_emission_prob, index_to_word, index_to_tag):\n",
    "    correct_tags = 0\n",
    "    total_tags = 0\n",
    "    for word_indices, tag_indices in test_sequences:\n",
    "        sentence_words = [index_to_word.get(w_idx, '<UNK>') for w_idx in word_indices]\n",
    "        true_tags = [index_to_tag.get(t_idx, '<UNK>') for t_idx in tag_indices]\n",
    "\n",
    "         # Skip sentences with only padding or empty\n",
    "        if not sentence_words or all(word == '<UNK>' or word == '<PAD>' for word in sentence_words):\n",
    "            continue\n",
    "\n",
    "        # Remove padding tags from true tags for evaluation comparison\n",
    "        true_tags_filtered = [tag for tag in true_tags if tag != '<PAD>']\n",
    "        sentence_words_filtered = [word for word, tag in zip(sentence_words, true_tags) if tag != '<PAD>']\n",
    "\n",
    "\n",
    "        if not sentence_words_filtered: # Skip if sentence is empty after filtering\n",
    "             continue\n",
    "\n",
    "        predicted_tags = viterbi_hmm(sentence_words_filtered, transition_probabilities, emission_probabilities, tag_counts, all_tags_set, default_unseen_emission_prob)\n",
    "\n",
    "        # Ensure predicted_tags and true_tags_filtered have the same length\n",
    "        # This should be true if viterbi_hmm returns a tag for every word\n",
    "        if len(predicted_tags) != len(true_tags_filtered):\n",
    "            print(f\"Warning: Length mismatch between predicted ({len(predicted_tags)}) and true ({len(true_tags_filtered)}) tags. Skipping sentence.\")\n",
    "            continue\n",
    "\n",
    "        # Compare predicted tags with true tags\n",
    "        for true_tag, predicted_tag in zip(true_tags_filtered, predicted_tags):\n",
    "            if true_tag == predicted_tag:\n",
    "                correct_tags += 1\n",
    "            total_tags += 1\n",
    "\n",
    "    accuracy = correct_tags / total_tags if total_tags > 0 else 0\n",
    "    return accuracy\n"
   ]
  },
  {
   "cell_type": "code",
   "execution_count": null,
   "metadata": {},
   "outputs": [],
   "source": [
    "# Evaluate HMM Viterbi decoding on the test set\n",
    "print(\"\\nEvaluating HMM Viterbi accuracy on test set...\")\n",
    "hmm_viterbi_accuracy = evaluate_hmm_viterbi(test_sequences, transition_probabilities, smoothed_emission_probabilities, tag_counts, all_tags_set, default_unseen_emission_prob, index_to_word, index_to_tag)\n",
    "print(f\"HMM Viterbi accuracy on test set: {hmm_viterbi_accuracy:.4f}\")\n"
   ]
  },
  {
   "cell_type": "markdown",
   "metadata": {},
   "source": [
    "## Model 3: Neural Network POS Tagger"
   ]
  },
  {
   "cell_type": "code",
   "execution_count": null,
   "metadata": {},
   "outputs": [],
   "source": [
    "# Parameters for the neural network\n",
    "embedding_dim = 50\n",
    "lstm_units = 64\n",
    "dense_units = 128\n",
    "vocab_size_nn = len(word_to_index)\n",
    "num_tags_nn = len(tag_to_index)"
   ]
  },
  {
   "cell_type": "code",
   "execution_count": null,
   "metadata": {},
   "outputs": [],
   "source": [
    "# Find the maximum sentence length for padding\n",
    "max_len = max(len(word_indices) for word_indices, _ in encoded_sequences)\n",
    "print(f\"Maximum sentence length for padding: {max_len}\")\n"
   ]
  },
  {
   "cell_type": "code",
   "execution_count": null,
   "metadata": {},
   "outputs": [],
   "source": [
    "# Pad sequences\n",
    "X_train_nn = pad_sequences([seq[0] for seq in train_sequences], maxlen=max_len, padding='post')\n",
    "y_train_nn = pad_sequences([seq[1] for seq in train_sequences], maxlen=max_len, padding='post')\n",
    "\n",
    "X_val_nn = pad_sequences([seq[0] for seq in val_sequences], maxlen=max_len, padding='post')\n",
    "y_val_nn = pad_sequences([seq[1] for seq in val_sequences], maxlen=max_len, padding='post')\n",
    "\n",
    "X_test_nn = pad_sequences([seq[0] for seq in test_sequences], maxlen=max_len, padding='post')\n",
    "y_test_nn = pad_sequences([seq[1] for seq in test_sequences], maxlen=max_len, padding='post')\n"
   ]
  },
  {
   "cell_type": "code",
   "execution_count": null,
   "metadata": {},
   "outputs": [],
   "source": [
    "# Convert tags to one-hot encoding\n",
    "# We need to one-hot encode the target sequences.\n",
    "# The output layer predicts the probability distribution over tags for each word in the sequence.\n",
    "# The shape should be (num_samples, max_len, num_tags_nn)\n",
    "y_train_nn_one_hot = to_categorical(y_train_nn, num_classes=num_tags_nn)\n",
    "y_val_nn_one_hot = to_categorical(y_val_nn, num_classes=num_tags_nn)\n",
    "y_test_nn_one_hot = to_categorical(y_test_nn, num_classes=num_tags_nn)\n"
   ]
  },
  {
   "cell_type": "code",
   "execution_count": null,
   "metadata": {},
   "outputs": [],
   "source": [
    "# Build the Neural Network Model\n",
    "model = Sequential()\n",
    "\n",
    "# Embedding layer\n",
    "model.add(Embedding(input_dim=vocab_size_nn, output_dim=embedding_dim, input_length=max_len))\n",
    "\n",
    "# LSTM layers\n",
    "# Using Bidirectional LSTM can often capture context from both directions\n",
    "model.add(Bidirectional(LSTM(lstm_units, return_sequences=True)))\n",
    "model.add(Bidirectional(LSTM(lstm_units, return_sequences=True))) # return_sequences=True to output sequence for the next layer\n",
    "\n",
    "# Dense layers\n",
    "model.add(Dense(dense_units, activation='relu'))\n",
    "model.add(Dropout(0.5)) # Add dropout for regularization\n",
    "model.add(Dense(dense_units, activation='relu'))\n",
    "model.add(Dropout(0.5))\n",
    "model.add(Dense(dense_units, activation='relu'))\n",
    "model.add(Dropout(0.5))\n",
    "\n",
    "# Output layer\n",
    "# For each word in the sequence, we want to predict the probability distribution over tags\n",
    "# Shape: (batch_size, max_len, num_tags_nn)\n",
    "model.add(Dense(num_tags_nn, activation='softmax'))\n"
   ]
  },
  {
   "cell_type": "code",
   "execution_count": null,
   "metadata": {},
   "outputs": [],
   "source": [
    "# Compile the model\n",
    "# Using Adam optimizer and categorical crossentropy loss for multi-class classification\n",
    "model.compile(optimizer='adam',\n",
    "              loss='categorical_crossentropy',\n",
    "              metrics=['accuracy']) # Accuracy is a good metric for this task\n"
   ]
  },
  {
   "cell_type": "code",
   "execution_count": null,
   "metadata": {},
   "outputs": [],
   "source": [
    "model.summary()"
   ]
  },
  {
   "cell_type": "code",
   "execution_count": null,
   "metadata": {},
   "outputs": [],
   "source": [
    "# Train the model\n",
    "epochs = 30\n",
    "batch_size = 64\n",
    "\n",
    "print(\"\\nTraining Neural Network POS Tagger...\")\n",
    "history = model.fit(X_train_nn, y_train_nn_one_hot,\n",
    "                    epochs=epochs,\n",
    "                    batch_size=batch_size,\n",
    "                    validation_data=(X_val_nn, y_val_nn_one_hot))\n",
    "print(\"Neural Network POS Tagger training complete.\")\n"
   ]
  },
  {
   "cell_type": "code",
   "execution_count": null,
   "metadata": {},
   "outputs": [],
   "source": [
    "# Evaluate the model on the test set\n",
    "print(\"\\nEvaluating Neural Network POS Tagger on test set...\")\n",
    "loss, accuracy = model.evaluate(X_test_nn, y_test_nn_one_hot, batch_size=batch_size)\n",
    "print(f\"Neural Network POS Tagger Test Loss: {loss:.4f}\")\n",
    "print(f\"Neural Network POS Tagger Test Accuracy: {accuracy:.4f}\")"
   ]
  },
  {
   "cell_type": "code",
   "execution_count": null,
   "metadata": {},
   "outputs": [],
   "source": [
    "\n",
    "# Note on accuracy: The Keras accuracy calculates the percentage of words\n",
    "# for which the predicted tag matches the true tag, including padded positions.\n",
    "# A more accurate evaluation would ignore padding.\n",
    "\n",
    "def evaluate_nn_accuracy(model, X, y_true, index_to_tag):\n",
    "    \"\"\"\n",
    "    Evaluates the neural network model accuracy, ignoring padding.\n",
    "    \"\"\"\n",
    "    y_pred = model.predict(X)\n",
    "    y_pred_tags_indices = np.argmax(y_pred, axis=-1)\n",
    "    y_true_tags_indices = np.argmax(y_true, axis=-1)\n",
    "\n",
    "    correct_tags = 0\n",
    "    total_tags = 0\n",
    "\n",
    "    for true_seq, pred_seq in zip(y_true_tags_indices, y_pred_tags_indices):\n",
    "        for true_tag_idx, pred_tag_idx in zip(true_seq, pred_seq):\n",
    "            # Check if the true tag is NOT the padding tag index\n",
    "            if index_to_tag.get(true_tag_idx, '<UNK>') != '<PAD>':\n",
    "                if true_tag_idx == pred_tag_idx:\n",
    "                    correct_tags += 1\n",
    "                total_tags += 1\n",
    "\n",
    "    accuracy = correct_tags / total_tags if total_tags > 0 else 0\n",
    "    return accuracy\n"
   ]
  },
  {
   "cell_type": "code",
   "execution_count": null,
   "metadata": {},
   "outputs": [],
   "source": [
    "# Evaluate with custom function ignoring padding\n",
    "nn_accuracy_no_padding = evaluate_nn_accuracy(model, X_test_nn, y_test_nn_one_hot, index_to_tag)\n",
    "print(f\"Neural Network POS Tagger Test Accuracy (ignoring padding): {nn_accuracy_no_padding:.4f}\")\n"
   ]
  },
  {
   "cell_type": "code",
   "execution_count": null,
   "metadata": {},
   "outputs": [],
   "source": [
    "# Make predictions with the Neural Network model\n",
    "# Example prediction on a sample test sentence\n",
    "sample_test_X_nn = X_test_nn[0:1] # Predict for the first test sentence (as a batch of 1)\n",
    "sample_test_true_tags_nn = [index_to_tag.get(idx, '<UNK>') for idx in y_test_nn[0] if index_to_tag.get(idx, '<UNK>') != '<PAD>']\n",
    "\n",
    "predicted_probs_nn = model.predict(sample_test_X_nn)\n",
    "predicted_tags_indices_nn = np.argmax(predicted_probs_nn, axis=-1) # Get the index with the highest probability for each word\n",
    "predicted_tags_nn = [index_to_tag.get(idx, '<UNK>') for idx in predicted_tags_indices_nn[0]] # Get the tag strings for the first sentence\n"
   ]
  },
  {
   "cell_type": "code",
   "execution_count": null,
   "metadata": {},
   "outputs": [],
   "source": [
    "# Filter out padding from predicted tags based on true tags (for comparison)\n",
    "predicted_tags_nn_filtered = [pred_tag for pred_tag, true_tag_idx in zip(predicted_tags_nn, y_test_nn[0]) if index_to_tag.get(true_tag_idx, '<UNK>') != '<PAD>']\n",
    "sample_test_words_filtered = [index_to_word.get(idx, '<UNK>') for idx in X_test_nn[0] if index_to_tag.get(y_test_nn[0][np.where(X_test_nn[0] == idx)[0][0]], '<UNK>') != '<PAD>']\n"
   ]
  },
  {
   "cell_type": "code",
   "execution_count": null,
   "metadata": {},
   "outputs": [],
   "source": [
    "print(\"\\nNeural Network POS Tagger Prediction Example:\")\n",
    "print(\"Sentence (first test sentence):\", sample_test_words_filtered)\n",
    "print(\"True Tags:\", sample_test_true_tags_nn)\n",
    "print(\"Predicted Tags (NN):\", predicted_tags_nn_filtered)"
   ]
  }
 ],
 "metadata": {
  "colab": {
   "provenance": []
  },
  "kernelspec": {
   "display_name": "Python 3 (ipykernel)",
   "language": "python",
   "name": "python3"
  },
  "language_info": {
   "codemirror_mode": {
    "name": "ipython",
    "version": 3
   },
   "file_extension": ".py",
   "mimetype": "text/x-python",
   "name": "python",
   "nbconvert_exporter": "python",
   "pygments_lexer": "ipython3",
   "version": "3.9.5"
  }
 },
 "nbformat": 4,
 "nbformat_minor": 4
}
